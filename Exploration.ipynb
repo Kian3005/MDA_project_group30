{
 "cells": [
  {
   "cell_type": "code",
   "execution_count": 148,
   "id": "901a6358",
   "metadata": {},
   "outputs": [
    {
     "name": "stderr",
     "output_type": "stream",
     "text": [
      "c:\\Users\\kian3\\OneDrive - KU Leuven\\Documents\\lessen\\MDA\\Project\\project\\Lib\\site-packages\\openpyxl\\styles\\stylesheet.py:237: UserWarning: Workbook contains no default style, apply openpyxl's default\n",
      "  warn(\"Workbook contains no default style, apply openpyxl's default\")\n"
     ]
    }
   ],
   "source": [
    "import pandas as pd\n",
    "\n",
    "dfp = pd.read_excel(r\"C:\\Users\\kian3\\OneDrive - KU Leuven\\Documents\\lessen\\MDA\\Project\\cordis-HORIZONprojects-xlsx\\project.xlsx\")\n",
    "dfo = pd.read_excel(r\"C:\\Users\\kian3\\OneDrive - KU Leuven\\Documents\\lessen\\MDA\\Project\\cordis-HORIZONprojects-xlsx\\organization.xlsx\")"
   ]
  },
  {
   "cell_type": "code",
   "execution_count": 149,
   "id": "aa5b4e3b",
   "metadata": {},
   "outputs": [],
   "source": [
    "dfoutput1 = pd.read_excel(r\"C:\\Users\\kian3\\OneDrive - KU Leuven\\Documents\\lessen\\MDA\\Project\\project_output_part_1.xlsx\")\n",
    "dfoutput2 = pd.read_excel(r\"C:\\Users\\kian3\\OneDrive - KU Leuven\\Documents\\lessen\\MDA\\Project\\project_output_part_2.xlsx\")"
   ]
  },
  {
   "cell_type": "code",
   "execution_count": 150,
   "id": "5e437f6c",
   "metadata": {},
   "outputs": [
    {
     "name": "stdout",
     "output_type": "stream",
     "text": [
      "              id                                          objective  \\\n",
      "0      101116741  How do longstanding, primarily non-industrial,...   \n",
      "1      101163161  The James Webb Space Telescope (JWST) has ushe...   \n",
      "2      101160499  The spatiotemporal organization of the cell ma...   \n",
      "3      101166905  The Milky Way is the cosmic environment in whi...   \n",
      "4      101162875  Cellular organisms are complex machines whose ...   \n",
      "...          ...                                                ...   \n",
      "15336  101114220  The primary objective of the work performed wi...   \n",
      "15337  101114193  Bibi Blomqvist co-founder and COO of Cogo ApS....   \n",
      "15338  101114191  In Women TechEU, HORIZER aims, over the next 9...   \n",
      "15339  101114035  A product recall is the process of retrieving ...   \n",
      "15340  101121353  Engage2innovate (E2i) will investigate and add...   \n",
      "\n",
      "                                             main_topics  \\\n",
      "0      ['digital technologies', 'economic diversity',...   \n",
      "1      ['Astrochemistry', 'Quantum Dynamics', 'Infrar...   \n",
      "2      ['biophysics', 'molecular biology', 'computati...   \n",
      "3        ['Galactic cartography', 'Milky Way structure']   \n",
      "4      ['Nanosensing', 'Biological parameters monitor...   \n",
      "...                                                  ...   \n",
      "15336  ['innovation', 'product development', 'technol...   \n",
      "15337  ['shared mobility', 'sustainability', 'urban t...   \n",
      "15338  ['business model testing', 'market research', ...   \n",
      "15339  ['product recall', 'risk assessment', 'consume...   \n",
      "15340  ['security research', 'social innovation', 'hu...   \n",
      "\n",
      "             scientific_domain          problem_type  \\\n",
      "0                 Anthropology  fundamental research   \n",
      "1                      Physics  fundamental research   \n",
      "2                      biology  fundamental research   \n",
      "3                 Astrophysics  fundamental research   \n",
      "4                Biotechnology  fundamental research   \n",
      "...                        ...                   ...   \n",
      "15336               technology      applied research   \n",
      "15337           transportation      applied research   \n",
      "15338                   energy      applied research   \n",
      "15339  business and innovation      applied research   \n",
      "15340         Computer Science      applied research   \n",
      "\n",
      "                     expected_impact  sustainability  \\\n",
      "0           ['societal', 'economic']             0.0   \n",
      "1      ['technological', 'societal']             0.0   \n",
      "2      ['societal', 'technological']             0.0   \n",
      "3      ['technological', 'societal']             0.0   \n",
      "4      ['societal', 'technological']             0.0   \n",
      "...                              ...             ...   \n",
      "15336  ['technological', 'economic']             0.0   \n",
      "15337  ['societal', 'environmental']             1.0   \n",
      "15338  ['societal', 'technological']             0.0   \n",
      "15339       ['societal', 'economic']             0.0   \n",
      "15340  ['societal', 'technological']             0.0   \n",
      "\n",
      "                                        semantic_summary  \n",
      "0      This project explores how non-industrial socie...  \n",
      "1      The project aims to revolutionize astrochemist...  \n",
      "2      The project 'In-phase' aims to develop a compu...  \n",
      "3      The project aims to create a comprehensive thr...  \n",
      "4      The MAtCHLESS project aims to develop a reliab...  \n",
      "...                                                  ...  \n",
      "15336  The project aims to bring innovation to a stag...  \n",
      "15337  The project aims to revolutionize urban transp...  \n",
      "15338  HORIZER's Women TechEU project aims to transfo...  \n",
      "15339  The project focuses on developing iComplai, a ...  \n",
      "15340  Engage2innovate (E2i) focuses on addressing ba...  \n",
      "\n",
      "[15341 rows x 8 columns]\n"
     ]
    }
   ],
   "source": [
    "df_full_output= pd.concat([dfoutput1, dfoutput2], axis=0, ignore_index=True, verify_integrity=True)\n",
    "print(df_full_output)\n"
   ]
  },
  {
   "cell_type": "code",
   "execution_count": 151,
   "id": "d350aefe",
   "metadata": {},
   "outputs": [
    {
     "name": "stdout",
     "output_type": "stream",
     "text": [
      "   projectID projectAcronym  organisationID       vatNumber  \\\n",
      "0  101116741            DOE       999981634  NL811383696B01   \n",
      "1  101163161        IRASTRO       999997736      DK31119103   \n",
      "2  101163161        IRASTRO       999854855     DE138408327   \n",
      "3  101163161        IRASTRO       999990267     DE129517720   \n",
      "4  101160499       In-phase       999874546     ESQ2818014I   \n",
      "\n",
      "                                                name shortName    SME  \\\n",
      "0                              WAGENINGEN UNIVERSITY        WU  False   \n",
      "1                                 AARHUS UNIVERSITET        AU  False   \n",
      "2                               UNIVERSITAET POTSDAM        UP  False   \n",
      "3  MAX-PLANCK-GESELLSCHAFT ZUR FORDERUNG DER WISS...       MPG  False   \n",
      "4                  UNIVERSIDAD COMPLUTENSE DE MADRID       UCM  False   \n",
      "\n",
      "  activityType                street postCode  ...  \\\n",
      "0          HES  DROEVENDAALSESTEEG 4  6708 PB  ...   \n",
      "1          HES     NORDRE RINGGADE 1     8000  ...   \n",
      "2          HES   AM NEUEN PALAIS  10    14469  ...   \n",
      "3          REC    HOFGARTENSTRASSE 8    80539  ...   \n",
      "4          HES   AVENIDA DE SENECA 2    28040  ...   \n",
      "\n",
      "                                         contactForm    contentUpdateDate  \\\n",
      "0  https://ec.europa.eu/info/funding-tenders/oppo...  2023-12-26 14:40:12   \n",
      "1  https://ec.europa.eu/info/funding-tenders/oppo...  2025-02-24 17:23:14   \n",
      "2  https://ec.europa.eu/info/funding-tenders/oppo...  2025-02-24 17:23:14   \n",
      "3  https://ec.europa.eu/info/funding-tenders/oppo...  2025-02-24 17:23:14   \n",
      "4  https://ec.europa.eu/info/funding-tenders/oppo...  2025-02-24 17:23:11   \n",
      "\n",
      "       rcn order         role ecContribution netEcContribution  totalCost  \\\n",
      "0  1906458     1  coordinator      1499998.0         1499998.0    1499998   \n",
      "1  1905956     2  participant      4246240.0         4246240.0    4246240   \n",
      "2  1908936     3  participant      1982813.0         1982813.0    1982813   \n",
      "3  1949732     1  coordinator      5856310.0         5856310.0    5856310   \n",
      "4  1906229     1  coordinator      1489128.0         1489128.0    1489128   \n",
      "\n",
      "   endOfParticipation active  \n",
      "0               False    NaN  \n",
      "1               False    NaN  \n",
      "2               False    NaN  \n",
      "3               False    NaN  \n",
      "4               False    NaN  \n",
      "\n",
      "[5 rows x 25 columns]\n"
     ]
    }
   ],
   "source": [
    "print(dfo.head())"
   ]
  },
  {
   "cell_type": "code",
   "execution_count": 196,
   "id": "06d4200a",
   "metadata": {},
   "outputs": [
    {
     "name": "stdout",
     "output_type": "stream",
     "text": [
      "(15341, 20)\n",
      "(100249, 25)\n",
      "               id   acronym  status  \\\n",
      "0       101116741       DOE  SIGNED   \n",
      "1       101163161   IRASTRO  SIGNED   \n",
      "2       101163161   IRASTRO  SIGNED   \n",
      "3       101163161   IRASTRO  SIGNED   \n",
      "4       101160499  In-phase  SIGNED   \n",
      "...           ...       ...     ...   \n",
      "100244  101121353       E2i  SIGNED   \n",
      "100245  101121353       E2i  SIGNED   \n",
      "100246  101121353       E2i  SIGNED   \n",
      "100247  101121353       E2i  SIGNED   \n",
      "100248  101121353       E2i  SIGNED   \n",
      "\n",
      "                                                    title   startDate  \\\n",
      "0       Digitizing Other Economies: A Comparative Appr...  2024-02-01   \n",
      "1       MOLECULAR QUANTUM DYNAMICS IN LOW TEMPERATURE ...  2025-08-01   \n",
      "2       MOLECULAR QUANTUM DYNAMICS IN LOW TEMPERATURE ...  2025-08-01   \n",
      "3       MOLECULAR QUANTUM DYNAMICS IN LOW TEMPERATURE ...  2025-08-01   \n",
      "4       Multiscale modelling of aberrant phase transit...  2025-06-01   \n",
      "...                                                   ...         ...   \n",
      "100244  Engage2innovate – Enhancing security solution ...  2023-08-01   \n",
      "100245  Engage2innovate – Enhancing security solution ...  2023-08-01   \n",
      "100246  Engage2innovate – Enhancing security solution ...  2023-08-01   \n",
      "100247  Engage2innovate – Enhancing security solution ...  2023-08-01   \n",
      "100248  Engage2innovate – Enhancing security solution ...  2023-08-01   \n",
      "\n",
      "           endDate totalCost_x ecMaxContribution   legalBasis  \\\n",
      "0       2029-01-31     1499998           1499998  HORIZON.1.1   \n",
      "1       2031-07-31    12085363          12085363  HORIZON.1.1   \n",
      "2       2031-07-31    12085363          12085363  HORIZON.1.1   \n",
      "3       2031-07-31    12085363          12085363  HORIZON.1.1   \n",
      "4       2030-05-31     1489128           1489128  HORIZON.1.1   \n",
      "...            ...         ...               ...          ...   \n",
      "100244  2027-03-31     1286125           1286125  HORIZON.2.3   \n",
      "100245  2027-03-31     1286125           1286125  HORIZON.2.3   \n",
      "100246  2027-03-31     1286125           1286125  HORIZON.2.3   \n",
      "100247  2027-03-31     1286125           1286125  HORIZON.2.3   \n",
      "100248  2027-03-31     1286125           1286125  HORIZON.2.3   \n",
      "\n",
      "                             topics  ...  \\\n",
      "0                      ERC-2023-STG  ...   \n",
      "1                      ERC-2024-SyG  ...   \n",
      "2                      ERC-2024-SyG  ...   \n",
      "3                      ERC-2024-SyG  ...   \n",
      "4                      ERC-2024-STG  ...   \n",
      "...                             ...  ...   \n",
      "100244  HORIZON-CL3-2022-SSRI-01-04  ...   \n",
      "100245  HORIZON-CL3-2022-SSRI-01-04  ...   \n",
      "100246  HORIZON-CL3-2022-SSRI-01-04  ...   \n",
      "100247  HORIZON-CL3-2022-SSRI-01-04  ...   \n",
      "100248  HORIZON-CL3-2022-SSRI-01-04  ...   \n",
      "\n",
      "                                              contactForm  \\\n",
      "0       https://ec.europa.eu/info/funding-tenders/oppo...   \n",
      "1       https://ec.europa.eu/info/funding-tenders/oppo...   \n",
      "2       https://ec.europa.eu/info/funding-tenders/oppo...   \n",
      "3       https://ec.europa.eu/info/funding-tenders/oppo...   \n",
      "4       https://ec.europa.eu/info/funding-tenders/oppo...   \n",
      "...                                                   ...   \n",
      "100244  https://ec.europa.eu/info/funding-tenders/oppo...   \n",
      "100245  https://ec.europa.eu/info/funding-tenders/oppo...   \n",
      "100246  https://ec.europa.eu/info/funding-tenders/oppo...   \n",
      "100247  https://ec.europa.eu/info/funding-tenders/oppo...   \n",
      "100248  https://ec.europa.eu/info/funding-tenders/oppo...   \n",
      "\n",
      "        contentUpdateDate_y    rcn_y order               role  ecContribution  \\\n",
      "0       2023-12-26 14:40:12  1906458     1        coordinator      1499998.00   \n",
      "1       2025-02-24 17:23:14  1905956     2        participant      4246240.00   \n",
      "2       2025-02-24 17:23:14  1908936     3        participant      1982813.00   \n",
      "3       2025-02-24 17:23:14  1949732     1        coordinator      5856310.00   \n",
      "4       2025-02-24 17:23:11  1906229     1        coordinator      1489128.00   \n",
      "...                     ...      ...   ...                ...             ...   \n",
      "100244  2023-08-10 18:08:28  1946979     5  associatedPartner             NaN   \n",
      "100245  2023-08-10 18:08:28  1946983     4        participant       311172.50   \n",
      "100246  2023-08-10 18:08:28  1946981     3        participant       262848.75   \n",
      "100247  2023-08-10 18:08:28  1933629     2        participant       358562.50   \n",
      "100248  2023-08-10 18:08:28  1909673     6  associatedPartner             NaN   \n",
      "\n",
      "       netEcContribution totalCost_y  endOfParticipation active  \n",
      "0             1499998.00     1499998               False    NaN  \n",
      "1             4246240.00     4246240               False    NaN  \n",
      "2             1982813.00     1982813               False    NaN  \n",
      "3             5856310.00     5856310               False    NaN  \n",
      "4             1489128.00     1489128               False    NaN  \n",
      "...                  ...         ...                 ...    ...  \n",
      "100244              0.00           0               False    NaN  \n",
      "100245         311172.50    311172,5               False    NaN  \n",
      "100246         262848.75   262848,75               False    NaN  \n",
      "100247         358562.50    358562,5               False    NaN  \n",
      "100248              0.00           0               False    NaN  \n",
      "\n",
      "[100249 rows x 52 columns]\n"
     ]
    }
   ],
   "source": [
    "print(dfp.shape)\n",
    "print(dfo.shape)\n",
    "# One to one merge dfp and df_full_output\n",
    "newdf = dfp.merge(df_full_output, on=\"id\")\n",
    "### One to many merge newdf and dfo, except 100249 rows in fulldf\n",
    "fulldf = newdf.merge(dfo, left_on=\"id\", right_on=\"projectID\", validate=\"one_to_many\")\n",
    "print(fulldf)"
   ]
  },
  {
   "cell_type": "code",
   "execution_count": 197,
   "id": "c2bfcc62",
   "metadata": {},
   "outputs": [
    {
     "name": "stdout",
     "output_type": "stream",
     "text": [
      "          id   acronym  status  \\\n",
      "0  101116741       DOE  SIGNED   \n",
      "1  101163161   IRASTRO  SIGNED   \n",
      "2  101163161   IRASTRO  SIGNED   \n",
      "3  101163161   IRASTRO  SIGNED   \n",
      "4  101160499  In-phase  SIGNED   \n",
      "\n",
      "                                               title   startDate     endDate  \\\n",
      "0  Digitizing Other Economies: A Comparative Appr...  2024-02-01  2029-01-31   \n",
      "1  MOLECULAR QUANTUM DYNAMICS IN LOW TEMPERATURE ...  2025-08-01  2031-07-31   \n",
      "2  MOLECULAR QUANTUM DYNAMICS IN LOW TEMPERATURE ...  2025-08-01  2031-07-31   \n",
      "3  MOLECULAR QUANTUM DYNAMICS IN LOW TEMPERATURE ...  2025-08-01  2031-07-31   \n",
      "4  Multiscale modelling of aberrant phase transit...  2025-06-01  2030-05-31   \n",
      "\n",
      "  totalCost_x ecMaxContribution   legalBasis        topics  ...  \\\n",
      "0     1499998           1499998  HORIZON.1.1  ERC-2023-STG  ...   \n",
      "1    12085363          12085363  HORIZON.1.1  ERC-2024-SyG  ...   \n",
      "2    12085363          12085363  HORIZON.1.1  ERC-2024-SyG  ...   \n",
      "3    12085363          12085363  HORIZON.1.1  ERC-2024-SyG  ...   \n",
      "4     1489128           1489128  HORIZON.1.1  ERC-2024-STG  ...   \n",
      "\n",
      "                                         contactForm  contentUpdateDate_y  \\\n",
      "0  https://ec.europa.eu/info/funding-tenders/oppo...  2023-12-26 14:40:12   \n",
      "1  https://ec.europa.eu/info/funding-tenders/oppo...  2025-02-24 17:23:14   \n",
      "2  https://ec.europa.eu/info/funding-tenders/oppo...  2025-02-24 17:23:14   \n",
      "3  https://ec.europa.eu/info/funding-tenders/oppo...  2025-02-24 17:23:14   \n",
      "4  https://ec.europa.eu/info/funding-tenders/oppo...  2025-02-24 17:23:11   \n",
      "\n",
      "     rcn_y order         role  ecContribution netEcContribution totalCost_y  \\\n",
      "0  1906458     1  coordinator       1499998.0         1499998.0     1499998   \n",
      "1  1905956     2  participant       4246240.0         4246240.0     4246240   \n",
      "2  1908936     3  participant       1982813.0         1982813.0     1982813   \n",
      "3  1949732     1  coordinator       5856310.0         5856310.0     5856310   \n",
      "4  1906229     1  coordinator       1489128.0         1489128.0     1489128   \n",
      "\n",
      "   endOfParticipation active  \n",
      "0               False    NaN  \n",
      "1               False    NaN  \n",
      "2               False    NaN  \n",
      "3               False    NaN  \n",
      "4               False    NaN  \n",
      "\n",
      "[5 rows x 52 columns]\n",
      "<class 'pandas.core.frame.DataFrame'>\n",
      "RangeIndex: 100249 entries, 0 to 100248\n",
      "Data columns (total 52 columns):\n",
      " #   Column               Non-Null Count   Dtype  \n",
      "---  ------               --------------   -----  \n",
      " 0   id                   100249 non-null  int64  \n",
      " 1   acronym              100249 non-null  object \n",
      " 2   status               100249 non-null  object \n",
      " 3   title                100249 non-null  object \n",
      " 4   startDate            100249 non-null  object \n",
      " 5   endDate              100249 non-null  object \n",
      " 6   totalCost_x          100249 non-null  object \n",
      " 7   ecMaxContribution    100249 non-null  object \n",
      " 8   legalBasis           100249 non-null  object \n",
      " 9   topics               100249 non-null  object \n",
      " 10  ecSignatureDate      100231 non-null  object \n",
      " 11  frameworkProgramme   100249 non-null  object \n",
      " 12  masterCall           100249 non-null  object \n",
      " 13  subCall              100249 non-null  object \n",
      " 14  fundingScheme        100248 non-null  object \n",
      " 15  nature               0 non-null       float64\n",
      " 16  objective_x          100249 non-null  object \n",
      " 17  contentUpdateDate_x  100249 non-null  object \n",
      " 18  rcn_x                100249 non-null  int64  \n",
      " 19  grantDoi             98904 non-null   object \n",
      " 20  objective_y          100249 non-null  object \n",
      " 21  main_topics          100157 non-null  object \n",
      " 22  scientific_domain    99201 non-null   object \n",
      " 23  problem_type         100157 non-null  object \n",
      " 24  expected_impact      100157 non-null  object \n",
      " 25  sustainability       100157 non-null  float64\n",
      " 26  semantic_summary     100157 non-null  object \n",
      " 27  projectID            100249 non-null  int64  \n",
      " 28  projectAcronym       100249 non-null  object \n",
      " 29  organisationID       100249 non-null  int64  \n",
      " 30  vatNumber            84846 non-null   object \n",
      " 31  name                 100249 non-null  object \n",
      " 32  shortName            74742 non-null   object \n",
      " 33  SME                  99986 non-null   object \n",
      " 34  activityType         100225 non-null  object \n",
      " 35  street               99949 non-null   object \n",
      " 36  postCode             99463 non-null   object \n",
      " 37  city                 99986 non-null   object \n",
      " 38  country              100236 non-null  object \n",
      " 39  nutsCode             99971 non-null   object \n",
      " 40  geolocation          99661 non-null   object \n",
      " 41  organizationURL      61295 non-null   object \n",
      " 42  contactForm          100249 non-null  object \n",
      " 43  contentUpdateDate_y  100249 non-null  object \n",
      " 44  rcn_y                100249 non-null  int64  \n",
      " 45  order                100249 non-null  int64  \n",
      " 46  role                 100249 non-null  object \n",
      " 47  ecContribution       84545 non-null   float64\n",
      " 48  netEcContribution    100207 non-null  float64\n",
      " 49  totalCost_y          99313 non-null   object \n",
      " 50  endOfParticipation   100249 non-null  bool   \n",
      " 51  active               0 non-null       float64\n",
      "dtypes: bool(1), float64(5), int64(6), object(40)\n",
      "memory usage: 39.1+ MB\n",
      "None\n"
     ]
    }
   ],
   "source": [
    "print(fulldf.head())\n",
    "print(fulldf.info())"
   ]
  },
  {
   "cell_type": "code",
   "execution_count": 198,
   "id": "75bd2862",
   "metadata": {},
   "outputs": [],
   "source": [
    "# Delete active and nature (empty)\n",
    "fulldf = fulldf.drop(columns=[\"active\", \"nature\"])"
   ]
  },
  {
   "cell_type": "code",
   "execution_count": 199,
   "id": "6d23ade7",
   "metadata": {},
   "outputs": [
    {
     "name": "stdout",
     "output_type": "stream",
     "text": [
      "          id   acronym  status  \\\n",
      "0  101116741       DOE  SIGNED   \n",
      "1  101163161   IRASTRO  SIGNED   \n",
      "2  101163161   IRASTRO  SIGNED   \n",
      "3  101163161   IRASTRO  SIGNED   \n",
      "4  101160499  In-phase  SIGNED   \n",
      "\n",
      "                                               title   startDate     endDate  \\\n",
      "0  Digitizing Other Economies: A Comparative Appr...  2024-02-01  2029-01-31   \n",
      "1  MOLECULAR QUANTUM DYNAMICS IN LOW TEMPERATURE ...  2025-08-01  2031-07-31   \n",
      "2  MOLECULAR QUANTUM DYNAMICS IN LOW TEMPERATURE ...  2025-08-01  2031-07-31   \n",
      "3  MOLECULAR QUANTUM DYNAMICS IN LOW TEMPERATURE ...  2025-08-01  2031-07-31   \n",
      "4  Multiscale modelling of aberrant phase transit...  2025-06-01  2030-05-31   \n",
      "\n",
      "  totalCost_x ecMaxContribution   legalBasis        topics  ...  \\\n",
      "0     1499998           1499998  HORIZON.1.1  ERC-2023-STG  ...   \n",
      "1    12085363          12085363  HORIZON.1.1  ERC-2024-SyG  ...   \n",
      "2    12085363          12085363  HORIZON.1.1  ERC-2024-SyG  ...   \n",
      "3    12085363          12085363  HORIZON.1.1  ERC-2024-SyG  ...   \n",
      "4     1489128           1489128  HORIZON.1.1  ERC-2024-STG  ...   \n",
      "\n",
      "                     organizationURL  \\\n",
      "0  http://www.wageningenur.nl/nl.htm   \n",
      "1                   http://www.au.dk   \n",
      "2          http://www.uni-potsdam.de   \n",
      "3                  http://www.mpg.de   \n",
      "4                  http://www.ucm.es   \n",
      "\n",
      "                                         contactForm  contentUpdateDate_y  \\\n",
      "0  https://ec.europa.eu/info/funding-tenders/oppo...  2023-12-26 14:40:12   \n",
      "1  https://ec.europa.eu/info/funding-tenders/oppo...  2025-02-24 17:23:14   \n",
      "2  https://ec.europa.eu/info/funding-tenders/oppo...  2025-02-24 17:23:14   \n",
      "3  https://ec.europa.eu/info/funding-tenders/oppo...  2025-02-24 17:23:14   \n",
      "4  https://ec.europa.eu/info/funding-tenders/oppo...  2025-02-24 17:23:11   \n",
      "\n",
      "     rcn_y order         role ecContribution  netEcContribution totalCost_y  \\\n",
      "0  1906458     1  coordinator      1499998.0          1499998.0     1499998   \n",
      "1  1905956     2  participant      4246240.0          4246240.0     4246240   \n",
      "2  1908936     3  participant      1982813.0          1982813.0     1982813   \n",
      "3  1949732     1  coordinator      5856310.0          5856310.0     5856310   \n",
      "4  1906229     1  coordinator      1489128.0          1489128.0     1489128   \n",
      "\n",
      "  endOfParticipation  \n",
      "0              False  \n",
      "1              False  \n",
      "2              False  \n",
      "3              False  \n",
      "4              False  \n",
      "\n",
      "[5 rows x 50 columns]\n",
      "<class 'pandas.core.frame.DataFrame'>\n",
      "RangeIndex: 100249 entries, 0 to 100248\n",
      "Data columns (total 50 columns):\n",
      " #   Column               Non-Null Count   Dtype  \n",
      "---  ------               --------------   -----  \n",
      " 0   id                   100249 non-null  int64  \n",
      " 1   acronym              100249 non-null  object \n",
      " 2   status               100249 non-null  object \n",
      " 3   title                100249 non-null  object \n",
      " 4   startDate            100249 non-null  object \n",
      " 5   endDate              100249 non-null  object \n",
      " 6   totalCost_x          100249 non-null  object \n",
      " 7   ecMaxContribution    100249 non-null  object \n",
      " 8   legalBasis           100249 non-null  object \n",
      " 9   topics               100249 non-null  object \n",
      " 10  ecSignatureDate      100231 non-null  object \n",
      " 11  frameworkProgramme   100249 non-null  object \n",
      " 12  masterCall           100249 non-null  object \n",
      " 13  subCall              100249 non-null  object \n",
      " 14  fundingScheme        100248 non-null  object \n",
      " 15  objective_x          100249 non-null  object \n",
      " 16  contentUpdateDate_x  100249 non-null  object \n",
      " 17  rcn_x                100249 non-null  int64  \n",
      " 18  grantDoi             98904 non-null   object \n",
      " 19  objective_y          100249 non-null  object \n",
      " 20  main_topics          100157 non-null  object \n",
      " 21  scientific_domain    99201 non-null   object \n",
      " 22  problem_type         100157 non-null  object \n",
      " 23  expected_impact      100157 non-null  object \n",
      " 24  sustainability       100157 non-null  float64\n",
      " 25  semantic_summary     100157 non-null  object \n",
      " 26  projectID            100249 non-null  int64  \n",
      " 27  projectAcronym       100249 non-null  object \n",
      " 28  organisationID       100249 non-null  int64  \n",
      " 29  vatNumber            84846 non-null   object \n",
      " 30  name                 100249 non-null  object \n",
      " 31  shortName            74742 non-null   object \n",
      " 32  SME                  99986 non-null   object \n",
      " 33  activityType         100225 non-null  object \n",
      " 34  street               99949 non-null   object \n",
      " 35  postCode             99463 non-null   object \n",
      " 36  city                 99986 non-null   object \n",
      " 37  country              100236 non-null  object \n",
      " 38  nutsCode             99971 non-null   object \n",
      " 39  geolocation          99661 non-null   object \n",
      " 40  organizationURL      61295 non-null   object \n",
      " 41  contactForm          100249 non-null  object \n",
      " 42  contentUpdateDate_y  100249 non-null  object \n",
      " 43  rcn_y                100249 non-null  int64  \n",
      " 44  order                100249 non-null  int64  \n",
      " 45  role                 100249 non-null  object \n",
      " 46  ecContribution       84545 non-null   float64\n",
      " 47  netEcContribution    100207 non-null  float64\n",
      " 48  totalCost_y          99313 non-null   object \n",
      " 49  endOfParticipation   100249 non-null  bool   \n",
      "dtypes: bool(1), float64(3), int64(6), object(40)\n",
      "memory usage: 37.6+ MB\n",
      "None\n",
      "(100249, 50)\n",
      "                 id          rcn_x  sustainability     projectID  \\\n",
      "count  1.002490e+05  100249.000000   100157.000000  1.002490e+05   \n",
      "mean   1.015230e+08  252706.127772        0.642242  1.015230e+08   \n",
      "std    6.024056e+06   10016.661067        0.479343  6.024056e+06   \n",
      "min    1.010390e+08  237915.000000        0.000000  1.010390e+08   \n",
      "25%    1.010799e+08  242522.000000        0.000000  1.010799e+08   \n",
      "50%    1.011127e+08  254632.000000        1.000000  1.011127e+08   \n",
      "75%    1.011393e+08  262082.000000        1.000000  1.011393e+08   \n",
      "max    1.901999e+08  268971.000000        1.000000  1.901999e+08   \n",
      "\n",
      "       organisationID         rcn_y          order  ecContribution  \\\n",
      "count    1.002490e+05  1.002490e+05  100249.000000    8.454500e+04   \n",
      "mean     9.660163e+08  2.010841e+06       9.132670    5.185332e+05   \n",
      "std      4.387874e+07  2.257320e+05      10.012959    2.471223e+06   \n",
      "min      8.746348e+08  1.905548e+06       1.000000    0.000000e+00   \n",
      "25%      9.246476e+08  1.906872e+06       3.000000    1.508890e+05   \n",
      "50%      9.982900e+08  1.922674e+06       7.000000    2.826936e+05   \n",
      "75%      9.998930e+08  1.981663e+06      12.000000    5.193562e+05   \n",
      "max      9.999979e+08  3.146861e+06     175.000000    4.326332e+08   \n",
      "\n",
      "       netEcContribution  \n",
      "count       1.002070e+05  \n",
      "mean        4.362490e+05  \n",
      "std         2.175750e+06  \n",
      "min         0.000000e+00  \n",
      "25%         7.937500e+04  \n",
      "50%         2.319712e+05  \n",
      "75%         4.552188e+05  \n",
      "max         4.326332e+08  \n"
     ]
    }
   ],
   "source": [
    "print(fulldf.head())\n",
    "print(fulldf.info())\n",
    "print(fulldf.shape)\n",
    "print(fulldf.describe())"
   ]
  },
  {
   "cell_type": "code",
   "execution_count": 200,
   "id": "35469ff3",
   "metadata": {},
   "outputs": [
    {
     "name": "stdout",
     "output_type": "stream",
     "text": [
      "object\n",
      "801992\n",
      "100273\n"
     ]
    },
    {
     "data": {
      "text/plain": [
       "CategoricalDtype(categories=['CLOSED', 'SIGNED', 'TERMINATED'], ordered=False, categories_dtype=object)"
      ]
     },
     "execution_count": 200,
     "metadata": {},
     "output_type": "execute_result"
    }
   ],
   "source": [
    "# To save memory and speed ML training save categorical variables as category datatype\n",
    "print(fulldf[\"status\"].dtype)\n",
    "print(fulldf[\"status\"].nbytes)\n",
    "fulldf[\"status\"] = fulldf[\"status\"].astype(\"category\")\n",
    "print(fulldf[\"status\"].nbytes)\n",
    "fulldf[\"status\"].dtype"
   ]
  },
  {
   "cell_type": "code",
   "execution_count": 201,
   "id": "4a926df7",
   "metadata": {},
   "outputs": [
    {
     "name": "stdout",
     "output_type": "stream",
     "text": [
      "object\n",
      "801992\n",
      "100281\n"
     ]
    },
    {
     "data": {
      "text/plain": [
       "CategoricalDtype(categories=['associatedPartner', 'coordinator', 'participant',\n",
       "                  'thirdParty'],\n",
       ", ordered=False, categories_dtype=object)"
      ]
     },
     "execution_count": 201,
     "metadata": {},
     "output_type": "execute_result"
    }
   ],
   "source": [
    "# Can be used to include features about the amount of coordinators, participants, ... of a project\n",
    "print(fulldf[\"role\"].dtype)\n",
    "print(fulldf[\"role\"].nbytes)\n",
    "fulldf[\"role\"] = fulldf[\"role\"].astype(\"category\")\n",
    "print(fulldf[\"role\"].nbytes)\n",
    "fulldf[\"role\"].dtype"
   ]
  },
  {
   "cell_type": "code",
   "execution_count": 202,
   "id": "124a71d0",
   "metadata": {},
   "outputs": [
    {
     "name": "stdout",
     "output_type": "stream",
     "text": [
      "object\n",
      "801992\n",
      "100369\n"
     ]
    },
    {
     "data": {
      "text/plain": [
       "CategoricalDtype(categories=['EURATOM2027', 'HORIZON.1.1', 'HORIZON.1.2', 'HORIZON.1.3',\n",
       "                  'HORIZON.2.1', 'HORIZON.2.2', 'HORIZON.2.3', 'HORIZON.2.4',\n",
       "                  'HORIZON.2.5', 'HORIZON.2.6', 'HORIZON.3.1', 'HORIZON.3.2',\n",
       "                  'HORIZON.3.3', 'HORIZON.4.1', 'HORIZON.4.2'],\n",
       ", ordered=False, categories_dtype=object)"
      ]
     },
     "execution_count": 202,
     "metadata": {},
     "output_type": "execute_result"
    }
   ],
   "source": [
    "# 15 different levels, maybe add as a feature?\n",
    "print(fulldf[\"legalBasis\"].dtype)\n",
    "print(fulldf[\"legalBasis\"].nbytes)\n",
    "fulldf[\"legalBasis\"] = fulldf[\"legalBasis\"].astype(\"category\")\n",
    "print(fulldf[\"legalBasis\"].nbytes)\n",
    "fulldf[\"legalBasis\"].dtype"
   ]
  },
  {
   "cell_type": "code",
   "execution_count": 203,
   "id": "74d0e339",
   "metadata": {},
   "outputs": [
    {
     "name": "stdout",
     "output_type": "stream",
     "text": [
      "object\n",
      "801992\n",
      "216842\n"
     ]
    },
    {
     "data": {
      "text/plain": [
       "CategoricalDtype(categories=['ERC-2021-ADG', 'ERC-2021-COG', 'ERC-2021-STG',\n",
       "                  'ERC-2022-ADG', 'ERC-2022-COG', 'ERC-2022-POC1',\n",
       "                  'ERC-2022-POC2', 'ERC-2022-STG', 'ERC-2022-SyG',\n",
       "                  'ERC-2023-ADG',\n",
       "                  ...\n",
       "                  'HORIZON-WIDERA-2024-ERA-01-01',\n",
       "                  'HORIZON-WIDERA-2024-ERA-01-03',\n",
       "                  'HORIZON-WIDERA-2024-ERA-01-04',\n",
       "                  'HORIZON-WIDERA-2024-ERA-01-07',\n",
       "                  'HORIZON-WIDERA-2024-ERA-01-08',\n",
       "                  'HORIZON-WIDERA-2024-ERA-01-09',\n",
       "                  'HORIZON-WIDERA-2024-ERA-01-11',\n",
       "                  'HORIZON-WIDERA-2024-ERA-01-12',\n",
       "                  'HORIZON-WIDERA-2024-EUCYS-IBA',\n",
       "                  'HORIZON-WIDERA-2024-WIRE-IBA'],\n",
       ", ordered=False, categories_dtype=object)"
      ]
     },
     "execution_count": 203,
     "metadata": {},
     "output_type": "execute_result"
    }
   ],
   "source": [
    "# too many, only use our topic feature\n",
    "print(fulldf[\"topics\"].dtype)\n",
    "print(fulldf[\"topics\"].nbytes)\n",
    "fulldf[\"topics\"] = fulldf[\"topics\"].astype(\"category\")\n",
    "print(fulldf[\"topics\"].nbytes)\n",
    "fulldf[\"topics\"].dtype"
   ]
  },
  {
   "cell_type": "code",
   "execution_count": 204,
   "id": "734d42d3",
   "metadata": {},
   "outputs": [
    {
     "name": "stdout",
     "output_type": "stream",
     "text": [
      "object\n",
      "801992\n",
      "100257\n"
     ]
    }
   ],
   "source": [
    "# one category, will be dropped as it is not informative\n",
    "print(fulldf[\"frameworkProgramme\"].dtype)\n",
    "print(fulldf[\"frameworkProgramme\"].nbytes)\n",
    "fulldf[\"frameworkProgramme\"] = fulldf[\"frameworkProgramme\"].astype(\"category\")\n",
    "print(fulldf[\"frameworkProgramme\"].nbytes)\n",
    "fulldf[\"frameworkProgramme\"].dtype\n",
    "fulldf = fulldf.drop(columns=[\"frameworkProgramme\"])"
   ]
  },
  {
   "cell_type": "code",
   "execution_count": 205,
   "id": "335a644f",
   "metadata": {},
   "outputs": [
    {
     "name": "stdout",
     "output_type": "stream",
     "text": [
      "object\n",
      "801992\n",
      "204402\n"
     ]
    },
    {
     "data": {
      "text/plain": [
       "CategoricalDtype(categories=['ERC-2021-ADG', 'ERC-2021-COG', 'ERC-2021-STG',\n",
       "                  'ERC-2022-ADG', 'ERC-2022-COG', 'ERC-2022-POC1',\n",
       "                  'ERC-2022-POC2', 'ERC-2022-STG', 'ERC-2022-SYG',\n",
       "                  'ERC-2023-ADG',\n",
       "                  ...\n",
       "                  'HORIZON-WIDERA-2023-ESOF-IBA',\n",
       "                  'HORIZON-WIDERA-2023-EU-CECR-IBA',\n",
       "                  'HORIZON-WIDERA-2023-EUCYS-IBA',\n",
       "                  'HORIZON-WIDERA-2023-RESAVER-IBA',\n",
       "                  'HORIZON-WIDERA-2023-TALENTS-01',\n",
       "                  'HORIZON-WIDERA-2023-TALENTS-02',\n",
       "                  'HORIZON-WIDERA-2024-COST-SGA', 'HORIZON-WIDERA-2024-ERA-01',\n",
       "                  'HORIZON-WIDERA-2024-EUCYS-IBA',\n",
       "                  'HORIZON-WIDERA-2024-WIRE-IBA'],\n",
       ", ordered=False, categories_dtype=object)"
      ]
     },
     "execution_count": 205,
     "metadata": {},
     "output_type": "execute_result"
    }
   ],
   "source": [
    "# Also too many levels, looks like topics (test dubble columns later)\n",
    "print(fulldf[\"masterCall\"].dtype)\n",
    "print(fulldf[\"masterCall\"].nbytes)\n",
    "fulldf[\"masterCall\"] = fulldf[\"masterCall\"].astype(\"category\")\n",
    "print(fulldf[\"masterCall\"].nbytes)\n",
    "fulldf[\"masterCall\"].dtype\n"
   ]
  },
  {
   "cell_type": "code",
   "execution_count": 206,
   "id": "c1880481",
   "metadata": {},
   "outputs": [
    {
     "name": "stdout",
     "output_type": "stream",
     "text": [
      "object\n",
      "801992\n",
      "204402\n"
     ]
    },
    {
     "data": {
      "text/plain": [
       "CategoricalDtype(categories=['ERC-2021-ADG', 'ERC-2021-COG', 'ERC-2021-STG',\n",
       "                  'ERC-2022-ADG', 'ERC-2022-COG', 'ERC-2022-POC1',\n",
       "                  'ERC-2022-POC2', 'ERC-2022-STG', 'ERC-2022-SYG',\n",
       "                  'ERC-2023-ADG',\n",
       "                  ...\n",
       "                  'HORIZON-WIDERA-2023-ESOF-IBA',\n",
       "                  'HORIZON-WIDERA-2023-EU-CECR-IBA',\n",
       "                  'HORIZON-WIDERA-2023-EUCYS-IBA',\n",
       "                  'HORIZON-WIDERA-2023-RESAVER-IBA',\n",
       "                  'HORIZON-WIDERA-2023-TALENTS-01',\n",
       "                  'HORIZON-WIDERA-2023-TALENTS-02',\n",
       "                  'HORIZON-WIDERA-2024-COST-SGA', 'HORIZON-WIDERA-2024-ERA-01',\n",
       "                  'HORIZON-WIDERA-2024-EUCYS-IBA',\n",
       "                  'HORIZON-WIDERA-2024-WIRE-IBA'],\n",
       ", ordered=False, categories_dtype=object)"
      ]
     },
     "execution_count": 206,
     "metadata": {},
     "output_type": "execute_result"
    }
   ],
   "source": [
    "# Also too many levels, looks like topics and mastercall (test dubble columns later)\n",
    "print(fulldf[\"subCall\"].dtype)\n",
    "print(fulldf[\"subCall\"].nbytes)\n",
    "fulldf[\"subCall\"] = fulldf[\"subCall\"].astype(\"category\")\n",
    "print(fulldf[\"subCall\"].nbytes)\n",
    "fulldf[\"subCall\"].dtype"
   ]
  },
  {
   "cell_type": "code",
   "execution_count": 207,
   "id": "de652b62",
   "metadata": {},
   "outputs": [
    {
     "name": "stdout",
     "output_type": "stream",
     "text": [
      "object\n",
      "801992\n",
      "100561\n"
     ]
    },
    {
     "data": {
      "text/plain": [
       "CategoricalDtype(categories=['CSA', 'EIC', 'EIC-ACC', 'ERC', 'ERC-POC', 'ERC-SYG',\n",
       "                  'EURATOM-COFUND', 'EURATOM-CSA', 'EURATOM-IA', 'EURATOM-RIA',\n",
       "                  'HORIZON-AG', 'HORIZON-AG-LS', 'HORIZON-AG-UN',\n",
       "                  'HORIZON-COFUND', 'HORIZON-CSA', 'HORIZON-EIC',\n",
       "                  'HORIZON-EIC-ACC', 'HORIZON-EIC-ACC-BF', 'HORIZON-EIT-KIC',\n",
       "                  'HORIZON-ERC', 'HORIZON-ERC-POC', 'HORIZON-ERC-SYG',\n",
       "                  'HORIZON-IA', 'HORIZON-JU-CSA', 'HORIZON-JU-IA',\n",
       "                  'HORIZON-JU-RIA', 'HORIZON-PCP', 'HORIZON-RIA',\n",
       "                  'HORIZON-TMA-MSCA-Cofund-D', 'HORIZON-TMA-MSCA-Cofund-P',\n",
       "                  'HORIZON-TMA-MSCA-DN', 'HORIZON-TMA-MSCA-DN-ID',\n",
       "                  'HORIZON-TMA-MSCA-DN-JD', 'HORIZON-TMA-MSCA-PF-EF',\n",
       "                  'HORIZON-TMA-MSCA-PF-GF', 'HORIZON-TMA-MSCA-SE', 'IA',\n",
       "                  'MSCA-PF', 'RIA'],\n",
       ", ordered=False, categories_dtype=object)"
      ]
     },
     "execution_count": 207,
     "metadata": {},
     "output_type": "execute_result"
    }
   ],
   "source": [
    "# +30 cat's but looks like there is a lot of subschemes (ERC, EURATOM, HORIZON, EI...)\n",
    "print(fulldf[\"fundingScheme\"].dtype)\n",
    "print(fulldf[\"fundingScheme\"].nbytes)\n",
    "fulldf[\"fundingScheme\"] = fulldf[\"fundingScheme\"].astype(\"category\")\n",
    "print(fulldf[\"fundingScheme\"].nbytes)\n",
    "fulldf[\"fundingScheme\"].dtype"
   ]
  },
  {
   "cell_type": "code",
   "execution_count": 208,
   "id": "2ace974f",
   "metadata": {},
   "outputs": [
    {
     "name": "stdout",
     "output_type": "stream",
     "text": [
      "object\n",
      "801992\n",
      "100289\n"
     ]
    },
    {
     "data": {
      "text/plain": [
       "CategoricalDtype(categories=['HES', 'OTH', 'PRC', 'PUB', 'REC'], ordered=False, categories_dtype=object)"
      ]
     },
     "execution_count": 208,
     "metadata": {},
     "output_type": "execute_result"
    }
   ],
   "source": [
    "# possible feature if we want to do something with the originizations activity types\n",
    "print(fulldf[\"activityType\"].dtype)\n",
    "print(fulldf[\"activityType\"].nbytes)\n",
    "fulldf[\"activityType\"] = fulldf[\"activityType\"].astype(\"category\")\n",
    "print(fulldf[\"activityType\"].nbytes)\n",
    "fulldf[\"activityType\"].dtype"
   ]
  },
  {
   "cell_type": "code",
   "execution_count": 209,
   "id": "96995fc2",
   "metadata": {},
   "outputs": [
    {
     "name": "stdout",
     "output_type": "stream",
     "text": [
      "object\n",
      "801992\n",
      "201858\n"
     ]
    },
    {
     "data": {
      "text/plain": [
       "CategoricalDtype(categories=['AD', 'AE', 'AF', 'AI', 'AL', 'AM', 'AO', 'AR', 'AT', 'AU',\n",
       "                  ...\n",
       "                  'US', 'UY', 'UZ', 'VA', 'VE', 'VN', 'XK', 'ZA', 'ZM', 'ZW'],\n",
       ", ordered=False, categories_dtype=object)"
      ]
     },
     "execution_count": 209,
     "metadata": {},
     "output_type": "execute_result"
    }
   ],
   "source": [
    "# Maybe if we want to group variables in region and then check influence on funding? Or put on a worldmap?\n",
    "# Can also use the column nutscode, EU's nomenclature for deviding in statistical regions, see next cell\n",
    "print(fulldf[\"country\"].dtype)\n",
    "print(fulldf[\"country\"].nbytes)\n",
    "fulldf[\"country\"] = fulldf[\"country\"].astype(\"category\")\n",
    "print(fulldf[\"country\"].nbytes)\n",
    "fulldf[\"country\"].dtype"
   ]
  },
  {
   "cell_type": "code",
   "execution_count": 210,
   "id": "dc89a2cd",
   "metadata": {},
   "outputs": [
    {
     "name": "stdout",
     "output_type": "stream",
     "text": [
      "object\n",
      "801992\n",
      "212122\n"
     ]
    },
    {
     "data": {
      "text/plain": [
       "CategoricalDtype(categories=['AD', 'AE', 'AF', 'AI', 'AL', 'AL012', 'AL022', 'AM', 'AO',\n",
       "                  'AR',\n",
       "                  ...\n",
       "                  'US', 'UY', 'UZ', 'VA', 'VE', 'VN', 'XK', 'ZA', 'ZM', 'ZW'],\n",
       ", ordered=False, categories_dtype=object)"
      ]
     },
     "execution_count": 210,
     "metadata": {},
     "output_type": "execute_result"
    }
   ],
   "source": [
    "# A lot, better to group on country level maybe?\n",
    "print(fulldf[\"nutsCode\"].dtype)\n",
    "print(fulldf[\"nutsCode\"].nbytes)\n",
    "fulldf[\"nutsCode\"] = fulldf[\"nutsCode\"].astype(\"category\")\n",
    "print(fulldf[\"nutsCode\"].nbytes)\n",
    "fulldf[\"nutsCode\"].dtype"
   ]
  },
  {
   "cell_type": "code",
   "execution_count": 211,
   "id": "e36433a3",
   "metadata": {},
   "outputs": [
    {
     "name": "stdout",
     "output_type": "stream",
     "text": [
      "int64\n",
      "801992\n",
      "201898\n"
     ]
    },
    {
     "data": {
      "text/plain": [
       "CategoricalDtype(categories=[  1,   2,   3,   4,   5,   6,   7,   8,   9,  10,\n",
       "                  ...\n",
       "                  166, 167, 168, 169, 170, 171, 172, 173, 174, 175],\n",
       ", ordered=False, categories_dtype=int64)"
      ]
     },
     "execution_count": 211,
     "metadata": {},
     "output_type": "execute_result"
    }
   ],
   "source": [
    "print(fulldf[\"order\"].dtype)\n",
    "print(fulldf[\"order\"].nbytes)\n",
    "fulldf[\"order\"] = fulldf[\"order\"].astype(\"category\")\n",
    "print(fulldf[\"order\"].nbytes)\n",
    "fulldf[\"order\"].dtype"
   ]
  },
  {
   "cell_type": "code",
   "execution_count": 212,
   "id": "50259427",
   "metadata": {},
   "outputs": [
    {
     "name": "stdout",
     "output_type": "stream",
     "text": [
      "object\n",
      "801992\n",
      "322666\n"
     ]
    },
    {
     "data": {
      "text/plain": [
       "CategoricalDtype(categories=['[\"Alzheimer's Disease\", 'Genetics', 'Neurodegeneration', 'PET Imaging']',\n",
       "                  '[\"Alzheimer's Disease\", 'Neurodegeneration', 'Drug Development']',\n",
       "                  '[\"Alzheimer's Disease\", 'Point of Care Testing', 'Cognitive Impairment']',\n",
       "                  '[\"Alzheimer's disease diagnostics\", 'Blood-based biomarkers']',\n",
       "                  '[\"Alzheimer's disease diagnostics\", 'plasma biomarkers', 'digital cognitive tests']',\n",
       "                  '[\"Alzheimer's disease pathogenesis\", 'immune system interactions', 'bioactive lipids']',\n",
       "                  '[\"Alzheimer's disease pathology\", 'Neuroinflammation', 'Microglia subpopulations']',\n",
       "                  '[\"Alzheimer's disease research\", 'Gene therapy', 'Nanocarriers']',\n",
       "                  '[\"Alzheimer's disease\", 'Amyloid-beta protein', 'Neuroinflammation', 'Neurodegeneration']',\n",
       "                  '[\"Alzheimer's disease\", 'Nasu-Hakola disease', 'microglia dysfunction', 'TREM2 expression']',\n",
       "                  ...\n",
       "                  '['youth mental health', 'intervention development', 'implementation models']',\n",
       "                  '['youth political engagement', 'adolescent brain development']',\n",
       "                  '['youth transition to adulthood', 'qualitative research', 'participatory arts-based method']',\n",
       "                  '['youth unemployment', 'food systems', 'sustainability', 'innovation', 'entrepreneurship', 'trade policies', 'climate change']',\n",
       "                  '['youth', 'forced migration', 'social integration']',\n",
       "                  '['zebrafish research', 'non-communicable diseases', 'genetics', 'bioinformatics']',\n",
       "                  '['zero-emission vehicles', 'powertrains', 'modularity', 'AI-based management']',\n",
       "                  '['zero-emission vehicles', 'sustainable transportation', 'energy efficiency']',\n",
       "                  '['zoology', 'natural history', 'knowledge transfer']',\n",
       "                  '[]'],\n",
       ", ordered=False, categories_dtype=object)"
      ]
     },
     "execution_count": 212,
     "metadata": {},
     "output_type": "execute_result"
    }
   ],
   "source": [
    "print(fulldf[\"main_topics\"].dtype)\n",
    "print(fulldf[\"main_topics\"].nbytes)\n",
    "fulldf[\"main_topics\"] = fulldf[\"main_topics\"].astype(\"category\")\n",
    "print(fulldf[\"main_topics\"].nbytes)\n",
    "fulldf[\"main_topics\"].dtype"
   ]
  },
  {
   "cell_type": "code",
   "execution_count": 213,
   "id": "b66b9125",
   "metadata": {},
   "outputs": [
    {
     "name": "stdout",
     "output_type": "stream",
     "text": [
      "object\n",
      "801992\n",
      "801992\n"
     ]
    },
    {
     "data": {
      "text/plain": [
       "CategoricalDtype(categories=['Aerospace engineering', 'Agricultural Sciences',\n",
       "                  'Anthropology', 'Archaeology', 'Architecture',\n",
       "                  'Artificial Intelligence', 'Astrophysics', 'Biochemistry',\n",
       "                  'Biology', 'Biomedical Sciences',\n",
       "                  ...\n",
       "                  'political science', 'psychology', 'quantum physics',\n",
       "                  'robotics', 'technology', 'telecommunications',\n",
       "                  'telecommunications engineering', 'transportation',\n",
       "                  'urban planning', 'urban studies'],\n",
       ", ordered=False, categories_dtype=object)"
      ]
     },
     "execution_count": 213,
     "metadata": {},
     "output_type": "execute_result"
    }
   ],
   "source": [
    "# Still a lot, maybe group further like 'urban planning', 'urban studies' as urban\n",
    "print(fulldf[\"scientific_domain\"].dtype)\n",
    "print(fulldf[\"scientific_domain\"].nbytes)\n",
    "fulldf[\" scientific_domain\"] = fulldf[\"scientific_domain\"].astype(\"category\")\n",
    "print(fulldf[\"scientific_domain\"].nbytes)\n",
    "fulldf[\" scientific_domain\"].dtype"
   ]
  },
  {
   "cell_type": "code",
   "execution_count": 214,
   "id": "ba165709",
   "metadata": {},
   "outputs": [
    {
     "name": "stdout",
     "output_type": "stream",
     "text": [
      "object\n",
      "801992\n",
      "100329\n"
     ]
    },
    {
     "data": {
      "text/plain": [
       "CategoricalDtype(categories=['Applied Research', 'Applied research', 'Confidential',\n",
       "                  'Fundamental Research', 'Fundamental research',\n",
       "                  'Translational Research', 'Translational research',\n",
       "                  'applied research', 'fundamental research',\n",
       "                  'translational research'],\n",
       ", ordered=False, categories_dtype=object)"
      ]
     },
     "execution_count": 214,
     "metadata": {},
     "output_type": "execute_result"
    }
   ],
   "source": [
    "# Some with upper case some without, convert this to capitalized categories\n",
    "print(fulldf[\"problem_type\"].dtype)\n",
    "print(fulldf[\"problem_type\"].nbytes)\n",
    "fulldf[\"problem_type\"] = fulldf[\"problem_type\"].astype(\"category\")\n",
    "print(fulldf[\"problem_type\"].nbytes)\n",
    "fulldf[\"problem_type\"].dtype"
   ]
  },
  {
   "cell_type": "code",
   "execution_count": 215,
   "id": "ea6baadb",
   "metadata": {},
   "outputs": [
    {
     "name": "stdout",
     "output_type": "stream",
     "text": [
      "object\n",
      "801992\n",
      "100841\n"
     ]
    },
    {
     "data": {
      "text/plain": [
       "CategoricalDtype(categories=['Confidential', 'Societal',\n",
       "                  '['Societal', 'Economic', 'Environmental']',\n",
       "                  '['Societal', 'Economic']',\n",
       "                  '['Societal', 'Environmental', 'Economic']',\n",
       "                  '['Societal', 'Environmental']',\n",
       "                  '['Societal', 'Technological', 'Economic']',\n",
       "                  '['Societal', 'Technological', 'Environmental', 'Economic']',\n",
       "                  '['Societal', 'Technological', 'Environmental']',\n",
       "                  '['Societal', 'Technological']', '['Societal']',\n",
       "                  '['Technological', 'Economic']',\n",
       "                  '['Technological', 'Environmental']',\n",
       "                  '['Technological', 'Societal']',\n",
       "                  '['economic', 'environmental']', '['economic', 'societal']',\n",
       "                  '['economic', 'technological', 'societal']', '['economic']',\n",
       "                  '['environmental', 'economic']',\n",
       "                  '['environmental', 'societal']',\n",
       "                  '['environmental', 'technological']', '['environmental']',\n",
       "                  '['scientific', 'economic']',\n",
       "                  '['scientific', 'societal', 'economic']',\n",
       "                  '['scientific', 'technological', 'economic', 'societal']',\n",
       "                  '['societal', 'applied']', '['societal', 'business']',\n",
       "                  '['societal', 'clinical']',\n",
       "                  '['societal', 'cultural', 'educational']',\n",
       "                  '['societal', 'cultural', 'environmental', 'economic']',\n",
       "                  '['societal', 'cultural', 'linguistic']',\n",
       "                  '['societal', 'cultural', 'political']',\n",
       "                  '['societal', 'cultural', 'scientific']',\n",
       "                  '['societal', 'cultural']',\n",
       "                  '['societal', 'economic', 'environmental']',\n",
       "                  '['societal', 'economic', 'technological']',\n",
       "                  '['societal', 'economic']', '['societal', 'educational']',\n",
       "                  '['societal', 'environmental', 'economic']',\n",
       "                  '['societal', 'environmental']',\n",
       "                  '['societal', 'global security']', '['societal', 'health']',\n",
       "                  '['societal', 'historical']',\n",
       "                  '['societal', 'medical', 'scientific']',\n",
       "                  '['societal', 'medical']', '['societal', 'policy']',\n",
       "                  '['societal', 'scientific', 'economic']',\n",
       "                  '['societal', 'scientific']',\n",
       "                  '['societal', 'sustainability']',\n",
       "                  '['societal', 'technological', 'biological']',\n",
       "                  '['societal', 'technological', 'cultural']',\n",
       "                  '['societal', 'technological', 'economic', 'environmental']',\n",
       "                  '['societal', 'technological', 'economic']',\n",
       "                  '['societal', 'technological', 'environmental', 'economic']',\n",
       "                  '['societal', 'technological', 'environmental']',\n",
       "                  '['societal', 'technological', 'ethical']',\n",
       "                  '['societal', 'technological', 'scientific']',\n",
       "                  '['societal', 'technological']',\n",
       "                  '['societal', 'translational']', '['societal']',\n",
       "                  '['technological', 'economic', 'environmental']',\n",
       "                  '['technological', 'economic', 'societal']',\n",
       "                  '['technological', 'economic']',\n",
       "                  '['technological', 'environmental', 'economic']',\n",
       "                  '['technological', 'environmental']',\n",
       "                  '['technological', 'fundamental research']',\n",
       "                  '['technological', 'scientific']',\n",
       "                  '['technological', 'societal', 'economic']',\n",
       "                  '['technological', 'societal', 'environmental', 'economic']',\n",
       "                  '['technological', 'societal', 'environmental']',\n",
       "                  '['technological', 'societal']', '['technological']',\n",
       "                  'societal', 'technological'],\n",
       ", ordered=False, categories_dtype=object)"
      ]
     },
     "execution_count": 215,
     "metadata": {},
     "output_type": "execute_result"
    }
   ],
   "source": [
    "# some with 1, some 2 ... maybe make 1 or try to have all 2 or 3 for example? (the more the more categories)\n",
    "print(fulldf[\"expected_impact\"].dtype)\n",
    "print(fulldf[\"expected_impact\"].nbytes)\n",
    "fulldf[\"expected_impact\"] = fulldf[\"expected_impact\"].astype(\"category\")\n",
    "print(fulldf[\"expected_impact\"].nbytes)\n",
    "fulldf[\"expected_impact\"].dtype"
   ]
  },
  {
   "cell_type": "code",
   "execution_count": 216,
   "id": "145cfabc",
   "metadata": {},
   "outputs": [],
   "source": [
    "# Drop the columns we will probably not use for prediction\n",
    "# Geographical columns can be used later if we want to do geographical clustering for example\n",
    "fulldf = fulldf.drop(columns=[\"acronym\", \"title\", \"totalCost_x\", \"topics\", \"objective_x\", \"rcn_x\", \"grantDoi\", \"contentUpdateDate_x\", \\\n",
    "                              \"projectID\", \"projectAcronym\", \"organisationID\", \"vatNumber\", \"name\", \"shortName\", \"street\", \"postCode\", \\\n",
    "                              \"city\", \"geolocation\", \"organizationURL\", \"contactForm\",\"contentUpdateDate_y\", \"rcn_y\", \"totalCost_y\", \\\n",
    "                              \"ecContribution\", \"netEcContribution\", \"ecSignatureDate\", \"masterCall\", \"subCall\", \" scientific_domain\"])"
   ]
  },
  {
   "cell_type": "code",
   "execution_count": 217,
   "id": "ad503dfb",
   "metadata": {},
   "outputs": [
    {
     "name": "stdout",
     "output_type": "stream",
     "text": [
      "          id  status   startDate     endDate ecMaxContribution   legalBasis  \\\n",
      "0  101116741  SIGNED  2024-02-01  2029-01-31           1499998  HORIZON.1.1   \n",
      "1  101163161  SIGNED  2025-08-01  2031-07-31          12085363  HORIZON.1.1   \n",
      "2  101163161  SIGNED  2025-08-01  2031-07-31          12085363  HORIZON.1.1   \n",
      "3  101163161  SIGNED  2025-08-01  2031-07-31          12085363  HORIZON.1.1   \n",
      "4  101160499  SIGNED  2025-06-01  2030-05-31           1489128  HORIZON.1.1   \n",
      "\n",
      "     fundingScheme                                        objective_y  \\\n",
      "0      HORIZON-ERC  How do longstanding, primarily non-industrial,...   \n",
      "1  HORIZON-ERC-SYG  The James Webb Space Telescope (JWST) has ushe...   \n",
      "2  HORIZON-ERC-SYG  The James Webb Space Telescope (JWST) has ushe...   \n",
      "3  HORIZON-ERC-SYG  The James Webb Space Telescope (JWST) has ushe...   \n",
      "4      HORIZON-ERC  The spatiotemporal organization of the cell ma...   \n",
      "\n",
      "                                         main_topics scientific_domain  ...  \\\n",
      "0  ['digital technologies', 'economic diversity',...      Anthropology  ...   \n",
      "1  ['Astrochemistry', 'Quantum Dynamics', 'Infrar...           Physics  ...   \n",
      "2  ['Astrochemistry', 'Quantum Dynamics', 'Infrar...           Physics  ...   \n",
      "3  ['Astrochemistry', 'Quantum Dynamics', 'Infrar...           Physics  ...   \n",
      "4  ['biophysics', 'molecular biology', 'computati...           biology  ...   \n",
      "\n",
      "                 expected_impact sustainability  \\\n",
      "0       ['societal', 'economic']            0.0   \n",
      "1  ['technological', 'societal']            0.0   \n",
      "2  ['technological', 'societal']            0.0   \n",
      "3  ['technological', 'societal']            0.0   \n",
      "4  ['societal', 'technological']            0.0   \n",
      "\n",
      "                                    semantic_summary    SME activityType  \\\n",
      "0  This project explores how non-industrial socie...  False          HES   \n",
      "1  The project aims to revolutionize astrochemist...  False          HES   \n",
      "2  The project aims to revolutionize astrochemist...  False          HES   \n",
      "3  The project aims to revolutionize astrochemist...  False          REC   \n",
      "4  The project 'In-phase' aims to develop a compu...  False          HES   \n",
      "\n",
      "  country nutsCode order         role endOfParticipation  \n",
      "0      NL    NL221     1  coordinator              False  \n",
      "1      DK    DK042     2  participant              False  \n",
      "2      DE    DE404     3  participant              False  \n",
      "3      DE    DE212     1  coordinator              False  \n",
      "4      ES    ES300     1  coordinator              False  \n",
      "\n",
      "[5 rows x 21 columns]\n",
      "<class 'pandas.core.frame.DataFrame'>\n",
      "RangeIndex: 100249 entries, 0 to 100248\n",
      "Data columns (total 21 columns):\n",
      " #   Column              Non-Null Count   Dtype   \n",
      "---  ------              --------------   -----   \n",
      " 0   id                  100249 non-null  int64   \n",
      " 1   status              100249 non-null  category\n",
      " 2   startDate           100249 non-null  object  \n",
      " 3   endDate             100249 non-null  object  \n",
      " 4   ecMaxContribution   100249 non-null  object  \n",
      " 5   legalBasis          100249 non-null  category\n",
      " 6   fundingScheme       100248 non-null  category\n",
      " 7   objective_y         100249 non-null  object  \n",
      " 8   main_topics         100157 non-null  category\n",
      " 9   scientific_domain   99201 non-null   object  \n",
      " 10  problem_type        100157 non-null  category\n",
      " 11  expected_impact     100157 non-null  category\n",
      " 12  sustainability      100157 non-null  float64 \n",
      " 13  semantic_summary    100157 non-null  object  \n",
      " 14  SME                 99986 non-null   object  \n",
      " 15  activityType        100225 non-null  category\n",
      " 16  country             100236 non-null  category\n",
      " 17  nutsCode            99971 non-null   category\n",
      " 18  order               100249 non-null  category\n",
      " 19  role                100249 non-null  category\n",
      " 20  endOfParticipation  100249 non-null  bool    \n",
      "dtypes: bool(1), category(11), float64(1), int64(1), object(7)\n",
      "memory usage: 9.1+ MB\n",
      "None\n",
      "(100249, 21)\n",
      "                 id  sustainability\n",
      "count  1.002490e+05   100157.000000\n",
      "mean   1.015230e+08        0.642242\n",
      "std    6.024056e+06        0.479343\n",
      "min    1.010390e+08        0.000000\n",
      "25%    1.010799e+08        0.000000\n",
      "50%    1.011127e+08        1.000000\n",
      "75%    1.011393e+08        1.000000\n",
      "max    1.901999e+08        1.000000\n"
     ]
    }
   ],
   "source": [
    "print(fulldf.head())\n",
    "print(fulldf.info())\n",
    "print(fulldf.shape)\n",
    "print(fulldf.describe())"
   ]
  },
  {
   "cell_type": "code",
   "execution_count": 218,
   "id": "eb376a40",
   "metadata": {},
   "outputs": [],
   "source": [
    "fulldf[\"ecMaxContribution\"] = fulldf[\"ecMaxContribution\"].str.replace(',', '.', regex=False).astype(float)"
   ]
  },
  {
   "cell_type": "code",
   "execution_count": 219,
   "id": "edc23ce1",
   "metadata": {},
   "outputs": [
    {
     "name": "stdout",
     "output_type": "stream",
     "text": [
      "          id  status   startDate     endDate  ecMaxContribution   legalBasis  \\\n",
      "0  101116741  SIGNED  2024-02-01  2029-01-31          1499998.0  HORIZON.1.1   \n",
      "1  101163161  SIGNED  2025-08-01  2031-07-31         12085363.0  HORIZON.1.1   \n",
      "2  101163161  SIGNED  2025-08-01  2031-07-31         12085363.0  HORIZON.1.1   \n",
      "3  101163161  SIGNED  2025-08-01  2031-07-31         12085363.0  HORIZON.1.1   \n",
      "4  101160499  SIGNED  2025-06-01  2030-05-31          1489128.0  HORIZON.1.1   \n",
      "\n",
      "     fundingScheme                                        objective_y  \\\n",
      "0      HORIZON-ERC  How do longstanding, primarily non-industrial,...   \n",
      "1  HORIZON-ERC-SYG  The James Webb Space Telescope (JWST) has ushe...   \n",
      "2  HORIZON-ERC-SYG  The James Webb Space Telescope (JWST) has ushe...   \n",
      "3  HORIZON-ERC-SYG  The James Webb Space Telescope (JWST) has ushe...   \n",
      "4      HORIZON-ERC  The spatiotemporal organization of the cell ma...   \n",
      "\n",
      "                                         main_topics scientific_domain  ...  \\\n",
      "0  ['digital technologies', 'economic diversity',...      Anthropology  ...   \n",
      "1  ['Astrochemistry', 'Quantum Dynamics', 'Infrar...           Physics  ...   \n",
      "2  ['Astrochemistry', 'Quantum Dynamics', 'Infrar...           Physics  ...   \n",
      "3  ['Astrochemistry', 'Quantum Dynamics', 'Infrar...           Physics  ...   \n",
      "4  ['biophysics', 'molecular biology', 'computati...           biology  ...   \n",
      "\n",
      "                 expected_impact sustainability  \\\n",
      "0       ['societal', 'economic']            0.0   \n",
      "1  ['technological', 'societal']            0.0   \n",
      "2  ['technological', 'societal']            0.0   \n",
      "3  ['technological', 'societal']            0.0   \n",
      "4  ['societal', 'technological']            0.0   \n",
      "\n",
      "                                    semantic_summary    SME activityType  \\\n",
      "0  This project explores how non-industrial socie...  False          HES   \n",
      "1  The project aims to revolutionize astrochemist...  False          HES   \n",
      "2  The project aims to revolutionize astrochemist...  False          HES   \n",
      "3  The project aims to revolutionize astrochemist...  False          REC   \n",
      "4  The project 'In-phase' aims to develop a compu...  False          HES   \n",
      "\n",
      "  country nutsCode order         role endOfParticipation  \n",
      "0      NL    NL221     1  coordinator              False  \n",
      "1      DK    DK042     2  participant              False  \n",
      "2      DE    DE404     3  participant              False  \n",
      "3      DE    DE212     1  coordinator              False  \n",
      "4      ES    ES300     1  coordinator              False  \n",
      "\n",
      "[5 rows x 21 columns]\n",
      "<class 'pandas.core.frame.DataFrame'>\n",
      "RangeIndex: 100249 entries, 0 to 100248\n",
      "Data columns (total 21 columns):\n",
      " #   Column              Non-Null Count   Dtype   \n",
      "---  ------              --------------   -----   \n",
      " 0   id                  100249 non-null  int64   \n",
      " 1   status              100249 non-null  category\n",
      " 2   startDate           100249 non-null  object  \n",
      " 3   endDate             100249 non-null  object  \n",
      " 4   ecMaxContribution   100249 non-null  float64 \n",
      " 5   legalBasis          100249 non-null  category\n",
      " 6   fundingScheme       100248 non-null  category\n",
      " 7   objective_y         100249 non-null  object  \n",
      " 8   main_topics         100157 non-null  category\n",
      " 9   scientific_domain   99201 non-null   object  \n",
      " 10  problem_type        100157 non-null  category\n",
      " 11  expected_impact     100157 non-null  category\n",
      " 12  sustainability      100157 non-null  float64 \n",
      " 13  semantic_summary    100157 non-null  object  \n",
      " 14  SME                 99986 non-null   object  \n",
      " 15  activityType        100225 non-null  category\n",
      " 16  country             100236 non-null  category\n",
      " 17  nutsCode            99971 non-null   category\n",
      " 18  order               100249 non-null  category\n",
      " 19  role                100249 non-null  category\n",
      " 20  endOfParticipation  100249 non-null  bool    \n",
      "dtypes: bool(1), category(11), float64(2), int64(1), object(6)\n",
      "memory usage: 9.1+ MB\n",
      "None\n",
      "(100249, 21)\n",
      "                 id  ecMaxContribution  sustainability\n",
      "count  1.002490e+05       1.002490e+05   100157.000000\n",
      "mean   1.015230e+08       8.028732e+06        0.642242\n",
      "std    6.024056e+06       2.758056e+07        0.479343\n",
      "min    1.010390e+08       4.659400e+04        0.000000\n",
      "25%    1.010799e+08       2.499224e+06        0.000000\n",
      "50%    1.011127e+08       4.366775e+06        1.000000\n",
      "75%    1.011393e+08       7.498762e+06        1.000000\n",
      "max    1.901999e+08       5.494420e+08        1.000000\n"
     ]
    }
   ],
   "source": [
    "print(fulldf.head())\n",
    "print(fulldf.info())\n",
    "print(fulldf.shape)\n",
    "print(fulldf.describe())"
   ]
  },
  {
   "cell_type": "code",
   "execution_count": null,
   "id": "1b443dc5",
   "metadata": {},
   "outputs": [],
   "source": [
    "# Missings on SME, this gives a false to MSE when it is missings\n",
    "fulldf[\"SME\"] = fulldf[\"SME\"].astype(bool)"
   ]
  },
  {
   "cell_type": "code",
   "execution_count": 221,
   "id": "e17ef7f1",
   "metadata": {},
   "outputs": [],
   "source": [
    "fulldf[\"SME\"] = fulldf[\"SME\"].astype(int)"
   ]
  },
  {
   "cell_type": "code",
   "execution_count": 222,
   "id": "374b74ac",
   "metadata": {},
   "outputs": [],
   "source": [
    "fulldf[\"startDate\"] = pd.to_datetime(fulldf[\"startDate\"])\n",
    "fulldf[\"endDate\"] = pd.to_datetime(fulldf[\"endDate\"])"
   ]
  },
  {
   "cell_type": "code",
   "execution_count": 223,
   "id": "c89cf66f",
   "metadata": {},
   "outputs": [
    {
     "name": "stdout",
     "output_type": "stream",
     "text": [
      "          id  status  startDate    endDate  ecMaxContribution   legalBasis  \\\n",
      "0  101116741  SIGNED 2024-02-01 2029-01-31          1499998.0  HORIZON.1.1   \n",
      "1  101163161  SIGNED 2025-08-01 2031-07-31         12085363.0  HORIZON.1.1   \n",
      "2  101163161  SIGNED 2025-08-01 2031-07-31         12085363.0  HORIZON.1.1   \n",
      "3  101163161  SIGNED 2025-08-01 2031-07-31         12085363.0  HORIZON.1.1   \n",
      "4  101160499  SIGNED 2025-06-01 2030-05-31          1489128.0  HORIZON.1.1   \n",
      "\n",
      "     fundingScheme                                        objective_y  \\\n",
      "0      HORIZON-ERC  How do longstanding, primarily non-industrial,...   \n",
      "1  HORIZON-ERC-SYG  The James Webb Space Telescope (JWST) has ushe...   \n",
      "2  HORIZON-ERC-SYG  The James Webb Space Telescope (JWST) has ushe...   \n",
      "3  HORIZON-ERC-SYG  The James Webb Space Telescope (JWST) has ushe...   \n",
      "4      HORIZON-ERC  The spatiotemporal organization of the cell ma...   \n",
      "\n",
      "                                         main_topics scientific_domain  ...  \\\n",
      "0  ['digital technologies', 'economic diversity',...      Anthropology  ...   \n",
      "1  ['Astrochemistry', 'Quantum Dynamics', 'Infrar...           Physics  ...   \n",
      "2  ['Astrochemistry', 'Quantum Dynamics', 'Infrar...           Physics  ...   \n",
      "3  ['Astrochemistry', 'Quantum Dynamics', 'Infrar...           Physics  ...   \n",
      "4  ['biophysics', 'molecular biology', 'computati...           biology  ...   \n",
      "\n",
      "                 expected_impact sustainability  \\\n",
      "0       ['societal', 'economic']            0.0   \n",
      "1  ['technological', 'societal']            0.0   \n",
      "2  ['technological', 'societal']            0.0   \n",
      "3  ['technological', 'societal']            0.0   \n",
      "4  ['societal', 'technological']            0.0   \n",
      "\n",
      "                                    semantic_summary SME  activityType  \\\n",
      "0  This project explores how non-industrial socie...   0           HES   \n",
      "1  The project aims to revolutionize astrochemist...   0           HES   \n",
      "2  The project aims to revolutionize astrochemist...   0           HES   \n",
      "3  The project aims to revolutionize astrochemist...   0           REC   \n",
      "4  The project 'In-phase' aims to develop a compu...   0           HES   \n",
      "\n",
      "  country nutsCode order         role endOfParticipation  \n",
      "0      NL    NL221     1  coordinator              False  \n",
      "1      DK    DK042     2  participant              False  \n",
      "2      DE    DE404     3  participant              False  \n",
      "3      DE    DE212     1  coordinator              False  \n",
      "4      ES    ES300     1  coordinator              False  \n",
      "\n",
      "[5 rows x 21 columns]\n",
      "<class 'pandas.core.frame.DataFrame'>\n",
      "RangeIndex: 100249 entries, 0 to 100248\n",
      "Data columns (total 21 columns):\n",
      " #   Column              Non-Null Count   Dtype         \n",
      "---  ------              --------------   -----         \n",
      " 0   id                  100249 non-null  int64         \n",
      " 1   status              100249 non-null  category      \n",
      " 2   startDate           100249 non-null  datetime64[ns]\n",
      " 3   endDate             100249 non-null  datetime64[ns]\n",
      " 4   ecMaxContribution   100249 non-null  float64       \n",
      " 5   legalBasis          100249 non-null  category      \n",
      " 6   fundingScheme       100248 non-null  category      \n",
      " 7   objective_y         100249 non-null  object        \n",
      " 8   main_topics         100157 non-null  category      \n",
      " 9   scientific_domain   99201 non-null   object        \n",
      " 10  problem_type        100157 non-null  category      \n",
      " 11  expected_impact     100157 non-null  category      \n",
      " 12  sustainability      100157 non-null  float64       \n",
      " 13  semantic_summary    100157 non-null  object        \n",
      " 14  SME                 100249 non-null  int64         \n",
      " 15  activityType        100225 non-null  category      \n",
      " 16  country             100236 non-null  category      \n",
      " 17  nutsCode            99971 non-null   category      \n",
      " 18  order               100249 non-null  category      \n",
      " 19  role                100249 non-null  category      \n",
      " 20  endOfParticipation  100249 non-null  bool          \n",
      "dtypes: bool(1), category(11), datetime64[ns](2), float64(2), int64(2), object(3)\n",
      "memory usage: 9.1+ MB\n",
      "None\n",
      "(100249, 21)\n",
      "                 id                      startDate  \\\n",
      "count  1.002490e+05                         100249   \n",
      "mean   1.015230e+08  2023-09-01 01:46:22.890602496   \n",
      "min    1.010390e+08            2021-01-01 00:00:00   \n",
      "25%    1.010799e+08            2023-01-01 00:00:00   \n",
      "50%    1.011127e+08            2023-09-01 00:00:00   \n",
      "75%    1.011393e+08            2024-05-01 00:00:00   \n",
      "max    1.901999e+08            2026-01-01 00:00:00   \n",
      "std    6.024056e+06                            NaN   \n",
      "\n",
      "                             endDate  ecMaxContribution  sustainability  \\\n",
      "count                         100249       1.002490e+05   100157.000000   \n",
      "mean   2027-04-25 06:53:30.190625536       8.028732e+06        0.642242   \n",
      "min              2021-12-31 00:00:00       4.659400e+04        0.000000   \n",
      "25%              2026-05-31 00:00:00       2.499224e+06        0.000000   \n",
      "50%              2027-02-28 00:00:00       4.366775e+06        1.000000   \n",
      "75%              2028-01-31 00:00:00       7.498762e+06        1.000000   \n",
      "max              2034-05-31 00:00:00       5.494420e+08        1.000000   \n",
      "std                              NaN       2.758056e+07        0.479343   \n",
      "\n",
      "                 SME  \n",
      "count  100249.000000  \n",
      "mean        0.188680  \n",
      "min         0.000000  \n",
      "25%         0.000000  \n",
      "50%         0.000000  \n",
      "75%         0.000000  \n",
      "max         1.000000  \n",
      "std         0.391256  \n"
     ]
    }
   ],
   "source": [
    "print(fulldf.head())\n",
    "print(fulldf.info())\n",
    "print(fulldf.shape)\n",
    "print(fulldf.describe())"
   ]
  },
  {
   "cell_type": "code",
   "execution_count": 224,
   "id": "9b1f07ba",
   "metadata": {},
   "outputs": [
    {
     "name": "stdout",
     "output_type": "stream",
     "text": [
      "              id  status  startDate    endDate  ecMaxContribution  \\\n",
      "46924  101149703  SIGNED 2024-09-01 2026-08-31          195914.88   \n",
      "80795  101101973  SIGNED 2022-12-01 2026-09-30        37875973.46   \n",
      "80767  101101973  SIGNED 2022-12-01 2026-09-30        37875973.46   \n",
      "80766  101101973  SIGNED 2022-12-01 2026-09-30        37875973.46   \n",
      "80765  101101973  SIGNED 2022-12-01 2026-09-30        37875973.46   \n",
      "...          ...     ...        ...        ...                ...   \n",
      "17236  101177528  SIGNED 2025-01-01 2027-12-31         4999987.50   \n",
      "15277  101172838  SIGNED 2024-10-01 2030-09-30         9999999.97   \n",
      "21717  101103174  SIGNED 2023-07-01 2027-06-30         4998433.25   \n",
      "79294  101071224  SIGNED 2023-01-01 2026-12-31         2777853.60   \n",
      "56898  101071643  SIGNED 2023-10-01 2029-09-30        13800936.00   \n",
      "\n",
      "        legalBasis           fundingScheme  \\\n",
      "46924  HORIZON.1.2  HORIZON-TMA-MSCA-PF-EF   \n",
      "80795  HORIZON.2.5           HORIZON-JU-IA   \n",
      "80767  HORIZON.2.5           HORIZON-JU-IA   \n",
      "80766  HORIZON.2.5           HORIZON-JU-IA   \n",
      "80765  HORIZON.2.5           HORIZON-JU-IA   \n",
      "...            ...                     ...   \n",
      "17236  HORIZON.2.4             HORIZON-RIA   \n",
      "15277  HORIZON.2.5          HORIZON-COFUND   \n",
      "21717  HORIZON.2.1          HORIZON-JU-RIA   \n",
      "79294  HORIZON.1.2     HORIZON-TMA-MSCA-DN   \n",
      "56898  HORIZON.1.1         HORIZON-ERC-SYG   \n",
      "\n",
      "                                             objective_y  \\\n",
      "46924  Ongoing climate change has altered both mean a...   \n",
      "80795  “MOTIONAL” will enable the improved planning a...   \n",
      "80767  “MOTIONAL” will enable the improved planning a...   \n",
      "80766  “MOTIONAL” will enable the improved planning a...   \n",
      "80765  “MOTIONAL” will enable the improved planning a...   \n",
      "...                                                  ...   \n",
      "17236  Recent EU initiatives for a circular 'Net Zero...   \n",
      "15277  Built on LEAP-RE programme implemented between...   \n",
      "21717  The main aim of the proposed project is to use...   \n",
      "79294  The aim of WildDrone is to push wildlife conse...   \n",
      "56898  Black holes (BHs) are icons of the fundamental...   \n",
      "\n",
      "                                             main_topics  scientific_domain  \\\n",
      "46924                                                NaN                NaN   \n",
      "80795                                                NaN                NaN   \n",
      "80767                                                NaN                NaN   \n",
      "80766                                                NaN                NaN   \n",
      "80765                                                NaN                NaN   \n",
      "...                                                  ...                ...   \n",
      "17236  ['mineral exploration', 'deep exploration', 'c...            geology   \n",
      "15277  ['sustainable energy', 'partnership developmen...             energy   \n",
      "21717  ['genomic epidemiology', 'infectious diseases'...            biology   \n",
      "79294  ['wildlife conservation', 'drone technology', ...  interdisciplinary   \n",
      "56898  ['Black Holes', 'Astrophysics', 'Gravity', 'Pl...       Astrophysics   \n",
      "\n",
      "       ...                expected_impact sustainability  \\\n",
      "46924  ...                            NaN            NaN   \n",
      "80795  ...                            NaN            NaN   \n",
      "80767  ...                            NaN            NaN   \n",
      "80766  ...                            NaN            NaN   \n",
      "80765  ...                            NaN            NaN   \n",
      "...    ...                            ...            ...   \n",
      "17236  ...  ['technological', 'economic']            1.0   \n",
      "15277  ...  ['societal', 'technological']            1.0   \n",
      "21717  ...  ['societal', 'technological']            1.0   \n",
      "79294  ...  ['societal', 'technological']            1.0   \n",
      "56898  ...  ['societal', 'technological']            0.0   \n",
      "\n",
      "                                        semantic_summary SME  activityType  \\\n",
      "46924                                                NaN   0           HES   \n",
      "80795                                                NaN   0           REC   \n",
      "80767                                                NaN   0           PRC   \n",
      "80766                                                NaN   0           HES   \n",
      "80765                                                NaN   0           PRC   \n",
      "...                                                  ...  ..           ...   \n",
      "17236  UNDERCOVER aims to revolutionize deep explorat...   0           PRC   \n",
      "15277  LEAP-SE aims to advance sustainable energy fie...   0           PUB   \n",
      "21717  The project aims to enhance disease surveillan...   0           HES   \n",
      "79294  WildDrone aims to revolutionize wildlife conse...   0           PRC   \n",
      "56898  The project aims to advance our understanding ...   0           HES   \n",
      "\n",
      "      country nutsCode order               role endOfParticipation  \n",
      "46924      FR    FRI12     1        coordinator              False  \n",
      "80795      SE    SE232    24         thirdParty              False  \n",
      "80767      ES    ES212     6        participant              False  \n",
      "80766      SE    SE123    24         thirdParty              False  \n",
      "80765      IT    ITI43    13        participant              False  \n",
      "...       ...      ...   ...                ...                ...  \n",
      "17236     NaN      NaN     7        participant              False  \n",
      "15277     NaN      NaN    18        participant              False  \n",
      "21717     NaN      NaN     6        participant              False  \n",
      "79294     NaN      NaN    17  associatedPartner              False  \n",
      "56898     NaN      NaN     5        participant              False  \n",
      "\n",
      "[100 rows x 21 columns]\n"
     ]
    }
   ],
   "source": [
    "import missingno as msno\n",
    "sorted_NAs = msno.nullity_sort(fulldf, sort='ascending')\n",
    "print(sorted_NAs.head(100))"
   ]
  },
  {
   "cell_type": "code",
   "execution_count": 225,
   "id": "8278ef09",
   "metadata": {},
   "outputs": [],
   "source": [
    "# missings on all new col's: 101149703 (195914.88 funding, 1 organization), 101101973 (37875973.46 funding, 89 organizations) 101041246\n",
    "# (1395888.00 funding, 1 organization)\n",
    "# Drop these two for now\n",
    "fulldf_C = fulldf[~fulldf[\"id\"].isin([101149703, 101101973])]"
   ]
  },
  {
   "cell_type": "code",
   "execution_count": 226,
   "id": "a12c99cd",
   "metadata": {},
   "outputs": [
    {
     "name": "stdout",
     "output_type": "stream",
     "text": [
      "              id  status  startDate    endDate  ecMaxContribution  \\\n",
      "78651  101041246  SIGNED 2022-09-01 2027-08-31         1395888.00   \n",
      "11716  101114611  SIGNED 2023-06-01 2026-05-31         5356611.76   \n",
      "8249   101136739  SIGNED 2024-01-01 2026-12-31         6750129.38   \n",
      "6886   101057832  SIGNED 2022-06-01 2025-11-30         7268627.50   \n",
      "17236  101177528  SIGNED 2025-01-01 2027-12-31         4999987.50   \n",
      "20813  101103195  SIGNED 2023-07-01 2026-06-30          599947.50   \n",
      "21717  101103174  SIGNED 2023-07-01 2027-06-30         4998433.25   \n",
      "15277  101172838  SIGNED 2024-10-01 2030-09-30         9999999.97   \n",
      "42353  101178250  SIGNED 2025-06-01 2029-05-31         1194000.00   \n",
      "43492  101063992  SIGNED 2023-09-01 2026-02-28          206641.20   \n",
      "44271  101065058  CLOSED 2022-08-01 2024-07-31          172750.08   \n",
      "42842  101081581  SIGNED 2023-10-01 2028-09-30         1881600.00   \n",
      "45680  101120060  SIGNED 2024-02-01 2028-01-31         2547007.20   \n",
      "50867  101113553  SIGNED 2023-03-01 2024-08-31          150000.00   \n",
      "56898  101071643  SIGNED 2023-10-01 2029-09-30        13800936.00   \n",
      "79294  101071224  SIGNED 2023-01-01 2026-12-31         2777853.60   \n",
      "1397   101100494  SIGNED 2023-04-01 2025-06-30          997125.00   \n",
      "1396   101100494  SIGNED 2023-04-01 2025-06-30          997125.00   \n",
      "1395   101100494  SIGNED 2023-04-01 2025-06-30          997125.00   \n",
      "1394   101100494  SIGNED 2023-04-01 2025-06-30          997125.00   \n",
      "\n",
      "        legalBasis              fundingScheme  \\\n",
      "78651  HORIZON.1.1                HORIZON-ERC   \n",
      "11716  HORIZON.2.5             HORIZON-JU-RIA   \n",
      "8249   HORIZON.2.6                 HORIZON-IA   \n",
      "6886   HORIZON.2.4                HORIZON-CSA   \n",
      "17236  HORIZON.2.4                HORIZON-RIA   \n",
      "20813  HORIZON.2.1             HORIZON-JU-CSA   \n",
      "21717  HORIZON.2.1             HORIZON-JU-RIA   \n",
      "15277  HORIZON.2.5             HORIZON-COFUND   \n",
      "42353  HORIZON.1.2  HORIZON-TMA-MSCA-Cofund-P   \n",
      "43492  HORIZON.1.2     HORIZON-TMA-MSCA-PF-EF   \n",
      "44271  HORIZON.1.2     HORIZON-TMA-MSCA-PF-EF   \n",
      "42842  HORIZON.1.2  HORIZON-TMA-MSCA-Cofund-D   \n",
      "45680  HORIZON.1.2        HORIZON-TMA-MSCA-DN   \n",
      "50867  HORIZON.1.1                        NaN   \n",
      "56898  HORIZON.1.1            HORIZON-ERC-SYG   \n",
      "79294  HORIZON.1.2        HORIZON-TMA-MSCA-DN   \n",
      "1397   HORIZON.3.2                HORIZON-CSA   \n",
      "1396   HORIZON.3.2                HORIZON-CSA   \n",
      "1395   HORIZON.3.2                HORIZON-CSA   \n",
      "1394   HORIZON.3.2                HORIZON-CSA   \n",
      "\n",
      "                                             objective_y  \\\n",
      "78651  \"The E-BoP project is an innovative study of t...   \n",
      "11716  \"GEESE will develop with SESAR the introductio...   \n",
      "8249   INNOECOFOOD aims to establish innovative produ...   \n",
      "6886   Secure the access to raw materials represents ...   \n",
      "17236  Recent EU initiatives for a circular 'Net Zero...   \n",
      "20813  The Southern Africa Regulatory for Clinical Re...   \n",
      "21717  The main aim of the proposed project is to use...   \n",
      "15277  Built on LEAP-RE programme implemented between...   \n",
      "42353  The ATENEA programme will offer ten 30-month P...   \n",
      "43492  State-of-the-art investigations of the hydrody...   \n",
      "44271  WaterScapes is an interdisciplinary project th...   \n",
      "42842  The rePLANT (Reconstruction Biology in Plant S...   \n",
      "45680  Social, political, and cultural transformation...   \n",
      "50867  Nuclear magnetic resonance (NMR) is a powerful...   \n",
      "56898  Black holes (BHs) are icons of the fundamental...   \n",
      "79294  The aim of WildDrone is to push wildlife conse...   \n",
      "1397   The EU is planning to reduce its net greenhous...   \n",
      "1396   The EU is planning to reduce its net greenhous...   \n",
      "1395   The EU is planning to reduce its net greenhous...   \n",
      "1394   The EU is planning to reduce its net greenhous...   \n",
      "\n",
      "                                             main_topics  \\\n",
      "78651                                                NaN   \n",
      "11716  ['Air Traffic Management', 'Wake Energy Retrie...   \n",
      "8249   ['AI', 'IoT', 'aquaculture', 'sustainability',...   \n",
      "6886   ['raw materials', 'sustainable sourcing', 'EU-...   \n",
      "17236  ['mineral exploration', 'deep exploration', 'c...   \n",
      "20813  ['clinical trials', 'regulatory capacity build...   \n",
      "21717  ['genomic epidemiology', 'infectious diseases'...   \n",
      "15277  ['sustainable energy', 'partnership developmen...   \n",
      "42353  ['Materials Science and Engineering', 'Interdi...   \n",
      "43492  ['fluid dynamics', 'numerical methodology', 'f...   \n",
      "44271  ['environmental changes', 'archaeology', 'wate...   \n",
      "42842       ['Reconstruction Biology', 'Plant Sciences']   \n",
      "45680  ['populism', 'democracy', 'gender rights', 'tr...   \n",
      "50867  ['Nuclear magnetic resonance', 'Radiation-dete...   \n",
      "56898  ['Black Holes', 'Astrophysics', 'Gravity', 'Pl...   \n",
      "79294  ['wildlife conservation', 'drone technology', ...   \n",
      "1397   ['entrepreneurship education', 'innovative sol...   \n",
      "1396   ['entrepreneurship education', 'innovative sol...   \n",
      "1395   ['entrepreneurship education', 'innovative sol...   \n",
      "1394   ['entrepreneurship education', 'innovative sol...   \n",
      "\n",
      "                       scientific_domain  ...  \\\n",
      "78651                                NaN  ...   \n",
      "11716              aerospace engineering  ...   \n",
      "8249                         agriculture  ...   \n",
      "6886                   materials science  ...   \n",
      "17236                            geology  ...   \n",
      "20813                           Medicine  ...   \n",
      "21717                            biology  ...   \n",
      "15277                             energy  ...   \n",
      "42353  materials science and engineering  ...   \n",
      "43492              aerospace engineering  ...   \n",
      "44271                        Archaeology  ...   \n",
      "42842                            biology  ...   \n",
      "45680                                NaN  ...   \n",
      "50867                                NaN  ...   \n",
      "56898                       Astrophysics  ...   \n",
      "79294                  interdisciplinary  ...   \n",
      "1397                                 NaN  ...   \n",
      "1396                                 NaN  ...   \n",
      "1395                                 NaN  ...   \n",
      "1394                                 NaN  ...   \n",
      "\n",
      "                                      expected_impact sustainability  \\\n",
      "78651                                             NaN            NaN   \n",
      "11716                   ['technological', 'economic']            0.0   \n",
      "8249   ['societal', 'technological', 'environmental']            1.0   \n",
      "6886                         ['societal', 'economic']            1.0   \n",
      "17236                   ['technological', 'economic']            1.0   \n",
      "20813                   ['societal', 'technological']            0.0   \n",
      "21717                   ['societal', 'technological']            1.0   \n",
      "15277                   ['societal', 'technological']            1.0   \n",
      "42353                        ['societal', 'economic']            0.0   \n",
      "43492                   ['technological', 'societal']            0.0   \n",
      "44271                   ['societal', 'technological']            1.0   \n",
      "42842                                    ['societal']            0.0   \n",
      "45680                   ['societal', 'technological']            1.0   \n",
      "50867                   ['technological', 'societal']            0.0   \n",
      "56898                   ['societal', 'technological']            0.0   \n",
      "79294                   ['societal', 'technological']            1.0   \n",
      "1397                    ['societal', 'technological']            1.0   \n",
      "1396                    ['societal', 'technological']            1.0   \n",
      "1395                    ['societal', 'technological']            1.0   \n",
      "1394                    ['societal', 'technological']            1.0   \n",
      "\n",
      "                                        semantic_summary SME  activityType  \\\n",
      "78651                                                NaN   0           REC   \n",
      "11716  The GEESE project aims to develop and implemen...   0           NaN   \n",
      "8249   INNOECOFOOD aims to establish innovative ECOHU...   0           HES   \n",
      "6886   The AfricaMaVal project aims to develop an EU-...   0           HES   \n",
      "17236  UNDERCOVER aims to revolutionize deep explorat...   0           PRC   \n",
      "20813  The SEARCH II project aims to enhance regulato...   0           PUB   \n",
      "21717  The project aims to enhance disease surveillan...   0           HES   \n",
      "15277  LEAP-SE aims to advance sustainable energy fie...   0           PUB   \n",
      "42353  The ATENEA programme aims to provide postdocto...   0           PRC   \n",
      "43492  The project aims to develop a theoretical/nume...   0           PRC   \n",
      "44271  WaterScapes is an interdisciplinary project fo...   0           OTH   \n",
      "42842  The rePLANT Doctoral Training Program focuses ...   1           PRC   \n",
      "45680  The LAC-EU doctoral network aims to understand...   1           PRC   \n",
      "50867  The project aims to enhance NMR sensitivity by...   0           REC   \n",
      "56898  The project aims to advance our understanding ...   0           HES   \n",
      "79294  WildDrone aims to revolutionize wildlife conse...   0           PRC   \n",
      "1397   The SEED+ project aims to foster a new generat...   1           PRC   \n",
      "1396   The SEED+ project aims to foster a new generat...   0           HES   \n",
      "1395   The SEED+ project aims to foster a new generat...   1           PRC   \n",
      "1394   The SEED+ project aims to foster a new generat...   0           HES   \n",
      "\n",
      "      country nutsCode order               role endOfParticipation  \n",
      "78651      FR    FR101     1        coordinator              False  \n",
      "11716     NaN      NaN    17  associatedPartner              False  \n",
      "8249      NaN      NaN     6        participant              False  \n",
      "6886      NaN      NaN    10        participant              False  \n",
      "17236     NaN      NaN     7        participant              False  \n",
      "20813     NaN      NaN     6        participant              False  \n",
      "21717     NaN      NaN     6        participant              False  \n",
      "15277     NaN      NaN    18        participant              False  \n",
      "42353     NaN      NaN    22  associatedPartner              False  \n",
      "43492     NaN      NaN     3  associatedPartner              False  \n",
      "44271     NaN      NaN     2  associatedPartner              False  \n",
      "42842     NaN      NaN     2  associatedPartner              False  \n",
      "45680      FR      NaN    14  associatedPartner              False  \n",
      "50867      CH    CH013     1        coordinator              False  \n",
      "56898     NaN      NaN     5        participant              False  \n",
      "79294     NaN      NaN    17  associatedPartner              False  \n",
      "1397       PT    PT1A0     7        participant              False  \n",
      "1396       DE    DE122     8  associatedPartner              False  \n",
      "1395       SK    SK010     4        participant              False  \n",
      "1394       IT    ITF35     9  associatedPartner              False  \n",
      "\n",
      "[20 rows x 21 columns]\n"
     ]
    }
   ],
   "source": [
    "# When country or nutscode our NA python thinks its a NAN so have to change this behaviour\n",
    "# Also missing on all: 101041246 (1395888.00, 1 organization)\n",
    "# Missing only on scientific domain: 101120060, 101129910, 101113553, 101100494, 101081937\n",
    "# for organization order 14 of id 101120060: no nutscode and lots of missings for adress (col's dropped earlier)\n",
    "\n",
    "sorted_NAs = msno.nullity_sort(fulldf_C, sort='ascending')\n",
    "print(sorted_NAs.head(20))"
   ]
  },
  {
   "cell_type": "code",
   "execution_count": 227,
   "id": "24a204a2",
   "metadata": {},
   "outputs": [
    {
     "name": "stdout",
     "output_type": "stream",
     "text": [
      "              id  status  startDate    endDate  ecMaxContribution  \\\n",
      "11716  101114611  SIGNED 2023-06-01 2026-05-31         5356611.76   \n",
      "6886   101057832  SIGNED 2022-06-01 2025-11-30         7268627.50   \n",
      "8249   101136739  SIGNED 2024-01-01 2026-12-31         6750129.38   \n",
      "15277  101172838  SIGNED 2024-10-01 2030-09-30         9999999.97   \n",
      "17236  101177528  SIGNED 2025-01-01 2027-12-31         4999987.50   \n",
      "20813  101103195  SIGNED 2023-07-01 2026-06-30          599947.50   \n",
      "21717  101103174  SIGNED 2023-07-01 2027-06-30         4998433.25   \n",
      "42353  101178250  SIGNED 2025-06-01 2029-05-31         1194000.00   \n",
      "42842  101081581  SIGNED 2023-10-01 2028-09-30         1881600.00   \n",
      "43492  101063992  SIGNED 2023-09-01 2026-02-28          206641.20   \n",
      "44271  101065058  CLOSED 2022-08-01 2024-07-31          172750.08   \n",
      "56898  101071643  SIGNED 2023-10-01 2029-09-30        13800936.00   \n",
      "79294  101071224  SIGNED 2023-01-01 2026-12-31         2777853.60   \n",
      "1926   101081937  SIGNED 2022-11-01 2024-12-31         1498220.25   \n",
      "1925   101081937  SIGNED 2022-11-01 2024-12-31         1498220.25   \n",
      "1924   101081937  SIGNED 2022-11-01 2024-12-31         1498220.25   \n",
      "1923   101081937  SIGNED 2022-11-01 2024-12-31         1498220.25   \n",
      "1922   101081937  SIGNED 2022-11-01 2024-12-31         1498220.25   \n",
      "2332   101092242  SIGNED 2022-12-01 2026-11-30         3218277.00   \n",
      "2347   101092944  SIGNED 2023-01-01 2025-12-31         4911425.00   \n",
      "\n",
      "        legalBasis              fundingScheme  \\\n",
      "11716  HORIZON.2.5             HORIZON-JU-RIA   \n",
      "6886   HORIZON.2.4                HORIZON-CSA   \n",
      "8249   HORIZON.2.6                 HORIZON-IA   \n",
      "15277  HORIZON.2.5             HORIZON-COFUND   \n",
      "17236  HORIZON.2.4                HORIZON-RIA   \n",
      "20813  HORIZON.2.1             HORIZON-JU-CSA   \n",
      "21717  HORIZON.2.1             HORIZON-JU-RIA   \n",
      "42353  HORIZON.1.2  HORIZON-TMA-MSCA-Cofund-P   \n",
      "42842  HORIZON.1.2  HORIZON-TMA-MSCA-Cofund-D   \n",
      "43492  HORIZON.1.2     HORIZON-TMA-MSCA-PF-EF   \n",
      "44271  HORIZON.1.2     HORIZON-TMA-MSCA-PF-EF   \n",
      "56898  HORIZON.1.1            HORIZON-ERC-SYG   \n",
      "79294  HORIZON.1.2        HORIZON-TMA-MSCA-DN   \n",
      "1926   HORIZON.2.4                HORIZON-RIA   \n",
      "1925   HORIZON.2.4                HORIZON-RIA   \n",
      "1924   HORIZON.2.4                HORIZON-RIA   \n",
      "1923   HORIZON.2.4                HORIZON-RIA   \n",
      "1922   HORIZON.2.4                HORIZON-RIA   \n",
      "2332   HORIZON.2.4                HORIZON-RIA   \n",
      "2347   HORIZON.2.4                HORIZON-RIA   \n",
      "\n",
      "                                             objective_y  \\\n",
      "11716  \"GEESE will develop with SESAR the introductio...   \n",
      "6886   Secure the access to raw materials represents ...   \n",
      "8249   INNOECOFOOD aims to establish innovative produ...   \n",
      "15277  Built on LEAP-RE programme implemented between...   \n",
      "17236  Recent EU initiatives for a circular 'Net Zero...   \n",
      "20813  The Southern Africa Regulatory for Clinical Re...   \n",
      "21717  The main aim of the proposed project is to use...   \n",
      "42353  The ATENEA programme will offer ten 30-month P...   \n",
      "42842  The rePLANT (Reconstruction Biology in Plant S...   \n",
      "43492  State-of-the-art investigations of the hydrody...   \n",
      "44271  WaterScapes is an interdisciplinary project th...   \n",
      "56898  Black holes (BHs) are icons of the fundamental...   \n",
      "79294  The aim of WildDrone is to push wildlife conse...   \n",
      "1926   Sustainable space exploration requires the dev...   \n",
      "1925   Sustainable space exploration requires the dev...   \n",
      "1924   Sustainable space exploration requires the dev...   \n",
      "1923   Sustainable space exploration requires the dev...   \n",
      "1922   Sustainable space exploration requires the dev...   \n",
      "2332   Hypertension is the leading global contributor...   \n",
      "2347   EXA4MIND will build an Extreme Data platform t...   \n",
      "\n",
      "                                             main_topics  \\\n",
      "11716  ['Air Traffic Management', 'Wake Energy Retrie...   \n",
      "6886   ['raw materials', 'sustainable sourcing', 'EU-...   \n",
      "8249   ['AI', 'IoT', 'aquaculture', 'sustainability',...   \n",
      "15277  ['sustainable energy', 'partnership developmen...   \n",
      "17236  ['mineral exploration', 'deep exploration', 'c...   \n",
      "20813  ['clinical trials', 'regulatory capacity build...   \n",
      "21717  ['genomic epidemiology', 'infectious diseases'...   \n",
      "42353  ['Materials Science and Engineering', 'Interdi...   \n",
      "42842       ['Reconstruction Biology', 'Plant Sciences']   \n",
      "43492  ['fluid dynamics', 'numerical methodology', 'f...   \n",
      "44271  ['environmental changes', 'archaeology', 'wate...   \n",
      "56898  ['Black Holes', 'Astrophysics', 'Gravity', 'Pl...   \n",
      "79294  ['wildlife conservation', 'drone technology', ...   \n",
      "1926   ['Space exploration', 'In-Situ Resource Utiliz...   \n",
      "1925   ['Space exploration', 'In-Situ Resource Utiliz...   \n",
      "1924   ['Space exploration', 'In-Situ Resource Utiliz...   \n",
      "1923   ['Space exploration', 'In-Situ Resource Utiliz...   \n",
      "1922   ['Space exploration', 'In-Situ Resource Utiliz...   \n",
      "2332   ['medical technology', 'biomaterials', 'sensor...   \n",
      "2347   ['Big Data', 'Data Management', 'High-Performa...   \n",
      "\n",
      "                       scientific_domain  ...  \\\n",
      "11716              aerospace engineering  ...   \n",
      "6886                   materials science  ...   \n",
      "8249                         agriculture  ...   \n",
      "15277                             energy  ...   \n",
      "17236                            geology  ...   \n",
      "20813                           Medicine  ...   \n",
      "21717                            biology  ...   \n",
      "42353  materials science and engineering  ...   \n",
      "42842                            biology  ...   \n",
      "43492              aerospace engineering  ...   \n",
      "44271                        Archaeology  ...   \n",
      "56898                       Astrophysics  ...   \n",
      "79294                  interdisciplinary  ...   \n",
      "1926                                 NaN  ...   \n",
      "1925                                 NaN  ...   \n",
      "1924                                 NaN  ...   \n",
      "1923                                 NaN  ...   \n",
      "1922                                 NaN  ...   \n",
      "2332                            Medicine  ...   \n",
      "2347                    Computer Science  ...   \n",
      "\n",
      "                                      expected_impact sustainability  \\\n",
      "11716                   ['technological', 'economic']            0.0   \n",
      "6886                         ['societal', 'economic']            1.0   \n",
      "8249   ['societal', 'technological', 'environmental']            1.0   \n",
      "15277                   ['societal', 'technological']            1.0   \n",
      "17236                   ['technological', 'economic']            1.0   \n",
      "20813                   ['societal', 'technological']            0.0   \n",
      "21717                   ['societal', 'technological']            1.0   \n",
      "42353                        ['societal', 'economic']            0.0   \n",
      "42842                                    ['societal']            0.0   \n",
      "43492                   ['technological', 'societal']            0.0   \n",
      "44271                   ['societal', 'technological']            1.0   \n",
      "56898                   ['societal', 'technological']            0.0   \n",
      "79294                   ['societal', 'technological']            1.0   \n",
      "1926                    ['technological', 'societal']            1.0   \n",
      "1925                    ['technological', 'societal']            1.0   \n",
      "1924                    ['technological', 'societal']            1.0   \n",
      "1923                    ['technological', 'societal']            1.0   \n",
      "1922                    ['technological', 'societal']            1.0   \n",
      "2332                    ['societal', 'technological']            0.0   \n",
      "2347                    ['technological', 'societal']            0.0   \n",
      "\n",
      "                                        semantic_summary SME  activityType  \\\n",
      "11716  The GEESE project aims to develop and implemen...   0           NaN   \n",
      "6886   The AfricaMaVal project aims to develop an EU-...   0           HES   \n",
      "8249   INNOECOFOOD aims to establish innovative ECOHU...   0           HES   \n",
      "15277  LEAP-SE aims to advance sustainable energy fie...   0           PUB   \n",
      "17236  UNDERCOVER aims to revolutionize deep explorat...   0           PRC   \n",
      "20813  The SEARCH II project aims to enhance regulato...   0           PUB   \n",
      "21717  The project aims to enhance disease surveillan...   0           HES   \n",
      "42353  The ATENEA programme aims to provide postdocto...   0           PRC   \n",
      "42842  The rePLANT Doctoral Training Program focuses ...   1           PRC   \n",
      "43492  The project aims to develop a theoretical/nume...   0           PRC   \n",
      "44271  WaterScapes is an interdisciplinary project fo...   0           OTH   \n",
      "56898  The project aims to advance our understanding ...   0           HES   \n",
      "79294  WildDrone aims to revolutionize wildlife conse...   0           PRC   \n",
      "1926   LUWEX aims to develop technologies for extract...   0           REC   \n",
      "1925   LUWEX aims to develop technologies for extract...   0           PRC   \n",
      "1924   LUWEX aims to develop technologies for extract...   0           HES   \n",
      "1923   LUWEX aims to develop technologies for extract...   0           PRC   \n",
      "1922   LUWEX aims to develop technologies for extract...   1           PRC   \n",
      "2332   The project aims to develop a novel sensor usi...   1           PRC   \n",
      "2347   EXA4MIND aims to develop an Extreme Data platf...   1           PRC   \n",
      "\n",
      "      country nutsCode order               role endOfParticipation  \n",
      "11716     NaN      NaN    17  associatedPartner              False  \n",
      "6886      NaN      NaN    10        participant              False  \n",
      "8249      NaN      NaN     6        participant              False  \n",
      "15277     NaN      NaN    18        participant              False  \n",
      "17236     NaN      NaN     7        participant              False  \n",
      "20813     NaN      NaN     6        participant              False  \n",
      "21717     NaN      NaN     6        participant              False  \n",
      "42353     NaN      NaN    22  associatedPartner              False  \n",
      "42842     NaN      NaN     2  associatedPartner              False  \n",
      "43492     NaN      NaN     3  associatedPartner              False  \n",
      "44271     NaN      NaN     2  associatedPartner              False  \n",
      "56898     NaN      NaN     5        participant              False  \n",
      "79294     NaN      NaN    17  associatedPartner              False  \n",
      "1926       DE    DEA23     1        coordinator              False  \n",
      "1925       PL    PL514     4        participant              False  \n",
      "1924       DE    DE911     3        participant              False  \n",
      "1923       IT    ITI43     6        participant              False  \n",
      "1922       AT    AT130     2        participant              False  \n",
      "2332       IT      NaN     2         thirdParty              False  \n",
      "2347       FR      NaN     5        participant              False  \n",
      "\n",
      "[20 rows x 21 columns]\n"
     ]
    }
   ],
   "source": [
    "fulldf_C = fulldf_C[~fulldf_C[\"id\"].isin([101041246, 101120060, 101129910, 101113553, 101100494])]\n",
    "# Ensure that 'NA' in 'country' or 'nutsCode' columns is treated as a string value and not as NaN (can't seem to fix that)\n",
    "sorted_NAs = msno.nullity_sort(fulldf_C, sort='ascending')\n",
    "print(sorted_NAs.head(20))"
   ]
  },
  {
   "cell_type": "code",
   "execution_count": 228,
   "id": "3fe077ff",
   "metadata": {
    "vscode": {
     "languageId": "powershell"
    }
   },
   "outputs": [
    {
     "name": "stdout",
     "output_type": "stream",
     "text": [
      "[101100494 101081937 101135691 101133904 101060762 101058632 101121152\n",
      " 101059483 101188351 101136770 101084137 101192383 101078933 101079183\n",
      " 101180607 101177455 101070120 101084201 101137340 101177405 101187961\n",
      " 101075596 101060884 101160009 101095160 101122323 101151842 101149774\n",
      " 101062821 101131441 101150927 101179819 101062255 101148424 101064890\n",
      " 101146144 101183162 101072316 101061631 101162230 101152906 101064013\n",
      " 101148808 101120060 101129910 101149389 101155739 101149703 101179991\n",
      " 101154870 101152840 101073381 101072992 101073351 101060237 101068688\n",
      " 101153914 101067621 101064735 101062942 101120172 101067998 101086142\n",
      " 101113553 101089047 101124215 101188053 101124701 101118083 101170388\n",
      " 101142115 101098225 101116774 101165305 101160928 101078619 101077492\n",
      " 101096005 101054696 101163065 101166888 101097688 101087876 101161994\n",
      " 101098279 101150729 101072344 101057385 101139777 101065293 101119442\n",
      " 101136955 101110097 101110007 101107981 101105463 101110562 101108387\n",
      " 101106395 101104928 101110162 101162248 101119556 101131549 101072845\n",
      " 101103026 101094765 101125012 101123233 101169269 101136377 101069994\n",
      " 101159928 101073821 101150609 101132339 101041424 101039294 101041246\n",
      " 101119598 101101973 101183089 101072410 101159883 101179234 101130271\n",
      " 101135884 101136607 101135533 101108151 101044725 101113180 101129661\n",
      " 101057960 101115134 101046364 101112987 101130550]\n",
      "[101149703 101041246 101101973]\n",
      "[101149703 101041246 101101973]\n",
      "[101149703 101041246 101101973]\n",
      "[101149703 101041246 101101973]\n"
     ]
    }
   ],
   "source": [
    "# List of all  projects than above with a missing scientific_domain\n",
    "missing_scientific_domain = fulldf[fulldf[\"scientific_domain\"].isna()]\n",
    "print(missing_scientific_domain[\"id\"].unique())\n",
    "# List of projects with missing on main_topics \n",
    "missing_scientific_domain = fulldf[fulldf[\"main_topics\"].isna()]\n",
    "print(missing_scientific_domain[\"id\"].unique())\n",
    "# List of projects with missing on expected_impact (besides ids with all missings)\n",
    "missing_scientific_domain = fulldf[fulldf[\"expected_impact\"].isna()]\n",
    "print(missing_scientific_domain[\"id\"].unique())\n",
    "# List of projects with missing on sustainability (besides ids with all missings)\n",
    "missing_scientific_domain = fulldf[fulldf[\"sustainability\"].isna()]\n",
    "print(missing_scientific_domain[\"id\"].unique())\n",
    "# List of projects with missing on problem_type (besides ids with all missings)\n",
    "missing_scientific_domain = fulldf[fulldf[\"problem_type\"].isna()]\n",
    "print(missing_scientific_domain[\"id\"].unique())"
   ]
  },
  {
   "cell_type": "code",
   "execution_count": null,
   "id": "af3e940b",
   "metadata": {
    "vscode": {
     "languageId": "powershell"
    }
   },
   "outputs": [
    {
     "name": "stdout",
     "output_type": "stream",
     "text": [
      "[101113553]\n"
     ]
    }
   ],
   "source": [
    "# Still some missing values on: fundingScheme, 101113553 looks like it has no fundingscheme (reliable to include?)\n",
    "# Organisation involved: ORGANISATION EUROPEENNE NUCLEAIRE, so maybe a EURATOM fundingsscheme?\n",
    "missing_scientific_domain = fulldf[fulldf[\"fundingScheme\"].isna()]\n",
    "print(missing_scientific_domain[\"id\"].unique())"
   ]
  },
  {
   "cell_type": "code",
   "execution_count": null,
   "id": "55e4c733",
   "metadata": {
    "vscode": {
     "languageId": "powershell"
    }
   },
   "outputs": [
    {
     "name": "stdout",
     "output_type": "stream",
     "text": [
      "              id order\n",
      "11716  101114611    17\n",
      "26370  101120397     7\n",
      "26372  101120397     8\n",
      "26374  101120397     4\n",
      "34510  101084651    11\n",
      "48561  101129889    10\n",
      "48567  101129889     7\n",
      "48569  101129889     4\n",
      "59606  101094546    19\n",
      "59608  101094546    10\n",
      "59612  101094546    15\n",
      "59614  101094546     7\n",
      "59619  101094546     9\n",
      "59621  101094546    20\n",
      "59624  101094546    21\n",
      "61055  101105967     3\n",
      "88261  101131469     7\n",
      "88262  101131469     8\n",
      "88263  101131469     4\n",
      "88264  101131469    10\n",
      "88265  101131469     2\n",
      "88267  101131469     6\n",
      "88268  101131469     9\n",
      "99511  190183494     1\n",
      "24\n"
     ]
    }
   ],
   "source": [
    "# 24 missings on activitytype\n",
    "missing_scientific_domain = fulldf[fulldf[\"activityType\"].isna()]\n",
    "unique_combinations = missing_scientific_domain[['id', 'order']].drop_duplicates()\n",
    "print(unique_combinations)\n",
    "print(len(unique_combinations))\n"
   ]
  },
  {
   "cell_type": "code",
   "execution_count": null,
   "id": "49554c88",
   "metadata": {
    "vscode": {
     "languageId": "powershell"
    }
   },
   "outputs": [
    {
     "name": "stdout",
     "output_type": "stream",
     "text": [
      "              id order\n",
      "6886   101057832    10\n",
      "8249   101136739     6\n",
      "11716  101114611    17\n",
      "15277  101172838    18\n",
      "17236  101177528     7\n",
      "20813  101103195     6\n",
      "21717  101103174     6\n",
      "42353  101178250    22\n",
      "42842  101081581     2\n",
      "43492  101063992     3\n",
      "44271  101065058     2\n",
      "56898  101071643     5\n",
      "79294  101071224    17\n",
      "13\n"
     ]
    }
   ],
   "source": [
    "# 13 missings on country, mostly bcs of NA, Change manually in excell file via formula if not fixable via python?\n",
    "missing_scientific_domain = fulldf[fulldf[\"country\"].isna()]\n",
    "unique_combinations = missing_scientific_domain[['id', 'order']].drop_duplicates()\n",
    "print(unique_combinations)\n",
    "print(len(unique_combinations))"
   ]
  },
  {
   "cell_type": "code",
   "execution_count": null,
   "id": "b16c3f96",
   "metadata": {},
   "outputs": [
    {
     "name": "stdout",
     "output_type": "stream",
     "text": [
      "              id order\n",
      "343    101096781     6\n",
      "425    101121171     2\n",
      "1731   101129646     4\n",
      "1812   101180091     2\n",
      "2332   101092242     2\n",
      "...          ...   ...\n",
      "96162  101126688    14\n",
      "96580  101081347     8\n",
      "98532  101186252     4\n",
      "98536  101186252     5\n",
      "98537  101186252     2\n",
      "\n",
      "[278 rows x 2 columns]\n",
      "278\n"
     ]
    }
   ],
   "source": [
    "# Also because of NA but more with real missings \n",
    "missing_scientific_domain = fulldf[fulldf[\"nutsCode\"].isna()]\n",
    "unique_combinations = missing_scientific_domain[['id', 'order']].drop_duplicates()\n",
    "print(unique_combinations)\n",
    "print(len(unique_combinations))"
   ]
  },
  {
   "cell_type": "code",
   "execution_count": 242,
   "id": "47fd5b12",
   "metadata": {},
   "outputs": [
    {
     "name": "stdout",
     "output_type": "stream",
     "text": [
      "<class 'pandas.core.frame.DataFrame'>\n",
      "RangeIndex: 100249 entries, 0 to 100248\n",
      "Data columns (total 21 columns):\n",
      " #   Column              Non-Null Count   Dtype         \n",
      "---  ------              --------------   -----         \n",
      " 0   id                  100249 non-null  int64         \n",
      " 1   status              100249 non-null  category      \n",
      " 2   startDate           100249 non-null  datetime64[ns]\n",
      " 3   endDate             100249 non-null  datetime64[ns]\n",
      " 4   ecMaxContribution   100249 non-null  float64       \n",
      " 5   legalBasis          100249 non-null  category      \n",
      " 6   fundingScheme       100248 non-null  category      \n",
      " 7   objective_y         100249 non-null  object        \n",
      " 8   main_topics         100157 non-null  category      \n",
      " 9   scientific_domain   99580 non-null   object        \n",
      " 10  problem_type        100157 non-null  category      \n",
      " 11  expected_impact     100157 non-null  category      \n",
      " 12  sustainability      100157 non-null  float64       \n",
      " 13  semantic_summary    100157 non-null  object        \n",
      " 14  SME                 100249 non-null  int64         \n",
      " 15  activityType        100225 non-null  category      \n",
      " 16  country             100236 non-null  category      \n",
      " 17  nutsCode            99971 non-null   category      \n",
      " 18  order               100249 non-null  category      \n",
      " 19  role                100249 non-null  category      \n",
      " 20  endOfParticipation  100249 non-null  bool          \n",
      "dtypes: bool(1), category(11), datetime64[ns](2), float64(2), int64(2), object(3)\n",
      "memory usage: 9.1+ MB\n",
      "None\n"
     ]
    }
   ],
   "source": [
    "print(fulldf.info())"
   ]
  },
  {
   "cell_type": "code",
   "execution_count": 247,
   "id": "558db378",
   "metadata": {},
   "outputs": [
    {
     "name": "stdout",
     "output_type": "stream",
     "text": [
      "id                             int64\n",
      "status                      category\n",
      "startDate             datetime64[ns]\n",
      "endDate               datetime64[ns]\n",
      "ecMaxContribution            float64\n",
      "legalBasis                  category\n",
      "fundingScheme               category\n",
      "objective_y                   object\n",
      "main_topics                 category\n",
      "scientific_domain             object\n",
      "problem_type                category\n",
      "expected_impact             category\n",
      "sustainability               float64\n",
      "semantic_summary              object\n",
      "SME                            int64\n",
      "activityType                category\n",
      "country                     category\n",
      "nutsCode                    category\n",
      "order                       category\n",
      "role                        category\n",
      "endOfParticipation              bool\n",
      "dtype: object\n"
     ]
    }
   ],
   "source": [
    "print(fulldf.dtypes)"
   ]
  },
  {
   "cell_type": "markdown",
   "id": "7acf9d5a",
   "metadata": {},
   "source": [
    "# Start dataset"
   ]
  },
  {
   "cell_type": "code",
   "execution_count": 282,
   "id": "509a6c06",
   "metadata": {},
   "outputs": [],
   "source": [
    "import math\n",
    "fulldf[\"problem_type\"] = fulldf[\"problem_type\"].astype(\"object\")\n",
    "fulldf[\"expected_impact\"] = fulldf[\"expected_impact\"].astype(\"object\")\n",
    "fulldf[\"sustainability\"] = fulldf[\"sustainability\"].astype(\"object\")\n",
    "fulldf[\"fundingScheme\"] = fulldf[\"fundingScheme\"].astype(\"object\")\n",
    "for i in range(len(fulldf)):\n",
    "    if not isinstance(fulldf[\"scientific_domain\"][i], str):\n",
    "        fulldf[\"scientific_domain\"][i] = \"no domain\"\n",
    "    if not isinstance(fulldf[\"problem_type\"][i], str):\n",
    "        fulldf[\"problem_type\"][i] = \"no problem\"\n",
    "    if not isinstance(fulldf[\"expected_impact\"][i], str):\n",
    "        fulldf[\"expected_impact\"][i] = \"no impact\"\n",
    "    if not isinstance(fulldf[\"fundingScheme\"][i], str):\n",
    "        fulldf[\"fundingScheme\"][i] = \"unknown scheme\"\n",
    "    if math.isnan(fulldf[\"sustainability\"][i]):\n",
    "        fulldf[\"sustainability\"][i] = 0"
   ]
  },
  {
   "cell_type": "code",
   "execution_count": 283,
   "id": "dbb4e581",
   "metadata": {},
   "outputs": [
    {
     "name": "stdout",
     "output_type": "stream",
     "text": [
      "23\n"
     ]
    }
   ],
   "source": [
    "impact_categories = []\n",
    "for i in range(len(fulldf)):\n",
    "    topics = fulldf[\"expected_impact\"][i].split(\",\")\n",
    "    for topic in topics:\n",
    "        new_topic = topic.replace(\"[\", '')\n",
    "        new_topic = new_topic.replace(\"]\", '')\n",
    "        new_topic = new_topic.replace(\"'\", '')\n",
    "        new_topic = new_topic.replace(\" \", '')\n",
    "        new_topic = new_topic.lower()\n",
    "        if not new_topic in impact_categories:\n",
    "            impact_categories.append(new_topic)\n",
    "impact_categories.remove('sustainability')\n",
    "print(len(impact_categories))"
   ]
  },
  {
   "cell_type": "code",
   "execution_count": 284,
   "id": "ed0a7415",
   "metadata": {},
   "outputs": [
    {
     "name": "stdout",
     "output_type": "stream",
     "text": [
      "['societal', 'economic', 'technological', 'environmental', 'scientific', 'cultural', 'health', 'business', 'globalsecurity', 'policy', 'educational', 'translational', 'noimpact', 'medical', 'historical', 'fundamentalresearch', 'confidential', 'ethical', 'applied', 'clinical', 'political', 'linguistic', 'biological']\n",
      "0              ['societal', 'economic']\n",
      "1         ['technological', 'societal']\n",
      "2         ['technological', 'societal']\n",
      "3         ['technological', 'societal']\n",
      "4         ['societal', 'technological']\n",
      "                      ...              \n",
      "100244    ['societal', 'technological']\n",
      "100245    ['societal', 'technological']\n",
      "100246    ['societal', 'technological']\n",
      "100247    ['societal', 'technological']\n",
      "100248    ['societal', 'technological']\n",
      "Name: expected_impact, Length: 100249, dtype: object\n"
     ]
    }
   ],
   "source": [
    "print(impact_categories)\n",
    "print(fulldf[\"expected_impact\"])"
   ]
  },
  {
   "cell_type": "code",
   "execution_count": 285,
   "id": "41f8e645",
   "metadata": {},
   "outputs": [
    {
     "name": "stdout",
     "output_type": "stream",
     "text": [
      "[[0 0 0 ... 0 0 0]\n",
      " [0 0 0 ... 0 0 0]\n",
      " [0 0 0 ... 0 0 0]\n",
      " ...\n",
      " [0 0 0 ... 0 0 0]\n",
      " [0 0 0 ... 0 0 0]\n",
      " [0 0 0 ... 0 0 0]]\n"
     ]
    }
   ],
   "source": [
    "import numpy as np\n",
    "ohe = np.array([0] * (len(impact_categories) * len(fulldf)))\n",
    "new_ohe = ohe.reshape([len(fulldf), len(impact_categories)])\n",
    "print(new_ohe)\n"
   ]
  },
  {
   "cell_type": "code",
   "execution_count": 286,
   "id": "cdfb5a3f",
   "metadata": {},
   "outputs": [],
   "source": [
    "for i in range(len(fulldf)):\n",
    "    j = 0\n",
    "    topics = fulldf[\"expected_impact\"][i].split(\",\")\n",
    "    new_topics = []\n",
    "    for topic in topics:\n",
    "        new_topic = topic.replace(\"[\", '')\n",
    "        new_topic = new_topic.replace(\"]\", '')\n",
    "        new_topic = new_topic.replace(\"'\", '')\n",
    "        new_topic = new_topic.replace(\" \", '')\n",
    "        new_topic = new_topic.lower()\n",
    "        new_topics.append(new_topic)\n",
    "    new_topics\n",
    "    for j in range(len(impact_categories)):\n",
    "        if impact_categories[j] in new_topics:\n",
    "            new_ohe[i,j] = 1\n",
    "        j += 1 "
   ]
  },
  {
   "cell_type": "code",
   "execution_count": 287,
   "id": "11125192",
   "metadata": {},
   "outputs": [],
   "source": [
    "import datetime\n",
    "\n",
    "fulldf[\"startDate\"] = fulldf[\"startDate\"].astype(\"object\")\n",
    "fulldf[\"endDate\"] = fulldf[\"endDate\"].astype(\"object\")\n",
    "lengths = []\n",
    "for i in range(len(fulldf)):\n",
    "    start_date = fulldf.loc[i, \"startDate\"]\n",
    "    end_date = fulldf.loc[i, \"endDate\"]\n",
    "    \n",
    "    if isinstance(start_date, str):\n",
    "        start_date = datetime.datetime.strptime(start_date, '%Y-%m-%d')\n",
    "    if isinstance(end_date, str):\n",
    "        end_date = datetime.datetime.strptime(end_date, '%Y-%m-%d')\n",
    "    \n",
    "    length = (end_date - start_date).days\n",
    "    lengths.append(length)\n",
    "\n",
    "fulldf[\"project_length_days\"] = lengths"
   ]
  },
  {
   "cell_type": "code",
   "execution_count": 288,
   "id": "0091fcca",
   "metadata": {},
   "outputs": [],
   "source": [
    "schemes = []\n",
    "for i in range(len(fulldf)):\n",
    "    if not fulldf[\"fundingScheme\"][i] in schemes:\n",
    "        schemes.append(fulldf[\"fundingScheme\"][i])\n",
    "ohe_schemes = np.array([0] * (len(fulldf) * len(schemes)))\n",
    "ohe_schemes = ohe_schemes.reshape([len(fulldf), len(schemes)])\n",
    "for i in range(len(fulldf)):\n",
    "    j = 0\n",
    "    for scheme in schemes:\n",
    "        if scheme == fulldf[\"fundingScheme\"][i]:\n",
    "            ohe_schemes[i, j] = 1\n",
    "        j += 1"
   ]
  },
  {
   "cell_type": "code",
   "execution_count": 289,
   "id": "ab032fa8",
   "metadata": {},
   "outputs": [],
   "source": [
    "domains = []\n",
    "for i in range(len(fulldf)):\n",
    "    if fulldf[\"id\"][i] not in [101149703, 101101973, 101041246]:\n",
    "        if isinstance(fulldf[\"scientific_domain\"][i], str) and not fulldf[\"scientific_domain\"][i].lower() in domains:\n",
    "            domains.append(fulldf[\"scientific_domain\"][i].lower())\n",
    "ohe_domains = np.array([0] * (len(fulldf) * len(domains)))\n",
    "ohe_domains = ohe_domains.reshape([len(fulldf), len(domains)])\n",
    "for i in range(len(fulldf)):\n",
    "    if fulldf[\"id\"][i] not in [101149703, 101101973, 101041246]:\n",
    "        j = 0\n",
    "        for domain in domains:\n",
    "            if isinstance(fulldf[\"scientific_domain\"][i], str) and domain == fulldf[\"scientific_domain\"][i].lower():\n",
    "                ohe_domains[i, j] = 1\n",
    "            j += 1"
   ]
  },
  {
   "cell_type": "code",
   "execution_count": 290,
   "id": "acb28458",
   "metadata": {},
   "outputs": [],
   "source": [
    "problems = []\n",
    "for i in range(len(fulldf)):\n",
    "    if not fulldf[\"problem_type\"][i].lower() in problems:\n",
    "         problems.append(fulldf[\"problem_type\"][i].lower())\n",
    "ohe_problems = np.array([0] * (len(fulldf) * len(problems)))\n",
    "ohe_problems = ohe_problems.reshape([len(fulldf), len(problems)])\n",
    "for i in range(len(fulldf)):\n",
    "    j = 0\n",
    "    for problem in problems:\n",
    "        if problem == fulldf[\"problem_type\"][i].lower():\n",
    "            ohe_problems[i, j] = 1\n",
    "        j += 1"
   ]
  },
  {
   "cell_type": "code",
   "execution_count": 291,
   "id": "4d65ac53",
   "metadata": {},
   "outputs": [
    {
     "ename": "ValueError",
     "evalue": "cannot insert fundamental research, already exists",
     "output_type": "error",
     "traceback": [
      "\u001b[31m---------------------------------------------------------------------------\u001b[39m",
      "\u001b[31mValueError\u001b[39m                                Traceback (most recent call last)",
      "\u001b[32m~\\AppData\\Local\\Temp\\ipykernel_19488\\2620855818.py\u001b[39m in \u001b[36m?\u001b[39m\u001b[34m()\u001b[39m\n\u001b[32m      1\u001b[39m \u001b[38;5;28;01mfor\u001b[39;00m i \u001b[38;5;28;01min\u001b[39;00m range(len(problems)):\n\u001b[32m----> \u001b[39m\u001b[32m2\u001b[39m     fulldf.insert(len(fulldf.columns), problems[i], ohe_problems[:,i])\n\u001b[32m      3\u001b[39m \u001b[38;5;28;01mfor\u001b[39;00m i \u001b[38;5;28;01min\u001b[39;00m range(len(impact_categories)):\n\u001b[32m      4\u001b[39m     fulldf.insert(len(fulldf.columns), impact_categories[i] + \u001b[33m\"_impact\"\u001b[39m, new_ohe[:,i])\n\u001b[32m      5\u001b[39m \u001b[38;5;28;01mfor\u001b[39;00m i \u001b[38;5;28;01min\u001b[39;00m range(len(schemes)):\n",
      "\u001b[32mc:\\Users\\kian3\\OneDrive - KU Leuven\\Documents\\lessen\\MDA\\Project\\project\\Lib\\site-packages\\pandas\\core\\frame.py\u001b[39m in \u001b[36m?\u001b[39m\u001b[34m(self, loc, column, value, allow_duplicates)\u001b[39m\n\u001b[32m   5154\u001b[39m                 \u001b[33m\"'self.flags.allows_duplicate_labels' is False.\"\u001b[39m\n\u001b[32m   5155\u001b[39m             )\n\u001b[32m   5156\u001b[39m         \u001b[38;5;28;01mif\u001b[39;00m \u001b[38;5;28;01mnot\u001b[39;00m allow_duplicates \u001b[38;5;28;01mand\u001b[39;00m column \u001b[38;5;28;01min\u001b[39;00m self.columns:\n\u001b[32m   5157\u001b[39m             \u001b[38;5;66;03m# Should this be a different kind of error??\u001b[39;00m\n\u001b[32m-> \u001b[39m\u001b[32m5158\u001b[39m             \u001b[38;5;28;01mraise\u001b[39;00m ValueError(f\"cannot insert {column}, already exists\")\n\u001b[32m   5159\u001b[39m         \u001b[38;5;28;01mif\u001b[39;00m \u001b[38;5;28;01mnot\u001b[39;00m is_integer(loc):\n\u001b[32m   5160\u001b[39m             \u001b[38;5;28;01mraise\u001b[39;00m TypeError(\u001b[33m\"loc must be int\"\u001b[39m)\n\u001b[32m   5161\u001b[39m         \u001b[38;5;66;03m# convert non stdlib ints to satisfy typing checks\u001b[39;00m\n",
      "\u001b[31mValueError\u001b[39m: cannot insert fundamental research, already exists"
     ]
    }
   ],
   "source": [
    "for i in range(len(problems)):\n",
    "    fulldf.insert(len(fulldf.columns), problems[i], ohe_problems[:,i])\n",
    "for i in range(len(impact_categories)):\n",
    "    fulldf.insert(len(fulldf.columns), impact_categories[i] + \"_impact\", new_ohe[:,i])\n",
    "for i in range(len(schemes)):\n",
    "    fulldf.insert(len(fulldf.columns), schemes[i], ohe_schemes[:,i])\n",
    "for i in range(len(domains)):\n",
    "    fulldf.insert(len(fulldf.columns), domains[i] + \"_domain\", ohe_domains[:,i])"
   ]
  },
  {
   "cell_type": "code",
   "execution_count": null,
   "id": "77bdf2f6",
   "metadata": {},
   "outputs": [
    {
     "name": "stdout",
     "output_type": "stream",
     "text": [
      "          id  status            startDate              endDate  \\\n",
      "0  101116741  SIGNED  2024-02-01 00:00:00  2029-01-31 00:00:00   \n",
      "1  101163161  SIGNED  2025-08-01 00:00:00  2031-07-31 00:00:00   \n",
      "2  101163161  SIGNED  2025-08-01 00:00:00  2031-07-31 00:00:00   \n",
      "3  101163161  SIGNED  2025-08-01 00:00:00  2031-07-31 00:00:00   \n",
      "4  101160499  SIGNED  2025-06-01 00:00:00  2030-05-31 00:00:00   \n",
      "\n",
      "   ecMaxContribution   legalBasis    fundingScheme  \\\n",
      "0          1499998.0  HORIZON.1.1      HORIZON-ERC   \n",
      "1         12085363.0  HORIZON.1.1  HORIZON-ERC-SYG   \n",
      "2         12085363.0  HORIZON.1.1  HORIZON-ERC-SYG   \n",
      "3         12085363.0  HORIZON.1.1  HORIZON-ERC-SYG   \n",
      "4          1489128.0  HORIZON.1.1      HORIZON-ERC   \n",
      "\n",
      "                                         objective_y  \\\n",
      "0  How do longstanding, primarily non-industrial,...   \n",
      "1  The James Webb Space Telescope (JWST) has ushe...   \n",
      "2  The James Webb Space Telescope (JWST) has ushe...   \n",
      "3  The James Webb Space Telescope (JWST) has ushe...   \n",
      "4  The spatiotemporal organization of the cell ma...   \n",
      "\n",
      "                                         main_topics scientific_domain  ...  \\\n",
      "0  ['digital technologies', 'economic diversity',...      Anthropology  ...   \n",
      "1  ['Astrochemistry', 'Quantum Dynamics', 'Infrar...           Physics  ...   \n",
      "2  ['Astrochemistry', 'Quantum Dynamics', 'Infrar...           Physics  ...   \n",
      "3  ['Astrochemistry', 'Quantum Dynamics', 'Infrar...           Physics  ...   \n",
      "4  ['biophysics', 'molecular biology', 'computati...           biology  ...   \n",
      "\n",
      "  musicology_domain oceanography_domain astronomy_domain urban studies_domain  \\\n",
      "0                 0                   0                0                    0   \n",
      "1                 0                   0                0                    0   \n",
      "2                 0                   0                0                    0   \n",
      "3                 0                   0                0                    0   \n",
      "4                 0                   0                0                    0   \n",
      "\n",
      "   nuclear engineering_domain literature_domain material science_domain  \\\n",
      "0                           0                 0                       0   \n",
      "1                           0                 0                       0   \n",
      "2                           0                 0                       0   \n",
      "3                           0                 0                       0   \n",
      "4                           0                 0                       0   \n",
      "\n",
      "  cognitive science_domain confidential_domain  \\\n",
      "0                        0                   0   \n",
      "1                        0                   0   \n",
      "2                        0                   0   \n",
      "3                        0                   0   \n",
      "4                        0                   0   \n",
      "\n",
      "  urban planning and sustainability - interdisciplinary_domain  \n",
      "0                                                  0            \n",
      "1                                                  0            \n",
      "2                                                  0            \n",
      "3                                                  0            \n",
      "4                                                  0            \n",
      "\n",
      "[5 rows x 205 columns]\n",
      "<class 'pandas.core.frame.DataFrame'>\n",
      "RangeIndex: 100249 entries, 0 to 100248\n",
      "Columns: 205 entries, id to urban planning and sustainability - interdisciplinary_domain\n",
      "dtypes: bool(1), category(8), float64(1), int64(185), object(10)\n",
      "memory usage: 151.8+ MB\n",
      "None\n",
      "                 id  ecMaxContribution            SME  project_length_days  \\\n",
      "count  1.002490e+05       1.002490e+05  100249.000000        100249.000000   \n",
      "mean   1.015230e+08       8.028732e+06       0.188680          1332.213279   \n",
      "std    6.024056e+06       2.758056e+07       0.391256           369.285480   \n",
      "min    1.010390e+08       4.659400e+04       0.000000           121.000000   \n",
      "25%    1.010799e+08       2.499224e+06       0.000000          1095.000000   \n",
      "50%    1.011127e+08       4.366775e+06       0.000000          1460.000000   \n",
      "75%    1.011393e+08       7.498762e+06       0.000000          1460.000000   \n",
      "max    1.901999e+08       5.494420e+08       1.000000          3652.000000   \n",
      "\n",
      "       fundamental research  applied research  translational research  \\\n",
      "count         100249.000000     100249.000000           100249.000000   \n",
      "mean               0.162954          0.736875                0.099243   \n",
      "std                0.369326          0.440332                0.298989   \n",
      "min                0.000000          0.000000                0.000000   \n",
      "25%                0.000000          0.000000                0.000000   \n",
      "50%                0.000000          1.000000                0.000000   \n",
      "75%                0.000000          1.000000                0.000000   \n",
      "max                1.000000          1.000000                1.000000   \n",
      "\n",
      "          no problem   confidential  societal_impact  ...  musicology_domain  \\\n",
      "count  100249.000000  100249.000000    100249.000000  ...      100249.000000   \n",
      "mean        0.000918       0.000010         0.926004  ...           0.000469   \n",
      "std         0.030280       0.003158         0.261765  ...           0.021648   \n",
      "min         0.000000       0.000000         0.000000  ...           0.000000   \n",
      "25%         0.000000       0.000000         1.000000  ...           0.000000   \n",
      "50%         0.000000       0.000000         1.000000  ...           0.000000   \n",
      "75%         0.000000       0.000000         1.000000  ...           0.000000   \n",
      "max         1.000000       1.000000         1.000000  ...           1.000000   \n",
      "\n",
      "       oceanography_domain  astronomy_domain  urban studies_domain  \\\n",
      "count        100249.000000     100249.000000         100249.000000   \n",
      "mean              0.000738          0.001247              0.002135   \n",
      "std               0.027159          0.035290              0.046154   \n",
      "min               0.000000          0.000000              0.000000   \n",
      "25%               0.000000          0.000000              0.000000   \n",
      "50%               0.000000          0.000000              0.000000   \n",
      "75%               0.000000          0.000000              0.000000   \n",
      "max               1.000000          1.000000              1.000000   \n",
      "\n",
      "       nuclear engineering_domain  literature_domain  material science_domain  \\\n",
      "count               100249.000000      100249.000000            100249.000000   \n",
      "mean                     0.004638           0.000200                 0.000160   \n",
      "std                      0.067948           0.014123                 0.012632   \n",
      "min                      0.000000           0.000000                 0.000000   \n",
      "25%                      0.000000           0.000000                 0.000000   \n",
      "50%                      0.000000           0.000000                 0.000000   \n",
      "75%                      0.000000           0.000000                 0.000000   \n",
      "max                      1.000000           1.000000                 1.000000   \n",
      "\n",
      "       cognitive science_domain  confidential_domain  \\\n",
      "count             100249.000000        100249.000000   \n",
      "mean                   0.000150             0.000010   \n",
      "std                    0.012231             0.003158   \n",
      "min                    0.000000             0.000000   \n",
      "25%                    0.000000             0.000000   \n",
      "50%                    0.000000             0.000000   \n",
      "75%                    0.000000             0.000000   \n",
      "max                    1.000000             1.000000   \n",
      "\n",
      "       urban planning and sustainability - interdisciplinary_domain  \n",
      "count                                      100249.000000             \n",
      "mean                                            0.000269             \n",
      "std                                             0.016409             \n",
      "min                                             0.000000             \n",
      "25%                                             0.000000             \n",
      "50%                                             0.000000             \n",
      "75%                                             0.000000             \n",
      "max                                             1.000000             \n",
      "\n",
      "[8 rows x 186 columns]\n"
     ]
    }
   ],
   "source": [
    "print(fulldf.head())\n",
    "print(fulldf.info())\n",
    "print(fulldf.describe())"
   ]
  },
  {
   "cell_type": "code",
   "execution_count": null,
   "id": "8ea7339e",
   "metadata": {},
   "outputs": [
    {
     "name": "stdout",
     "output_type": "stream",
     "text": [
      "['NL', 'DK', 'DE', 'ES', 'EL', ..., 'NI', 'GM', 'KW', 'NC', 'SD']\n",
      "Length: 171\n",
      "Categories (170, object): ['AD', 'AE', 'AF', 'AI', ..., 'XK', 'ZA', 'ZM', 'ZW']\n"
     ]
    }
   ],
   "source": [
    "print(fulldf[\"country\"].unique())"
   ]
  },
  {
   "cell_type": "code",
   "execution_count": 297,
   "id": "053fc366",
   "metadata": {},
   "outputs": [],
   "source": [
    "country_to_continent = {\n",
    "    'AD': 'Europe', 'AE': 'Asia', 'AF': 'Asia', 'AG': 'North America',\n",
    "    'AI': 'North America', 'AL': 'Europe', 'AM': 'Asia', 'AO': 'Africa',\n",
    "    'AQ': 'Antarctica', 'AR': 'South America', 'AS': 'Oceania', 'AT': 'Europe',\n",
    "    'AU': 'Oceania', 'AW': 'North America', 'AX': 'Europe', 'AZ': 'Asia',\n",
    "    'BA': 'Europe', 'BB': 'North America', 'BD': 'Asia', 'BE': 'Europe',\n",
    "    'BF': 'Africa', 'BG': 'Europe', 'BH': 'Asia', 'BI': 'Africa',\n",
    "    'BJ': 'Africa', 'BL': 'North America', 'BM': 'North America', 'BN': 'Asia',\n",
    "    'BO': 'South America', 'BQ': 'North America', 'BR': 'South America', 'BS': 'North America',\n",
    "    'BT': 'Asia', 'BV': 'Antarctica', 'BW': 'Africa', 'BY': 'Europe',\n",
    "    'BZ': 'North America', 'CA': 'North America', 'CC': 'Asia', 'CD': 'Africa',\n",
    "    'CF': 'Africa', 'CG': 'Africa', 'CH': 'Europe', 'CI': 'Africa',\n",
    "    'CK': 'Oceania', 'CL': 'South America', 'CM': 'Africa', 'CN': 'Asia',\n",
    "    'CO': 'South America', 'CP': 'North America', 'CR': 'North America', 'CU': 'North America',\n",
    "    'CV': 'Africa', 'CW': 'North America', 'CX': 'Asia', 'CY': 'Europe',\n",
    "    'CZ': 'Europe', 'DE': 'Europe', 'DJ': 'Africa', 'DK': 'Europe',\n",
    "    'DM': 'North America', 'DO': 'North America', 'DZ': 'Africa', 'EC': 'South America',\n",
    "    'EE': 'Europe', 'EG': 'Africa', 'EH': 'Africa', \"EL\": \"Europe\", 'ER': 'Africa',\n",
    "    'ES': 'Europe', 'ET': 'Africa', 'FI': 'Europe', 'FJ': 'Oceania',\n",
    "    'FK': 'South America', 'FM': 'Oceania', 'FO': 'Europe', 'FR': 'Europe',\n",
    "    'GA': 'Africa', 'GD': 'North America', 'GE': 'Asia', 'GF': 'South America',\n",
    "    'GG': 'Europe', 'GH': 'Africa', 'GI': 'Europe', 'GL': 'North America',\n",
    "    'GM': 'Africa', 'GN': 'Africa', 'GP': 'North America', 'GQ': 'Africa',\n",
    "    'GS': 'Antarctica', 'GT': 'North America', 'GU': 'Oceania', 'GW': 'Africa',\n",
    "    'GY': 'South America', 'HK': 'Asia', 'HM': 'Antarctica', 'HN': 'North America',\n",
    "    'HR': 'Europe', 'HT': 'North America', 'HU': 'Europe', 'ID': 'Asia',\n",
    "    'IE': 'Europe', 'IL': 'Asia', 'IM': 'Europe', 'IN': 'Asia',\n",
    "    'IO': 'Asia', 'IQ': 'Asia', 'IR': 'Asia', 'IS': 'Europe',\n",
    "    'IT': 'Europe', 'JE': 'Europe', 'JM': 'North America', 'JO': 'Asia',\n",
    "    'JP': 'Asia', 'KE': 'Africa', 'KG': 'Asia', 'KH': 'Asia',\n",
    "    'KI': 'Oceania', 'KM': 'Africa', 'KN': 'North America', 'KP': 'Asia',\n",
    "    'KR': 'Asia', 'KW': 'Asia', 'KY': 'North America', 'KZ': 'Asia',\n",
    "    'LA': 'Asia', 'LB': 'Asia', 'LC': 'North America', 'LI': 'Europe',\n",
    "    'LK': 'Asia', 'LR': 'Africa', 'LS': 'Africa', 'LT': 'Europe',\n",
    "    'LU': 'Europe', 'LV': 'Europe', 'LY': 'Africa', 'MA': 'Africa',\n",
    "    'MC': 'Europe', 'MD': 'Europe', 'ME': 'Europe', 'MF': 'North America',\n",
    "    'MG': 'Africa', 'MH': 'Oceania', 'MK': 'Europe', 'ML': 'Africa',\n",
    "    'MM': 'Asia', 'MN': 'Asia', 'MO': 'Asia', 'MP': 'Oceania',\n",
    "    'MQ': 'North America', 'MR': 'Africa', 'MS': 'North America', 'MT': 'Europe',\n",
    "    'MU': 'Africa', 'MV': 'Asia', 'MW': 'Africa', 'MX': 'North America',\n",
    "    'MY': 'Asia', 'MZ': 'Africa', 'NC': 'Oceania', 'NE': 'Africa',\n",
    "    'NF': 'Oceania', 'NG': 'Africa', 'NI': 'North America', 'NL': 'Europe',\n",
    "    'NO': 'Europe', 'NP': 'Asia', 'NR': 'Oceania', 'NU': 'Oceania',\n",
    "    'NZ': 'Oceania', 'OM': 'Asia', 'PA': 'North America', 'PE': 'South America',\n",
    "    'PF': 'Oceania', 'PG': 'Oceania', 'PH': 'Asia', 'PK': 'Asia',\n",
    "    'PL': 'Europe', 'PM': 'North America', 'PN': 'Oceania', 'PR': 'North America',\n",
    "    'PS': 'Asia', 'PT': 'Europe', 'PW': 'Oceania', 'PY': 'South America',\n",
    "    'QA': 'Asia', 'RE': 'Africa', 'RO': 'Europe', 'RS': 'Europe',\n",
    "    'RU': 'Europe', 'RW': 'Africa', 'SA': 'Asia', 'SB': 'Oceania',\n",
    "    'SC': 'Africa', 'SD': 'Africa', 'SE': 'Europe', 'SG': 'Asia',\n",
    "    'SH': 'Africa', 'SI': 'Europe', 'SJ': 'Europe', 'SK': 'Europe',\n",
    "    'SL': 'Africa', 'SM': 'Europe', 'SN': 'Africa', 'SO': 'Africa',\n",
    "    'SR': 'South America', 'SS': 'Africa', 'ST': 'Africa', 'SV': 'North America',\n",
    "    'SX': 'North America', 'SY': 'Asia', 'SZ': 'Africa', 'TC': 'North America',\n",
    "    'TD': 'Africa', 'TF': 'Antarctica', 'TG': 'Africa', 'TH': 'Asia',\n",
    "    'TJ': 'Asia', 'TK': 'Oceania', 'TL': 'Asia', 'TM': 'Asia',\n",
    "    'TN': 'Africa', 'TO': 'Oceania', 'TR': 'Asia', 'TT': 'North America',\n",
    "    'TV': 'Oceania', 'TW': 'Asia', 'TZ': 'Africa', 'UA': 'Europe',\n",
    "    'UG': 'Africa', 'UK': 'Europe', 'UM': 'Oceania', 'US': 'North America',\n",
    "    'UY': 'South America', 'UZ': 'Asia', 'VA': 'Europe', 'VC': 'North America',\n",
    "    'VE': 'South America', 'VG': 'North America', 'VI': 'North America', 'VN': 'Asia',\n",
    "    'VU': 'Oceania', 'WF': 'Oceania', 'WS': 'Oceania', 'XK': 'Europe',\n",
    "    'YE': 'Asia', 'YT': 'Africa', 'ZA': 'Africa', 'ZM': 'Africa',\n",
    "    'ZW': 'Africa'\n",
    "}\n",
    "fulldf['continent'] = fulldf['country'].apply(lambda code: country_to_continent.get(code, 'Unknown'))"
   ]
  },
  {
   "cell_type": "code",
   "execution_count": 298,
   "id": "a57dd8e4",
   "metadata": {},
   "outputs": [
    {
     "name": "stdout",
     "output_type": "stream",
     "text": [
      "continent\n",
      "Europe           94384\n",
      "Asia              2667\n",
      "North America     1375\n",
      "Africa            1163\n",
      "South America      401\n",
      "Oceania            246\n",
      "Name: count, dtype: int64\n"
     ]
    }
   ],
   "source": [
    "print(fulldf[\"continent\"].value_counts())"
   ]
  },
  {
   "cell_type": "code",
   "execution_count": 300,
   "id": "b3ea3da1",
   "metadata": {},
   "outputs": [
    {
     "name": "stderr",
     "output_type": "stream",
     "text": [
      "C:\\Users\\kian3\\AppData\\Local\\Temp\\ipykernel_19488\\3924612764.py:1: PerformanceWarning: DataFrame is highly fragmented.  This is usually the result of calling `frame.insert` many times, which has poor performance.  Consider joining all columns at once using pd.concat(axis=1) instead. To get a de-fragmented frame, use `newframe = frame.copy()`\n",
      "  fulldf['number_of_organizations'] = fulldf.groupby('id')['id'].transform('count')\n"
     ]
    }
   ],
   "source": [
    "fulldf['number_of_organizations'] = fulldf.groupby('id')['id'].transform('count')"
   ]
  },
  {
   "cell_type": "code",
   "execution_count": 316,
   "id": "5f78e0fa",
   "metadata": {},
   "outputs": [],
   "source": [
    "fulldf['number_of_small_and_medium_orgs'] = fulldf.groupby('id')['SME'].transform('sum')"
   ]
  },
  {
   "cell_type": "code",
   "execution_count": 317,
   "id": "32f89b9e",
   "metadata": {},
   "outputs": [],
   "source": [
    "fulldf = fulldf.sort_values(by = \"id\")"
   ]
  },
  {
   "cell_type": "code",
   "execution_count": 312,
   "id": "bbf4ec38",
   "metadata": {},
   "outputs": [
    {
     "name": "stdout",
     "output_type": "stream",
     "text": [
      "              id  status            startDate              endDate  \\\n",
      "78840  101039048  SIGNED  2022-02-01 00:00:00  2027-01-31 00:00:00   \n",
      "78907  101039060  SIGNED  2023-09-01 00:00:00  2028-08-31 00:00:00   \n",
      "78906  101039060  SIGNED  2023-09-01 00:00:00  2028-08-31 00:00:00   \n",
      "78908  101039060  SIGNED  2023-09-01 00:00:00  2028-08-31 00:00:00   \n",
      "78613  101039066  SIGNED  2023-01-01 00:00:00  2027-12-31 00:00:00   \n",
      "...          ...     ...                  ...                  ...   \n",
      "78734  101039683  SIGNED  2023-01-01 00:00:00  2027-12-31 00:00:00   \n",
      "78497  101039692  SIGNED  2022-09-01 00:00:00  2027-08-31 00:00:00   \n",
      "78839  101039706  SIGNED  2022-12-01 00:00:00  2027-11-30 00:00:00   \n",
      "78875  101039711  SIGNED  2022-09-01 00:00:00  2027-08-31 00:00:00   \n",
      "78751  101039712  SIGNED  2022-07-01 00:00:00  2027-06-30 00:00:00   \n",
      "\n",
      "       ecMaxContribution   legalBasis fundingScheme  \\\n",
      "78840          1496205.0  HORIZON.1.1   HORIZON-ERC   \n",
      "78907          1499150.0  HORIZON.1.1   HORIZON-ERC   \n",
      "78906          1499150.0  HORIZON.1.1   HORIZON-ERC   \n",
      "78908          1499150.0  HORIZON.1.1   HORIZON-ERC   \n",
      "78613          1482050.0  HORIZON.1.1   HORIZON-ERC   \n",
      "...                  ...          ...           ...   \n",
      "78734          1875938.0  HORIZON.1.1           ERC   \n",
      "78497          1433750.0  HORIZON.1.1    HORIZON-AG   \n",
      "78839          1500000.0  HORIZON.1.1   HORIZON-ERC   \n",
      "78875          1499856.0  HORIZON.1.1   HORIZON-ERC   \n",
      "78751          1500000.0  HORIZON.1.1   HORIZON-ERC   \n",
      "\n",
      "                                             objective_y  \\\n",
      "78840  The recent detection of the coherent elastic n...   \n",
      "78907  The transition from foraging to farming repres...   \n",
      "78906  The transition from foraging to farming repres...   \n",
      "78908  The transition from foraging to farming repres...   \n",
      "78613  The capacity of future forests to support biod...   \n",
      "...                                                  ...   \n",
      "78734  The time is right for light-emitting colloidal...   \n",
      "78497  Recent years have witnessed tremendous progres...   \n",
      "78839  While sensory systems report sensory input wit...   \n",
      "78875  Homo sapiens emerged in Africa in the Middle P...   \n",
      "78751  Our ability to interact with our visual world ...   \n",
      "\n",
      "                                             main_topics scientific_domain  \\\n",
      "78840  ['neutrino physics', 'particle detection techn...           Physics   \n",
      "78907  ['agriculture', 'hunter-gatherers', 'archaeobo...       Archaeology   \n",
      "78906  ['agriculture', 'hunter-gatherers', 'archaeobo...       Archaeology   \n",
      "78908  ['agriculture', 'hunter-gatherers', 'archaeobo...       Archaeology   \n",
      "78613  ['forest ecology', 'climate change', 'biodiver...           ecology   \n",
      "...                                                  ...               ...   \n",
      "78734  ['quantum optics', 'nanomaterial design', 'pho...           Physics   \n",
      "78497  ['Machine Learning', 'Generalization Theory', ...  Computer Science   \n",
      "78839             ['neuroscience', 'behavioral biology']           biology   \n",
      "78875  ['Human dispersal', 'Climate change adaptation...       Archaeology   \n",
      "78751  ['visual processing', 'neuroscience', 'artific...      Neuroscience   \n",
      "\n",
      "       ... urban studies_domain nuclear engineering_domain literature_domain  \\\n",
      "78840  ...                    0                          0                 0   \n",
      "78907  ...                    0                          0                 0   \n",
      "78906  ...                    0                          0                 0   \n",
      "78908  ...                    0                          0                 0   \n",
      "78613  ...                    0                          0                 0   \n",
      "...    ...                  ...                        ...               ...   \n",
      "78734  ...                    0                          0                 0   \n",
      "78497  ...                    0                          0                 0   \n",
      "78839  ...                    0                          0                 0   \n",
      "78875  ...                    0                          0                 0   \n",
      "78751  ...                    0                          0                 0   \n",
      "\n",
      "      material science_domain  cognitive science_domain confidential_domain  \\\n",
      "78840                       0                         0                   0   \n",
      "78907                       0                         0                   0   \n",
      "78906                       0                         0                   0   \n",
      "78908                       0                         0                   0   \n",
      "78613                       0                         0                   0   \n",
      "...                       ...                       ...                 ...   \n",
      "78734                       0                         0                   0   \n",
      "78497                       0                         0                   0   \n",
      "78839                       0                         0                   0   \n",
      "78875                       0                         0                   0   \n",
      "78751                       0                         0                   0   \n",
      "\n",
      "      urban planning and sustainability - interdisciplinary_domain continent  \\\n",
      "78840                                                  0              Europe   \n",
      "78907                                                  0              Europe   \n",
      "78906                                                  0              Europe   \n",
      "78908                                                  0              Europe   \n",
      "78613                                                  0              Europe   \n",
      "...                                                  ...                 ...   \n",
      "78734                                                  0              Europe   \n",
      "78497                                                  0                Asia   \n",
      "78839                                                  0              Europe   \n",
      "78875                                                  0              Europe   \n",
      "78751                                                  0              Europe   \n",
      "\n",
      "      number_of_organizations number_of_small_and_medium_orgs  \n",
      "78840                       1                               0  \n",
      "78907                       3                               0  \n",
      "78906                       3                               0  \n",
      "78908                       3                               0  \n",
      "78613                       1                               0  \n",
      "...                       ...                             ...  \n",
      "78734                       2                               0  \n",
      "78497                       1                               0  \n",
      "78839                       1                               0  \n",
      "78875                       1                               0  \n",
      "78751                       2                               0  \n",
      "\n",
      "[100 rows x 208 columns]\n"
     ]
    }
   ],
   "source": [
    "print(fulldf.head(100))"
   ]
  },
  {
   "cell_type": "code",
   "execution_count": 319,
   "id": "60f5e9c1",
   "metadata": {},
   "outputs": [
    {
     "name": "stderr",
     "output_type": "stream",
     "text": [
      "C:\\Users\\kian3\\AppData\\Local\\Temp\\ipykernel_19488\\4019369015.py:1: PerformanceWarning: DataFrame is highly fragmented.  This is usually the result of calling `frame.insert` many times, which has poor performance.  Consider joining all columns at once using pd.concat(axis=1) instead. To get a de-fragmented frame, use `newframe = frame.copy()`\n",
      "  fulldf[\"proportion_MSE\"] = fulldf[\"number_of_small_and_medium_orgs\"] / fulldf['number_of_organizations']\n"
     ]
    }
   ],
   "source": [
    "fulldf[\"proportion_MSE\"] = fulldf[\"number_of_small_and_medium_orgs\"] / fulldf['number_of_organizations']"
   ]
  },
  {
   "cell_type": "code",
   "execution_count": 323,
   "id": "4eeb9558",
   "metadata": {},
   "outputs": [
    {
     "name": "stdout",
     "output_type": "stream",
     "text": [
      "       SME  number_of_organizations  number_of_small_and_medium_orgs  \\\n",
      "78840    0                        1                                0   \n",
      "78907    0                        3                                0   \n",
      "78906    0                        3                                0   \n",
      "78908    0                        3                                0   \n",
      "78613    0                        1                                0   \n",
      "...    ...                      ...                              ...   \n",
      "78616    0                        1                                0   \n",
      "78731    0                        1                                0   \n",
      "78897    0                        1                                0   \n",
      "78534    0                        1                                0   \n",
      "78931    0                        2                                0   \n",
      "\n",
      "       proportion_MSE  \n",
      "78840             0.0  \n",
      "78907             0.0  \n",
      "78906             0.0  \n",
      "78908             0.0  \n",
      "78613             0.0  \n",
      "...               ...  \n",
      "78616             0.0  \n",
      "78731             0.0  \n",
      "78897             0.0  \n",
      "78534             0.0  \n",
      "78931             0.0  \n",
      "\n",
      "[70 rows x 4 columns]\n"
     ]
    }
   ],
   "source": [
    "df_MSE = fulldf[[\"SME\", 'number_of_organizations', 'number_of_small_and_medium_orgs', \"proportion_MSE\"]]\n",
    "print(df_MSE.head(70))"
   ]
  },
  {
   "cell_type": "code",
   "execution_count": 324,
   "id": "972ccd1b",
   "metadata": {},
   "outputs": [],
   "source": [
    "df_MSE.to_csv(r\".\\MSE.csv\")"
   ]
  },
  {
   "cell_type": "code",
   "execution_count": 326,
   "id": "626ae6d3",
   "metadata": {},
   "outputs": [
    {
     "name": "stderr",
     "output_type": "stream",
     "text": [
      "C:\\Users\\kian3\\AppData\\Local\\Temp\\ipykernel_19488\\1296580643.py:2: PerformanceWarning: DataFrame is highly fragmented.  This is usually the result of calling `frame.insert` many times, which has poor performance.  Consider joining all columns at once using pd.concat(axis=1) instead. To get a de-fragmented frame, use `newframe = frame.copy()`\n",
      "  fulldf['all_continents'] = fulldf['id'].map(unique_continents_per_id)\n"
     ]
    }
   ],
   "source": [
    "unique_continents_per_id = fulldf.groupby('id')['continent'].agg(lambda x: list(x.unique()))\n",
    "fulldf['all_continents'] = fulldf['id'].map(unique_continents_per_id)"
   ]
  },
  {
   "cell_type": "code",
   "execution_count": 329,
   "id": "5ea694a0",
   "metadata": {},
   "outputs": [],
   "source": [
    "df_allcont = fulldf[[\"id\", \"continent\", \"all_continents\"]]\n",
    "df_allcont.to_csv(r\".\\cont.csv\")"
   ]
  },
  {
   "cell_type": "code",
   "execution_count": 330,
   "id": "e84fab0d",
   "metadata": {},
   "outputs": [
    {
     "name": "stderr",
     "output_type": "stream",
     "text": [
      "C:\\Users\\kian3\\AppData\\Local\\Temp\\ipykernel_19488\\3304849529.py:6: PerformanceWarning: DataFrame is highly fragmented.  This is usually the result of calling `frame.insert` many times, which has poor performance.  Consider joining all columns at once using pd.concat(axis=1) instead. To get a de-fragmented frame, use `newframe = frame.copy()`\n",
      "  fulldf[continent] = fulldf['all_continents'].apply(lambda x: 1 if continent in x else 0)\n",
      "C:\\Users\\kian3\\AppData\\Local\\Temp\\ipykernel_19488\\3304849529.py:6: PerformanceWarning: DataFrame is highly fragmented.  This is usually the result of calling `frame.insert` many times, which has poor performance.  Consider joining all columns at once using pd.concat(axis=1) instead. To get a de-fragmented frame, use `newframe = frame.copy()`\n",
      "  fulldf[continent] = fulldf['all_continents'].apply(lambda x: 1 if continent in x else 0)\n",
      "C:\\Users\\kian3\\AppData\\Local\\Temp\\ipykernel_19488\\3304849529.py:6: PerformanceWarning: DataFrame is highly fragmented.  This is usually the result of calling `frame.insert` many times, which has poor performance.  Consider joining all columns at once using pd.concat(axis=1) instead. To get a de-fragmented frame, use `newframe = frame.copy()`\n",
      "  fulldf[continent] = fulldf['all_continents'].apply(lambda x: 1 if continent in x else 0)\n",
      "C:\\Users\\kian3\\AppData\\Local\\Temp\\ipykernel_19488\\3304849529.py:6: PerformanceWarning: DataFrame is highly fragmented.  This is usually the result of calling `frame.insert` many times, which has poor performance.  Consider joining all columns at once using pd.concat(axis=1) instead. To get a de-fragmented frame, use `newframe = frame.copy()`\n",
      "  fulldf[continent] = fulldf['all_continents'].apply(lambda x: 1 if continent in x else 0)\n",
      "C:\\Users\\kian3\\AppData\\Local\\Temp\\ipykernel_19488\\3304849529.py:6: PerformanceWarning: DataFrame is highly fragmented.  This is usually the result of calling `frame.insert` many times, which has poor performance.  Consider joining all columns at once using pd.concat(axis=1) instead. To get a de-fragmented frame, use `newframe = frame.copy()`\n",
      "  fulldf[continent] = fulldf['all_continents'].apply(lambda x: 1 if continent in x else 0)\n",
      "C:\\Users\\kian3\\AppData\\Local\\Temp\\ipykernel_19488\\3304849529.py:6: PerformanceWarning: DataFrame is highly fragmented.  This is usually the result of calling `frame.insert` many times, which has poor performance.  Consider joining all columns at once using pd.concat(axis=1) instead. To get a de-fragmented frame, use `newframe = frame.copy()`\n",
      "  fulldf[continent] = fulldf['all_continents'].apply(lambda x: 1 if continent in x else 0)\n",
      "C:\\Users\\kian3\\AppData\\Local\\Temp\\ipykernel_19488\\3304849529.py:6: PerformanceWarning: DataFrame is highly fragmented.  This is usually the result of calling `frame.insert` many times, which has poor performance.  Consider joining all columns at once using pd.concat(axis=1) instead. To get a de-fragmented frame, use `newframe = frame.copy()`\n",
      "  fulldf[continent] = fulldf['all_continents'].apply(lambda x: 1 if continent in x else 0)\n"
     ]
    }
   ],
   "source": [
    "# Unieke waarden in all_continents ophalen\n",
    "unique_continents = set([continent for sublist in fulldf['all_continents'] for continent in sublist])\n",
    "\n",
    "# Nieuwe kolommen maken en waarden toewijzen\n",
    "for continent in unique_continents:\n",
    "    fulldf[continent] = fulldf['all_continents'].apply(lambda x: 1 if continent in x else 0)"
   ]
  },
  {
   "cell_type": "code",
   "execution_count": 331,
   "id": "a51e2bbe",
   "metadata": {},
   "outputs": [],
   "source": [
    "df_allcont2 = fulldf[[\"id\", \"continent\", \"all_continents\", \"Europe\", \"Asia\", \"North America\", \"Africa\", \"South America\", \"Oceania\"]]\n",
    "df_allcont2.to_csv(r\".\\allcont2.csv\")"
   ]
  },
  {
   "cell_type": "code",
   "execution_count": 333,
   "id": "bf068245",
   "metadata": {},
   "outputs": [],
   "source": [
    "fulldf = fulldf.drop(columns=[\"SME\", \"continent\", \"country\", \"nutsCode\", \"activityType\", \"endOfParticipation\", \"order\", \"role\"])"
   ]
  },
  {
   "cell_type": "code",
   "execution_count": 335,
   "id": "eabc2527",
   "metadata": {},
   "outputs": [
    {
     "name": "stdout",
     "output_type": "stream",
     "text": [
      "              id  status            startDate              endDate  \\\n",
      "78840  101039048  SIGNED  2022-02-01 00:00:00  2027-01-31 00:00:00   \n",
      "78907  101039060  SIGNED  2023-09-01 00:00:00  2028-08-31 00:00:00   \n",
      "78613  101039066  SIGNED  2023-01-01 00:00:00  2027-12-31 00:00:00   \n",
      "78766  101039090  SIGNED  2022-04-01 00:00:00  2027-03-31 00:00:00   \n",
      "78528  101039098  SIGNED  2023-03-01 00:00:00  2028-02-29 00:00:00   \n",
      "\n",
      "       ecMaxContribution   legalBasis fundingScheme  \\\n",
      "78840          1496205.0  HORIZON.1.1   HORIZON-ERC   \n",
      "78907          1499150.0  HORIZON.1.1   HORIZON-ERC   \n",
      "78613          1482050.0  HORIZON.1.1   HORIZON-ERC   \n",
      "78766          1495000.0  HORIZON.1.1    HORIZON-AG   \n",
      "78528          1458688.0  HORIZON.1.1   HORIZON-ERC   \n",
      "\n",
      "                                             objective_y  \\\n",
      "78840  The recent detection of the coherent elastic n...   \n",
      "78907  The transition from foraging to farming repres...   \n",
      "78613  The capacity of future forests to support biod...   \n",
      "78766  Computational thinking and problem solving ski...   \n",
      "78528  Quantum technology will revolutionize informat...   \n",
      "\n",
      "                                             main_topics scientific_domain  \\\n",
      "78840  ['neutrino physics', 'particle detection techn...           Physics   \n",
      "78907  ['agriculture', 'hunter-gatherers', 'archaeobo...       Archaeology   \n",
      "78613  ['forest ecology', 'climate change', 'biodiver...           ecology   \n",
      "78766  ['Computational thinking', 'Machine-assisted t...         education   \n",
      "78528  ['Quantum technology', 'Topological protection...           Physics   \n",
      "\n",
      "       ... number_of_small_and_medium_orgs proportion_MSE all_continents Asia  \\\n",
      "78840  ...                               0            0.0       [Europe]    0   \n",
      "78907  ...                               0            0.0       [Europe]    0   \n",
      "78613  ...                               0            0.0       [Europe]    0   \n",
      "78766  ...                               0            0.0       [Europe]    0   \n",
      "78528  ...                               0            0.0       [Europe]    0   \n",
      "\n",
      "      Europe  Oceania  NaN  South America  Africa  North America  \n",
      "78840      1        0    0              0       0              0  \n",
      "78907      1        0    0              0       0              0  \n",
      "78613      1        0    0              0       0              0  \n",
      "78766      1        0    0              0       0              0  \n",
      "78528      1        0    0              0       0              0  \n",
      "\n",
      "[5 rows x 209 columns]\n",
      "<class 'pandas.core.frame.DataFrame'>\n",
      "Index: 15341 entries, 78840 to 99900\n",
      "Columns: 209 entries, id to North America\n",
      "dtypes: category(3), float64(2), int64(193), object(11)\n",
      "memory usage: 24.9+ MB\n",
      "None\n",
      "(15341, 209)\n"
     ]
    }
   ],
   "source": [
    "# Houd alleen de eerste rij per id\n",
    "fulldf = fulldf.drop_duplicates(subset='id', keep='first')\n",
    "\n",
    "# Controleer het resultaat\n",
    "print(fulldf.head())\n",
    "print(fulldf.info())\n",
    "print(fulldf.shape)"
   ]
  },
  {
   "cell_type": "code",
   "execution_count": 337,
   "id": "295964b5",
   "metadata": {},
   "outputs": [],
   "source": [
    "fulldf.to_excel(r\".\\test.xlsx\")"
   ]
  }
 ],
 "metadata": {
  "kernelspec": {
   "display_name": "project",
   "language": "python",
   "name": "python3"
  },
  "language_info": {
   "codemirror_mode": {
    "name": "ipython",
    "version": 3
   },
   "file_extension": ".py",
   "mimetype": "text/x-python",
   "name": "python",
   "nbconvert_exporter": "python",
   "pygments_lexer": "ipython3",
   "version": "3.12.7"
  }
 },
 "nbformat": 4,
 "nbformat_minor": 5
}

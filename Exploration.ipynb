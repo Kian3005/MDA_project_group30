{
 "cells": [
  {
   "cell_type": "code",
   "execution_count": 4,
   "id": "901a6358",
   "metadata": {},
   "outputs": [
    {
     "name": "stderr",
     "output_type": "stream",
     "text": [
      "c:\\Users\\kian3\\OneDrive - KU Leuven\\Documents\\lessen\\MDA\\Project\\project\\Lib\\site-packages\\openpyxl\\styles\\stylesheet.py:237: UserWarning: Workbook contains no default style, apply openpyxl's default\n",
      "  warn(\"Workbook contains no default style, apply openpyxl's default\")\n"
     ]
    }
   ],
   "source": [
    "import pandas as pd\n",
    "dfp = pd.read_excel(r\"C:\\Users\\kian3\\OneDrive - KU Leuven\\Documents\\lessen\\MDA\\Project\\cordis-HORIZONprojects-xlsx\\project.xlsx\")\n",
    "dfo = pd.read_excel(r\"C:\\Users\\kian3\\OneDrive - KU Leuven\\Documents\\lessen\\MDA\\Project\\cordis-HORIZONprojects-xlsx\\organization.xlsx\")"
   ]
  },
  {
   "cell_type": "code",
   "execution_count": null,
   "id": "aa5b4e3b",
   "metadata": {},
   "outputs": [],
   "source": [
    "dfoutput1 = pd.read_excel(r\"C:\\Users\\kian3\\OneDrive - KU Leuven\\Documents\\lessen\\MDA\\Project\\project_output_part_1.xlsx\")\n",
    "dfoutput2 = pd.read_excel(r\"C:\\Users\\kian3\\OneDrive - KU Leuven\\Documents\\lessen\\MDA\\Project\\project_output_part_2.xlsx\")"
   ]
  },
  {
   "cell_type": "code",
   "execution_count": 9,
   "id": "5e437f6c",
   "metadata": {},
   "outputs": [
    {
     "name": "stdout",
     "output_type": "stream",
     "text": [
      "              id                                          objective  \\\n",
      "0      101116741  How do longstanding, primarily non-industrial,...   \n",
      "1      101163161  The James Webb Space Telescope (JWST) has ushe...   \n",
      "2      101160499  The spatiotemporal organization of the cell ma...   \n",
      "3      101166905  The Milky Way is the cosmic environment in whi...   \n",
      "4      101162875  Cellular organisms are complex machines whose ...   \n",
      "...          ...                                                ...   \n",
      "15336  101114220  The primary objective of the work performed wi...   \n",
      "15337  101114193  Bibi Blomqvist co-founder and COO of Cogo ApS....   \n",
      "15338  101114191  In Women TechEU, HORIZER aims, over the next 9...   \n",
      "15339  101114035  A product recall is the process of retrieving ...   \n",
      "15340  101121353  Engage2innovate (E2i) will investigate and add...   \n",
      "\n",
      "                                             main_topics  \\\n",
      "0      ['digital technologies', 'economic diversity',...   \n",
      "1      ['Astrochemistry', 'Quantum Dynamics', 'Infrar...   \n",
      "2      ['biophysics', 'molecular biology', 'computati...   \n",
      "3        ['Galactic cartography', 'Milky Way structure']   \n",
      "4      ['Nanosensing', 'Biological parameters monitor...   \n",
      "...                                                  ...   \n",
      "15336  ['innovation', 'product development', 'technol...   \n",
      "15337  ['shared mobility', 'sustainability', 'urban t...   \n",
      "15338  ['business model testing', 'market research', ...   \n",
      "15339  ['product recall', 'risk assessment', 'consume...   \n",
      "15340  ['security research', 'social innovation', 'hu...   \n",
      "\n",
      "             scientific_domain          problem_type  \\\n",
      "0                 Anthropology  fundamental research   \n",
      "1                      Physics  fundamental research   \n",
      "2                      biology  fundamental research   \n",
      "3                 Astrophysics  fundamental research   \n",
      "4                Biotechnology  fundamental research   \n",
      "...                        ...                   ...   \n",
      "15336               technology      applied research   \n",
      "15337           transportation      applied research   \n",
      "15338                   energy      applied research   \n",
      "15339  business and innovation      applied research   \n",
      "15340         Computer Science      applied research   \n",
      "\n",
      "                     expected_impact  sustainability  \\\n",
      "0           ['societal', 'economic']             0.0   \n",
      "1      ['technological', 'societal']             0.0   \n",
      "2      ['societal', 'technological']             0.0   \n",
      "3      ['technological', 'societal']             0.0   \n",
      "4      ['societal', 'technological']             0.0   \n",
      "...                              ...             ...   \n",
      "15336  ['technological', 'economic']             0.0   \n",
      "15337  ['societal', 'environmental']             1.0   \n",
      "15338  ['societal', 'technological']             0.0   \n",
      "15339       ['societal', 'economic']             0.0   \n",
      "15340  ['societal', 'technological']             0.0   \n",
      "\n",
      "                                        semantic_summary  \n",
      "0      This project explores how non-industrial socie...  \n",
      "1      The project aims to revolutionize astrochemist...  \n",
      "2      The project 'In-phase' aims to develop a compu...  \n",
      "3      The project aims to create a comprehensive thr...  \n",
      "4      The MAtCHLESS project aims to develop a reliab...  \n",
      "...                                                  ...  \n",
      "15336  The project aims to bring innovation to a stag...  \n",
      "15337  The project aims to revolutionize urban transp...  \n",
      "15338  HORIZER's Women TechEU project aims to transfo...  \n",
      "15339  The project focuses on developing iComplai, a ...  \n",
      "15340  Engage2innovate (E2i) focuses on addressing ba...  \n",
      "\n",
      "[15341 rows x 8 columns]\n"
     ]
    }
   ],
   "source": [
    "df_full_output= pd.concat([dfoutput1, dfoutput2], axis=0, ignore_index=True, verify_integrity=True)\n",
    "print(df_full_output)\n"
   ]
  },
  {
   "cell_type": "code",
   "execution_count": 17,
   "id": "d350aefe",
   "metadata": {},
   "outputs": [
    {
     "name": "stdout",
     "output_type": "stream",
     "text": [
      "   projectID projectAcronym  organisationID       vatNumber  \\\n",
      "0  101116741            DOE       999981634  NL811383696B01   \n",
      "1  101163161        IRASTRO       999997736      DK31119103   \n",
      "2  101163161        IRASTRO       999854855     DE138408327   \n",
      "3  101163161        IRASTRO       999990267     DE129517720   \n",
      "4  101160499       In-phase       999874546     ESQ2818014I   \n",
      "\n",
      "                                                name shortName    SME  \\\n",
      "0                              WAGENINGEN UNIVERSITY        WU  False   \n",
      "1                                 AARHUS UNIVERSITET        AU  False   \n",
      "2                               UNIVERSITAET POTSDAM        UP  False   \n",
      "3  MAX-PLANCK-GESELLSCHAFT ZUR FORDERUNG DER WISS...       MPG  False   \n",
      "4                  UNIVERSIDAD COMPLUTENSE DE MADRID       UCM  False   \n",
      "\n",
      "  activityType                street postCode  ...  \\\n",
      "0          HES  DROEVENDAALSESTEEG 4  6708 PB  ...   \n",
      "1          HES     NORDRE RINGGADE 1     8000  ...   \n",
      "2          HES   AM NEUEN PALAIS  10    14469  ...   \n",
      "3          REC    HOFGARTENSTRASSE 8    80539  ...   \n",
      "4          HES   AVENIDA DE SENECA 2    28040  ...   \n",
      "\n",
      "                                         contactForm    contentUpdateDate  \\\n",
      "0  https://ec.europa.eu/info/funding-tenders/oppo...  2023-12-26 14:40:12   \n",
      "1  https://ec.europa.eu/info/funding-tenders/oppo...  2025-02-24 17:23:14   \n",
      "2  https://ec.europa.eu/info/funding-tenders/oppo...  2025-02-24 17:23:14   \n",
      "3  https://ec.europa.eu/info/funding-tenders/oppo...  2025-02-24 17:23:14   \n",
      "4  https://ec.europa.eu/info/funding-tenders/oppo...  2025-02-24 17:23:11   \n",
      "\n",
      "       rcn order         role ecContribution netEcContribution  totalCost  \\\n",
      "0  1906458     1  coordinator      1499998.0         1499998.0    1499998   \n",
      "1  1905956     2  participant      4246240.0         4246240.0    4246240   \n",
      "2  1908936     3  participant      1982813.0         1982813.0    1982813   \n",
      "3  1949732     1  coordinator      5856310.0         5856310.0    5856310   \n",
      "4  1906229     1  coordinator      1489128.0         1489128.0    1489128   \n",
      "\n",
      "   endOfParticipation active  \n",
      "0               False    NaN  \n",
      "1               False    NaN  \n",
      "2               False    NaN  \n",
      "3               False    NaN  \n",
      "4               False    NaN  \n",
      "\n",
      "[5 rows x 25 columns]\n"
     ]
    }
   ],
   "source": [
    "print(dfo.head())"
   ]
  },
  {
   "cell_type": "code",
   "execution_count": 60,
   "id": "06d4200a",
   "metadata": {},
   "outputs": [
    {
     "name": "stdout",
     "output_type": "stream",
     "text": [
      "(15341, 20)\n",
      "(100249, 25)\n",
      "               id   acronym  status  \\\n",
      "0       101116741       DOE  SIGNED   \n",
      "1       101163161   IRASTRO  SIGNED   \n",
      "2       101163161   IRASTRO  SIGNED   \n",
      "3       101163161   IRASTRO  SIGNED   \n",
      "4       101160499  In-phase  SIGNED   \n",
      "...           ...       ...     ...   \n",
      "100244  101121353       E2i  SIGNED   \n",
      "100245  101121353       E2i  SIGNED   \n",
      "100246  101121353       E2i  SIGNED   \n",
      "100247  101121353       E2i  SIGNED   \n",
      "100248  101121353       E2i  SIGNED   \n",
      "\n",
      "                                                    title   startDate  \\\n",
      "0       Digitizing Other Economies: A Comparative Appr...  2024-02-01   \n",
      "1       MOLECULAR QUANTUM DYNAMICS IN LOW TEMPERATURE ...  2025-08-01   \n",
      "2       MOLECULAR QUANTUM DYNAMICS IN LOW TEMPERATURE ...  2025-08-01   \n",
      "3       MOLECULAR QUANTUM DYNAMICS IN LOW TEMPERATURE ...  2025-08-01   \n",
      "4       Multiscale modelling of aberrant phase transit...  2025-06-01   \n",
      "...                                                   ...         ...   \n",
      "100244  Engage2innovate – Enhancing security solution ...  2023-08-01   \n",
      "100245  Engage2innovate – Enhancing security solution ...  2023-08-01   \n",
      "100246  Engage2innovate – Enhancing security solution ...  2023-08-01   \n",
      "100247  Engage2innovate – Enhancing security solution ...  2023-08-01   \n",
      "100248  Engage2innovate – Enhancing security solution ...  2023-08-01   \n",
      "\n",
      "           endDate totalCost_x ecMaxContribution   legalBasis  \\\n",
      "0       2029-01-31     1499998           1499998  HORIZON.1.1   \n",
      "1       2031-07-31    12085363          12085363  HORIZON.1.1   \n",
      "2       2031-07-31    12085363          12085363  HORIZON.1.1   \n",
      "3       2031-07-31    12085363          12085363  HORIZON.1.1   \n",
      "4       2030-05-31     1489128           1489128  HORIZON.1.1   \n",
      "...            ...         ...               ...          ...   \n",
      "100244  2027-03-31     1286125           1286125  HORIZON.2.3   \n",
      "100245  2027-03-31     1286125           1286125  HORIZON.2.3   \n",
      "100246  2027-03-31     1286125           1286125  HORIZON.2.3   \n",
      "100247  2027-03-31     1286125           1286125  HORIZON.2.3   \n",
      "100248  2027-03-31     1286125           1286125  HORIZON.2.3   \n",
      "\n",
      "                             topics  ...  \\\n",
      "0                      ERC-2023-STG  ...   \n",
      "1                      ERC-2024-SyG  ...   \n",
      "2                      ERC-2024-SyG  ...   \n",
      "3                      ERC-2024-SyG  ...   \n",
      "4                      ERC-2024-STG  ...   \n",
      "...                             ...  ...   \n",
      "100244  HORIZON-CL3-2022-SSRI-01-04  ...   \n",
      "100245  HORIZON-CL3-2022-SSRI-01-04  ...   \n",
      "100246  HORIZON-CL3-2022-SSRI-01-04  ...   \n",
      "100247  HORIZON-CL3-2022-SSRI-01-04  ...   \n",
      "100248  HORIZON-CL3-2022-SSRI-01-04  ...   \n",
      "\n",
      "                                              contactForm  \\\n",
      "0       https://ec.europa.eu/info/funding-tenders/oppo...   \n",
      "1       https://ec.europa.eu/info/funding-tenders/oppo...   \n",
      "2       https://ec.europa.eu/info/funding-tenders/oppo...   \n",
      "3       https://ec.europa.eu/info/funding-tenders/oppo...   \n",
      "4       https://ec.europa.eu/info/funding-tenders/oppo...   \n",
      "...                                                   ...   \n",
      "100244  https://ec.europa.eu/info/funding-tenders/oppo...   \n",
      "100245  https://ec.europa.eu/info/funding-tenders/oppo...   \n",
      "100246  https://ec.europa.eu/info/funding-tenders/oppo...   \n",
      "100247  https://ec.europa.eu/info/funding-tenders/oppo...   \n",
      "100248  https://ec.europa.eu/info/funding-tenders/oppo...   \n",
      "\n",
      "        contentUpdateDate_y    rcn_y order               role  ecContribution  \\\n",
      "0       2023-12-26 14:40:12  1906458     1        coordinator      1499998.00   \n",
      "1       2025-02-24 17:23:14  1905956     2        participant      4246240.00   \n",
      "2       2025-02-24 17:23:14  1908936     3        participant      1982813.00   \n",
      "3       2025-02-24 17:23:14  1949732     1        coordinator      5856310.00   \n",
      "4       2025-02-24 17:23:11  1906229     1        coordinator      1489128.00   \n",
      "...                     ...      ...   ...                ...             ...   \n",
      "100244  2023-08-10 18:08:28  1946979     5  associatedPartner             NaN   \n",
      "100245  2023-08-10 18:08:28  1946983     4        participant       311172.50   \n",
      "100246  2023-08-10 18:08:28  1946981     3        participant       262848.75   \n",
      "100247  2023-08-10 18:08:28  1933629     2        participant       358562.50   \n",
      "100248  2023-08-10 18:08:28  1909673     6  associatedPartner             NaN   \n",
      "\n",
      "       netEcContribution totalCost_y  endOfParticipation active  \n",
      "0             1499998.00     1499998               False    NaN  \n",
      "1             4246240.00     4246240               False    NaN  \n",
      "2             1982813.00     1982813               False    NaN  \n",
      "3             5856310.00     5856310               False    NaN  \n",
      "4             1489128.00     1489128               False    NaN  \n",
      "...                  ...         ...                 ...    ...  \n",
      "100244              0.00           0               False    NaN  \n",
      "100245         311172.50    311172,5               False    NaN  \n",
      "100246         262848.75   262848,75               False    NaN  \n",
      "100247         358562.50    358562,5               False    NaN  \n",
      "100248              0.00           0               False    NaN  \n",
      "\n",
      "[100249 rows x 52 columns]\n"
     ]
    }
   ],
   "source": [
    "print(dfp.shape)\n",
    "print(dfo.shape)\n",
    "# One to one merge dfp and df_full_output\n",
    "newdf = dfp.merge(df_full_output, on=\"id\")\n",
    "### One to many merge newdf and dfo, except 100249 rows in fulldf\n",
    "fulldf = newdf.merge(dfo, left_on=\"id\", right_on=\"projectID\", validate=\"one_to_many\")\n",
    "print(fulldf)"
   ]
  },
  {
   "cell_type": "code",
   "execution_count": 47,
   "id": "c2bfcc62",
   "metadata": {},
   "outputs": [
    {
     "name": "stdout",
     "output_type": "stream",
     "text": [
      "          id   acronym  status  \\\n",
      "0  101116741       DOE  SIGNED   \n",
      "1  101163161   IRASTRO  SIGNED   \n",
      "2  101163161   IRASTRO  SIGNED   \n",
      "3  101163161   IRASTRO  SIGNED   \n",
      "4  101160499  In-phase  SIGNED   \n",
      "\n",
      "                                               title   startDate     endDate  \\\n",
      "0  Digitizing Other Economies: A Comparative Appr...  2024-02-01  2029-01-31   \n",
      "1  MOLECULAR QUANTUM DYNAMICS IN LOW TEMPERATURE ...  2025-08-01  2031-07-31   \n",
      "2  MOLECULAR QUANTUM DYNAMICS IN LOW TEMPERATURE ...  2025-08-01  2031-07-31   \n",
      "3  MOLECULAR QUANTUM DYNAMICS IN LOW TEMPERATURE ...  2025-08-01  2031-07-31   \n",
      "4  Multiscale modelling of aberrant phase transit...  2025-06-01  2030-05-31   \n",
      "\n",
      "  totalCost_x ecMaxContribution   legalBasis        topics  ...  \\\n",
      "0     1499998           1499998  HORIZON.1.1  ERC-2023-STG  ...   \n",
      "1    12085363          12085363  HORIZON.1.1  ERC-2024-SyG  ...   \n",
      "2    12085363          12085363  HORIZON.1.1  ERC-2024-SyG  ...   \n",
      "3    12085363          12085363  HORIZON.1.1  ERC-2024-SyG  ...   \n",
      "4     1489128           1489128  HORIZON.1.1  ERC-2024-STG  ...   \n",
      "\n",
      "                                         contactForm  contentUpdateDate_y  \\\n",
      "0  https://ec.europa.eu/info/funding-tenders/oppo...  2023-12-26 14:40:12   \n",
      "1  https://ec.europa.eu/info/funding-tenders/oppo...  2025-02-24 17:23:14   \n",
      "2  https://ec.europa.eu/info/funding-tenders/oppo...  2025-02-24 17:23:14   \n",
      "3  https://ec.europa.eu/info/funding-tenders/oppo...  2025-02-24 17:23:14   \n",
      "4  https://ec.europa.eu/info/funding-tenders/oppo...  2025-02-24 17:23:11   \n",
      "\n",
      "     rcn_y order         role  ecContribution netEcContribution totalCost_y  \\\n",
      "0  1906458     1  coordinator       1499998.0         1499998.0     1499998   \n",
      "1  1905956     2  participant       4246240.0         4246240.0     4246240   \n",
      "2  1908936     3  participant       1982813.0         1982813.0     1982813   \n",
      "3  1949732     1  coordinator       5856310.0         5856310.0     5856310   \n",
      "4  1906229     1  coordinator       1489128.0         1489128.0     1489128   \n",
      "\n",
      "   endOfParticipation active  \n",
      "0               False    NaN  \n",
      "1               False    NaN  \n",
      "2               False    NaN  \n",
      "3               False    NaN  \n",
      "4               False    NaN  \n",
      "\n",
      "[5 rows x 52 columns]\n",
      "<class 'pandas.core.frame.DataFrame'>\n",
      "RangeIndex: 100249 entries, 0 to 100248\n",
      "Data columns (total 52 columns):\n",
      " #   Column               Non-Null Count   Dtype  \n",
      "---  ------               --------------   -----  \n",
      " 0   id                   100249 non-null  int64  \n",
      " 1   acronym              100249 non-null  object \n",
      " 2   status               100249 non-null  object \n",
      " 3   title                100249 non-null  object \n",
      " 4   startDate            100249 non-null  object \n",
      " 5   endDate              100249 non-null  object \n",
      " 6   totalCost_x          100249 non-null  object \n",
      " 7   ecMaxContribution    100249 non-null  object \n",
      " 8   legalBasis           100249 non-null  object \n",
      " 9   topics               100249 non-null  object \n",
      " 10  ecSignatureDate      100231 non-null  object \n",
      " 11  frameworkProgramme   100249 non-null  object \n",
      " 12  masterCall           100249 non-null  object \n",
      " 13  subCall              100249 non-null  object \n",
      " 14  fundingScheme        100248 non-null  object \n",
      " 15  nature               0 non-null       float64\n",
      " 16  objective_x          100249 non-null  object \n",
      " 17  contentUpdateDate_x  100249 non-null  object \n",
      " 18  rcn_x                100249 non-null  int64  \n",
      " 19  grantDoi             98904 non-null   object \n",
      " 20  objective_y          100249 non-null  object \n",
      " 21  main_topics          100157 non-null  object \n",
      " 22  scientific_domain    99201 non-null   object \n",
      " 23  problem_type         100157 non-null  object \n",
      " 24  expected_impact      100157 non-null  object \n",
      " 25  sustainability       100157 non-null  float64\n",
      " 26  semantic_summary     100157 non-null  object \n",
      " 27  projectID            100249 non-null  int64  \n",
      " 28  projectAcronym       100249 non-null  object \n",
      " 29  organisationID       100249 non-null  int64  \n",
      " 30  vatNumber            84846 non-null   object \n",
      " 31  name                 100249 non-null  object \n",
      " 32  shortName            74742 non-null   object \n",
      " 33  SME                  99986 non-null   object \n",
      " 34  activityType         100225 non-null  object \n",
      " 35  street               99949 non-null   object \n",
      " 36  postCode             99463 non-null   object \n",
      " 37  city                 99986 non-null   object \n",
      " 38  country              100236 non-null  object \n",
      " 39  nutsCode             99971 non-null   object \n",
      " 40  geolocation          99661 non-null   object \n",
      " 41  organizationURL      61295 non-null   object \n",
      " 42  contactForm          100249 non-null  object \n",
      " 43  contentUpdateDate_y  100249 non-null  object \n",
      " 44  rcn_y                100249 non-null  int64  \n",
      " 45  order                100249 non-null  int64  \n",
      " 46  role                 100249 non-null  object \n",
      " 47  ecContribution       84545 non-null   float64\n",
      " 48  netEcContribution    100207 non-null  float64\n",
      " 49  totalCost_y          99313 non-null   object \n",
      " 50  endOfParticipation   100249 non-null  bool   \n",
      " 51  active               0 non-null       float64\n",
      "dtypes: bool(1), float64(5), int64(6), object(40)\n",
      "memory usage: 39.1+ MB\n",
      "None\n"
     ]
    }
   ],
   "source": [
    "print(fulldf.head())\n",
    "print(fulldf.info())"
   ]
  },
  {
   "cell_type": "code",
   "execution_count": 61,
   "id": "75bd2862",
   "metadata": {},
   "outputs": [],
   "source": [
    "# Delete active and nature (empty)\n",
    "fulldf = fulldf.drop(columns=[\"active\", \"nature\"])"
   ]
  },
  {
   "cell_type": "code",
   "execution_count": 49,
   "id": "6d23ade7",
   "metadata": {},
   "outputs": [
    {
     "name": "stdout",
     "output_type": "stream",
     "text": [
      "          id   acronym  status  \\\n",
      "0  101116741       DOE  SIGNED   \n",
      "1  101163161   IRASTRO  SIGNED   \n",
      "2  101163161   IRASTRO  SIGNED   \n",
      "3  101163161   IRASTRO  SIGNED   \n",
      "4  101160499  In-phase  SIGNED   \n",
      "\n",
      "                                               title   startDate     endDate  \\\n",
      "0  Digitizing Other Economies: A Comparative Appr...  2024-02-01  2029-01-31   \n",
      "1  MOLECULAR QUANTUM DYNAMICS IN LOW TEMPERATURE ...  2025-08-01  2031-07-31   \n",
      "2  MOLECULAR QUANTUM DYNAMICS IN LOW TEMPERATURE ...  2025-08-01  2031-07-31   \n",
      "3  MOLECULAR QUANTUM DYNAMICS IN LOW TEMPERATURE ...  2025-08-01  2031-07-31   \n",
      "4  Multiscale modelling of aberrant phase transit...  2025-06-01  2030-05-31   \n",
      "\n",
      "  totalCost_x ecMaxContribution   legalBasis        topics  ...  \\\n",
      "0     1499998           1499998  HORIZON.1.1  ERC-2023-STG  ...   \n",
      "1    12085363          12085363  HORIZON.1.1  ERC-2024-SyG  ...   \n",
      "2    12085363          12085363  HORIZON.1.1  ERC-2024-SyG  ...   \n",
      "3    12085363          12085363  HORIZON.1.1  ERC-2024-SyG  ...   \n",
      "4     1489128           1489128  HORIZON.1.1  ERC-2024-STG  ...   \n",
      "\n",
      "                     organizationURL  \\\n",
      "0  http://www.wageningenur.nl/nl.htm   \n",
      "1                   http://www.au.dk   \n",
      "2          http://www.uni-potsdam.de   \n",
      "3                  http://www.mpg.de   \n",
      "4                  http://www.ucm.es   \n",
      "\n",
      "                                         contactForm  contentUpdateDate_y  \\\n",
      "0  https://ec.europa.eu/info/funding-tenders/oppo...  2023-12-26 14:40:12   \n",
      "1  https://ec.europa.eu/info/funding-tenders/oppo...  2025-02-24 17:23:14   \n",
      "2  https://ec.europa.eu/info/funding-tenders/oppo...  2025-02-24 17:23:14   \n",
      "3  https://ec.europa.eu/info/funding-tenders/oppo...  2025-02-24 17:23:14   \n",
      "4  https://ec.europa.eu/info/funding-tenders/oppo...  2025-02-24 17:23:11   \n",
      "\n",
      "     rcn_y order         role ecContribution  netEcContribution totalCost_y  \\\n",
      "0  1906458     1  coordinator      1499998.0          1499998.0     1499998   \n",
      "1  1905956     2  participant      4246240.0          4246240.0     4246240   \n",
      "2  1908936     3  participant      1982813.0          1982813.0     1982813   \n",
      "3  1949732     1  coordinator      5856310.0          5856310.0     5856310   \n",
      "4  1906229     1  coordinator      1489128.0          1489128.0     1489128   \n",
      "\n",
      "  endOfParticipation  \n",
      "0              False  \n",
      "1              False  \n",
      "2              False  \n",
      "3              False  \n",
      "4              False  \n",
      "\n",
      "[5 rows x 50 columns]\n",
      "<class 'pandas.core.frame.DataFrame'>\n",
      "RangeIndex: 100249 entries, 0 to 100248\n",
      "Data columns (total 50 columns):\n",
      " #   Column               Non-Null Count   Dtype  \n",
      "---  ------               --------------   -----  \n",
      " 0   id                   100249 non-null  int64  \n",
      " 1   acronym              100249 non-null  object \n",
      " 2   status               100249 non-null  object \n",
      " 3   title                100249 non-null  object \n",
      " 4   startDate            100249 non-null  object \n",
      " 5   endDate              100249 non-null  object \n",
      " 6   totalCost_x          100249 non-null  object \n",
      " 7   ecMaxContribution    100249 non-null  object \n",
      " 8   legalBasis           100249 non-null  object \n",
      " 9   topics               100249 non-null  object \n",
      " 10  ecSignatureDate      100231 non-null  object \n",
      " 11  frameworkProgramme   100249 non-null  object \n",
      " 12  masterCall           100249 non-null  object \n",
      " 13  subCall              100249 non-null  object \n",
      " 14  fundingScheme        100248 non-null  object \n",
      " 15  objective_x          100249 non-null  object \n",
      " 16  contentUpdateDate_x  100249 non-null  object \n",
      " 17  rcn_x                100249 non-null  int64  \n",
      " 18  grantDoi             98904 non-null   object \n",
      " 19  objective_y          100249 non-null  object \n",
      " 20  main_topics          100157 non-null  object \n",
      " 21  scientific_domain    99201 non-null   object \n",
      " 22  problem_type         100157 non-null  object \n",
      " 23  expected_impact      100157 non-null  object \n",
      " 24  sustainability       100157 non-null  float64\n",
      " 25  semantic_summary     100157 non-null  object \n",
      " 26  projectID            100249 non-null  int64  \n",
      " 27  projectAcronym       100249 non-null  object \n",
      " 28  organisationID       100249 non-null  int64  \n",
      " 29  vatNumber            84846 non-null   object \n",
      " 30  name                 100249 non-null  object \n",
      " 31  shortName            74742 non-null   object \n",
      " 32  SME                  99986 non-null   object \n",
      " 33  activityType         100225 non-null  object \n",
      " 34  street               99949 non-null   object \n",
      " 35  postCode             99463 non-null   object \n",
      " 36  city                 99986 non-null   object \n",
      " 37  country              100236 non-null  object \n",
      " 38  nutsCode             99971 non-null   object \n",
      " 39  geolocation          99661 non-null   object \n",
      " 40  organizationURL      61295 non-null   object \n",
      " 41  contactForm          100249 non-null  object \n",
      " 42  contentUpdateDate_y  100249 non-null  object \n",
      " 43  rcn_y                100249 non-null  int64  \n",
      " 44  order                100249 non-null  int64  \n",
      " 45  role                 100249 non-null  object \n",
      " 46  ecContribution       84545 non-null   float64\n",
      " 47  netEcContribution    100207 non-null  float64\n",
      " 48  totalCost_y          99313 non-null   object \n",
      " 49  endOfParticipation   100249 non-null  bool   \n",
      "dtypes: bool(1), float64(3), int64(6), object(40)\n",
      "memory usage: 37.6+ MB\n",
      "None\n",
      "(100249, 50)\n",
      "                 id          rcn_x  sustainability     projectID  \\\n",
      "count  1.002490e+05  100249.000000   100157.000000  1.002490e+05   \n",
      "mean   1.015230e+08  252706.127772        0.642242  1.015230e+08   \n",
      "std    6.024056e+06   10016.661067        0.479343  6.024056e+06   \n",
      "min    1.010390e+08  237915.000000        0.000000  1.010390e+08   \n",
      "25%    1.010799e+08  242522.000000        0.000000  1.010799e+08   \n",
      "50%    1.011127e+08  254632.000000        1.000000  1.011127e+08   \n",
      "75%    1.011393e+08  262082.000000        1.000000  1.011393e+08   \n",
      "max    1.901999e+08  268971.000000        1.000000  1.901999e+08   \n",
      "\n",
      "       organisationID         rcn_y          order  ecContribution  \\\n",
      "count    1.002490e+05  1.002490e+05  100249.000000    8.454500e+04   \n",
      "mean     9.660163e+08  2.010841e+06       9.132670    5.185332e+05   \n",
      "std      4.387874e+07  2.257320e+05      10.012959    2.471223e+06   \n",
      "min      8.746348e+08  1.905548e+06       1.000000    0.000000e+00   \n",
      "25%      9.246476e+08  1.906872e+06       3.000000    1.508890e+05   \n",
      "50%      9.982900e+08  1.922674e+06       7.000000    2.826936e+05   \n",
      "75%      9.998930e+08  1.981663e+06      12.000000    5.193562e+05   \n",
      "max      9.999979e+08  3.146861e+06     175.000000    4.326332e+08   \n",
      "\n",
      "       netEcContribution  \n",
      "count       1.002070e+05  \n",
      "mean        4.362490e+05  \n",
      "std         2.175750e+06  \n",
      "min         0.000000e+00  \n",
      "25%         7.937500e+04  \n",
      "50%         2.319712e+05  \n",
      "75%         4.552188e+05  \n",
      "max         4.326332e+08  \n"
     ]
    }
   ],
   "source": [
    "print(fulldf.head())\n",
    "print(fulldf.info())\n",
    "print(fulldf.shape)\n",
    "print(fulldf.describe())"
   ]
  },
  {
   "cell_type": "code",
   "execution_count": 62,
   "id": "35469ff3",
   "metadata": {},
   "outputs": [
    {
     "name": "stdout",
     "output_type": "stream",
     "text": [
      "object\n",
      "801992\n",
      "100273\n"
     ]
    },
    {
     "data": {
      "text/plain": [
       "CategoricalDtype(categories=['CLOSED', 'SIGNED', 'TERMINATED'], ordered=False, categories_dtype=object)"
      ]
     },
     "execution_count": 62,
     "metadata": {},
     "output_type": "execute_result"
    }
   ],
   "source": [
    "# To save memory and speed ML training save categorical variables as category datatype\n",
    "print(fulldf[\"status\"].dtype)\n",
    "print(fulldf[\"status\"].nbytes)\n",
    "fulldf[\"status\"] = fulldf[\"status\"].astype(\"category\")\n",
    "print(fulldf[\"status\"].nbytes)\n",
    "fulldf[\"status\"].dtype"
   ]
  },
  {
   "cell_type": "code",
   "execution_count": null,
   "id": "4a926df7",
   "metadata": {},
   "outputs": [
    {
     "name": "stdout",
     "output_type": "stream",
     "text": [
      "object\n",
      "801992\n",
      "100281\n"
     ]
    },
    {
     "data": {
      "text/plain": [
       "CategoricalDtype(categories=['associatedPartner', 'coordinator', 'participant',\n",
       "                  'thirdParty'],\n",
       ", ordered=False, categories_dtype=object)"
      ]
     },
     "execution_count": 63,
     "metadata": {},
     "output_type": "execute_result"
    }
   ],
   "source": [
    "# Can be used to include features about the amount of coordinators, participants, ... of a project\n",
    "print(fulldf[\"role\"].dtype)\n",
    "print(fulldf[\"role\"].nbytes)\n",
    "fulldf[\"role\"] = fulldf[\"role\"].astype(\"category\")\n",
    "print(fulldf[\"role\"].nbytes)\n",
    "fulldf[\"role\"].dtype"
   ]
  },
  {
   "cell_type": "code",
   "execution_count": 64,
   "id": "124a71d0",
   "metadata": {},
   "outputs": [
    {
     "name": "stdout",
     "output_type": "stream",
     "text": [
      "object\n",
      "801992\n",
      "100369\n"
     ]
    },
    {
     "data": {
      "text/plain": [
       "CategoricalDtype(categories=['EURATOM2027', 'HORIZON.1.1', 'HORIZON.1.2', 'HORIZON.1.3',\n",
       "                  'HORIZON.2.1', 'HORIZON.2.2', 'HORIZON.2.3', 'HORIZON.2.4',\n",
       "                  'HORIZON.2.5', 'HORIZON.2.6', 'HORIZON.3.1', 'HORIZON.3.2',\n",
       "                  'HORIZON.3.3', 'HORIZON.4.1', 'HORIZON.4.2'],\n",
       ", ordered=False, categories_dtype=object)"
      ]
     },
     "execution_count": 64,
     "metadata": {},
     "output_type": "execute_result"
    }
   ],
   "source": [
    "# 15 different levels, maybe add as a feature?\n",
    "print(fulldf[\"legalBasis\"].dtype)\n",
    "print(fulldf[\"legalBasis\"].nbytes)\n",
    "fulldf[\"legalBasis\"] = fulldf[\"legalBasis\"].astype(\"category\")\n",
    "print(fulldf[\"legalBasis\"].nbytes)\n",
    "fulldf[\"legalBasis\"].dtype"
   ]
  },
  {
   "cell_type": "code",
   "execution_count": 65,
   "id": "74d0e339",
   "metadata": {},
   "outputs": [
    {
     "name": "stdout",
     "output_type": "stream",
     "text": [
      "object\n",
      "801992\n",
      "216842\n"
     ]
    },
    {
     "data": {
      "text/plain": [
       "CategoricalDtype(categories=['ERC-2021-ADG', 'ERC-2021-COG', 'ERC-2021-STG',\n",
       "                  'ERC-2022-ADG', 'ERC-2022-COG', 'ERC-2022-POC1',\n",
       "                  'ERC-2022-POC2', 'ERC-2022-STG', 'ERC-2022-SyG',\n",
       "                  'ERC-2023-ADG',\n",
       "                  ...\n",
       "                  'HORIZON-WIDERA-2024-ERA-01-01',\n",
       "                  'HORIZON-WIDERA-2024-ERA-01-03',\n",
       "                  'HORIZON-WIDERA-2024-ERA-01-04',\n",
       "                  'HORIZON-WIDERA-2024-ERA-01-07',\n",
       "                  'HORIZON-WIDERA-2024-ERA-01-08',\n",
       "                  'HORIZON-WIDERA-2024-ERA-01-09',\n",
       "                  'HORIZON-WIDERA-2024-ERA-01-11',\n",
       "                  'HORIZON-WIDERA-2024-ERA-01-12',\n",
       "                  'HORIZON-WIDERA-2024-EUCYS-IBA',\n",
       "                  'HORIZON-WIDERA-2024-WIRE-IBA'],\n",
       ", ordered=False, categories_dtype=object)"
      ]
     },
     "execution_count": 65,
     "metadata": {},
     "output_type": "execute_result"
    }
   ],
   "source": [
    "# too many, only use our topic feature\n",
    "print(fulldf[\"topics\"].dtype)\n",
    "print(fulldf[\"topics\"].nbytes)\n",
    "fulldf[\"topics\"] = fulldf[\"topics\"].astype(\"category\")\n",
    "print(fulldf[\"topics\"].nbytes)\n",
    "fulldf[\"topics\"].dtype"
   ]
  },
  {
   "cell_type": "code",
   "execution_count": 66,
   "id": "734d42d3",
   "metadata": {},
   "outputs": [
    {
     "name": "stdout",
     "output_type": "stream",
     "text": [
      "object\n",
      "801992\n",
      "100257\n"
     ]
    }
   ],
   "source": [
    "# one category, will be dropped as it is not informative\n",
    "print(fulldf[\"frameworkProgramme\"].dtype)\n",
    "print(fulldf[\"frameworkProgramme\"].nbytes)\n",
    "fulldf[\"frameworkProgramme\"] = fulldf[\"frameworkProgramme\"].astype(\"category\")\n",
    "print(fulldf[\"frameworkProgramme\"].nbytes)\n",
    "fulldf[\"frameworkProgramme\"].dtype\n",
    "fulldf = fulldf.drop(columns=[\"frameworkProgramme\"])"
   ]
  },
  {
   "cell_type": "code",
   "execution_count": 67,
   "id": "335a644f",
   "metadata": {},
   "outputs": [
    {
     "name": "stdout",
     "output_type": "stream",
     "text": [
      "object\n",
      "801992\n",
      "204402\n"
     ]
    },
    {
     "data": {
      "text/plain": [
       "CategoricalDtype(categories=['ERC-2021-ADG', 'ERC-2021-COG', 'ERC-2021-STG',\n",
       "                  'ERC-2022-ADG', 'ERC-2022-COG', 'ERC-2022-POC1',\n",
       "                  'ERC-2022-POC2', 'ERC-2022-STG', 'ERC-2022-SYG',\n",
       "                  'ERC-2023-ADG',\n",
       "                  ...\n",
       "                  'HORIZON-WIDERA-2023-ESOF-IBA',\n",
       "                  'HORIZON-WIDERA-2023-EU-CECR-IBA',\n",
       "                  'HORIZON-WIDERA-2023-EUCYS-IBA',\n",
       "                  'HORIZON-WIDERA-2023-RESAVER-IBA',\n",
       "                  'HORIZON-WIDERA-2023-TALENTS-01',\n",
       "                  'HORIZON-WIDERA-2023-TALENTS-02',\n",
       "                  'HORIZON-WIDERA-2024-COST-SGA', 'HORIZON-WIDERA-2024-ERA-01',\n",
       "                  'HORIZON-WIDERA-2024-EUCYS-IBA',\n",
       "                  'HORIZON-WIDERA-2024-WIRE-IBA'],\n",
       ", ordered=False, categories_dtype=object)"
      ]
     },
     "execution_count": 67,
     "metadata": {},
     "output_type": "execute_result"
    }
   ],
   "source": [
    "# Also too many levels, looks like topics (test dubble columns later)\n",
    "print(fulldf[\"masterCall\"].dtype)\n",
    "print(fulldf[\"masterCall\"].nbytes)\n",
    "fulldf[\"masterCall\"] = fulldf[\"masterCall\"].astype(\"category\")\n",
    "print(fulldf[\"masterCall\"].nbytes)\n",
    "fulldf[\"masterCall\"].dtype\n"
   ]
  },
  {
   "cell_type": "code",
   "execution_count": 68,
   "id": "c1880481",
   "metadata": {},
   "outputs": [
    {
     "name": "stdout",
     "output_type": "stream",
     "text": [
      "object\n",
      "801992\n",
      "204402\n"
     ]
    },
    {
     "data": {
      "text/plain": [
       "CategoricalDtype(categories=['ERC-2021-ADG', 'ERC-2021-COG', 'ERC-2021-STG',\n",
       "                  'ERC-2022-ADG', 'ERC-2022-COG', 'ERC-2022-POC1',\n",
       "                  'ERC-2022-POC2', 'ERC-2022-STG', 'ERC-2022-SYG',\n",
       "                  'ERC-2023-ADG',\n",
       "                  ...\n",
       "                  'HORIZON-WIDERA-2023-ESOF-IBA',\n",
       "                  'HORIZON-WIDERA-2023-EU-CECR-IBA',\n",
       "                  'HORIZON-WIDERA-2023-EUCYS-IBA',\n",
       "                  'HORIZON-WIDERA-2023-RESAVER-IBA',\n",
       "                  'HORIZON-WIDERA-2023-TALENTS-01',\n",
       "                  'HORIZON-WIDERA-2023-TALENTS-02',\n",
       "                  'HORIZON-WIDERA-2024-COST-SGA', 'HORIZON-WIDERA-2024-ERA-01',\n",
       "                  'HORIZON-WIDERA-2024-EUCYS-IBA',\n",
       "                  'HORIZON-WIDERA-2024-WIRE-IBA'],\n",
       ", ordered=False, categories_dtype=object)"
      ]
     },
     "execution_count": 68,
     "metadata": {},
     "output_type": "execute_result"
    }
   ],
   "source": [
    "# Also too many levels, looks like topics and mastercall (test dubble columns later)\n",
    "print(fulldf[\"subCall\"].dtype)\n",
    "print(fulldf[\"subCall\"].nbytes)\n",
    "fulldf[\"subCall\"] = fulldf[\"subCall\"].astype(\"category\")\n",
    "print(fulldf[\"subCall\"].nbytes)\n",
    "fulldf[\"subCall\"].dtype"
   ]
  },
  {
   "cell_type": "code",
   "execution_count": 69,
   "id": "de652b62",
   "metadata": {},
   "outputs": [
    {
     "name": "stdout",
     "output_type": "stream",
     "text": [
      "object\n",
      "801992\n",
      "100561\n"
     ]
    },
    {
     "data": {
      "text/plain": [
       "CategoricalDtype(categories=['CSA', 'EIC', 'EIC-ACC', 'ERC', 'ERC-POC', 'ERC-SYG',\n",
       "                  'EURATOM-COFUND', 'EURATOM-CSA', 'EURATOM-IA', 'EURATOM-RIA',\n",
       "                  'HORIZON-AG', 'HORIZON-AG-LS', 'HORIZON-AG-UN',\n",
       "                  'HORIZON-COFUND', 'HORIZON-CSA', 'HORIZON-EIC',\n",
       "                  'HORIZON-EIC-ACC', 'HORIZON-EIC-ACC-BF', 'HORIZON-EIT-KIC',\n",
       "                  'HORIZON-ERC', 'HORIZON-ERC-POC', 'HORIZON-ERC-SYG',\n",
       "                  'HORIZON-IA', 'HORIZON-JU-CSA', 'HORIZON-JU-IA',\n",
       "                  'HORIZON-JU-RIA', 'HORIZON-PCP', 'HORIZON-RIA',\n",
       "                  'HORIZON-TMA-MSCA-Cofund-D', 'HORIZON-TMA-MSCA-Cofund-P',\n",
       "                  'HORIZON-TMA-MSCA-DN', 'HORIZON-TMA-MSCA-DN-ID',\n",
       "                  'HORIZON-TMA-MSCA-DN-JD', 'HORIZON-TMA-MSCA-PF-EF',\n",
       "                  'HORIZON-TMA-MSCA-PF-GF', 'HORIZON-TMA-MSCA-SE', 'IA',\n",
       "                  'MSCA-PF', 'RIA'],\n",
       ", ordered=False, categories_dtype=object)"
      ]
     },
     "execution_count": 69,
     "metadata": {},
     "output_type": "execute_result"
    }
   ],
   "source": [
    "# +30 cat's but looks like there is a lot of subschemes (ERC, EURATOM, HORIZON, EI...)\n",
    "print(fulldf[\"fundingScheme\"].dtype)\n",
    "print(fulldf[\"fundingScheme\"].nbytes)\n",
    "fulldf[\"fundingScheme\"] = fulldf[\"fundingScheme\"].astype(\"category\")\n",
    "print(fulldf[\"fundingScheme\"].nbytes)\n",
    "fulldf[\"fundingScheme\"].dtype"
   ]
  },
  {
   "cell_type": "code",
   "execution_count": null,
   "id": "2ace974f",
   "metadata": {},
   "outputs": [
    {
     "name": "stdout",
     "output_type": "stream",
     "text": [
      "object\n",
      "801992\n",
      "100289\n"
     ]
    },
    {
     "data": {
      "text/plain": [
       "CategoricalDtype(categories=['HES', 'OTH', 'PRC', 'PUB', 'REC'], ordered=False, categories_dtype=object)"
      ]
     },
     "execution_count": 70,
     "metadata": {},
     "output_type": "execute_result"
    }
   ],
   "source": [
    "# possible feature if we want to do something with the originizations activity types\n",
    "print(fulldf[\"activityType\"].dtype)\n",
    "print(fulldf[\"activityType\"].nbytes)\n",
    "fulldf[\"activityType\"] = fulldf[\"activityType\"].astype(\"category\")\n",
    "print(fulldf[\"activityType\"].nbytes)\n",
    "fulldf[\"activityType\"].dtype"
   ]
  },
  {
   "cell_type": "code",
   "execution_count": null,
   "id": "96995fc2",
   "metadata": {},
   "outputs": [
    {
     "name": "stdout",
     "output_type": "stream",
     "text": [
      "object\n",
      "801992\n",
      "201858\n"
     ]
    },
    {
     "data": {
      "text/plain": [
       "CategoricalDtype(categories=['AD', 'AE', 'AF', 'AI', 'AL', 'AM', 'AO', 'AR', 'AT', 'AU',\n",
       "                  ...\n",
       "                  'US', 'UY', 'UZ', 'VA', 'VE', 'VN', 'XK', 'ZA', 'ZM', 'ZW'],\n",
       ", ordered=False, categories_dtype=object)"
      ]
     },
     "execution_count": 71,
     "metadata": {},
     "output_type": "execute_result"
    }
   ],
   "source": [
    "# Maybe if we want to group variables in region and then check influence on funding? Or put on a worldmap?\n",
    "print(fulldf[\"country\"].dtype)\n",
    "print(fulldf[\"country\"].nbytes)\n",
    "fulldf[\"country\"] = fulldf[\"country\"].astype(\"category\")\n",
    "print(fulldf[\"country\"].nbytes)\n",
    "fulldf[\"country\"].dtype"
   ]
  },
  {
   "cell_type": "code",
   "execution_count": null,
   "id": "e36433a3",
   "metadata": {},
   "outputs": [],
   "source": []
  }
 ],
 "metadata": {
  "kernelspec": {
   "display_name": "project",
   "language": "python",
   "name": "python3"
  },
  "language_info": {
   "codemirror_mode": {
    "name": "ipython",
    "version": 3
   },
   "file_extension": ".py",
   "mimetype": "text/x-python",
   "name": "python",
   "nbconvert_exporter": "python",
   "pygments_lexer": "ipython3",
   "version": "3.12.7"
  }
 },
 "nbformat": 4,
 "nbformat_minor": 5
}
